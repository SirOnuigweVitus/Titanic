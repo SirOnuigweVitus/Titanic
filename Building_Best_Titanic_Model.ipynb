{
  "nbformat": 4,
  "nbformat_minor": 0,
  "metadata": {
    "kernelspec": {
      "display_name": "Python 3",
      "language": "python",
      "name": "python3"
    },
    "language_info": {
      "codemirror_mode": {
        "name": "ipython",
        "version": 3
      },
      "file_extension": ".py",
      "mimetype": "text/x-python",
      "name": "python",
      "nbconvert_exporter": "python",
      "pygments_lexer": "ipython3",
      "version": "3.6.6"
    },
    "colab": {
      "name": "Building-Best-Titanic-Model.ipynb",
      "provenance": [],
      "collapsed_sections": [
        "WKLMHPlUNDRT",
        "qJg_VHnONDRr",
        "4WIkiPlgNDSy",
        "FerKnqqTNDTz",
        "n-UjRy9mNDT1",
        "f7D0In6ZNDUj",
        "ZvooQZ7bNDVF",
        "_VarqK7TNDVd",
        "q82VY4L9NDVy",
        "mi-quY_vNDV5",
        "1Vpr6kbXNDV_",
        "4ALuz4seNDWv",
        "QsIayrTcNDY7",
        "hoMl9JwYNDZx",
        "U_qqtC3yNDa4",
        "5efWCiqYNDa-",
        "ia5BoeEUNDcT",
        "mtdOnkZfNDdM",
        "garflhudNDdm",
        "7lOAEjAcNDep",
        "6tGqvlkgNDe_",
        "Iqz0lYOVNDfV"
      ]
    }
  },
  "cells": [
    {
      "cell_type": "markdown",
      "metadata": {
        "id": "IeyNR78FNC_Q",
        "colab_type": "text"
      },
      "source": [
        "# Building a Strong Titanic Model with Decision Tree, Random Forests, Gradient Boosting, and Neural Networks; and Comparing the Performance Using: Feature Engineering, Quality Analysis and Hyperparameter Optimization"
      ]
    },
    {
      "cell_type": "markdown",
      "metadata": {
        "id": "hioDofDjNC_h",
        "colab_type": "text"
      },
      "source": [
        "<a id=\"TOC\"></a>\n",
        "## Table of contents\n",
        "\n",
        "* **1. [Introduction](#Introduction)** <br>\n",
        "* **2. [Import libraries and dataset](#Import)** <br>\n",
        "* **3. [A first glance at the dataset](#FirstGlance)** <br>\n",
        "* **4. [Feature analysis](#FAna)** <br>\n",
        "    * 4.1 [Ticket_class (passenger class)](#FAna1) <br>\n",
        "    * 4.2 [Sex](#FAna2) <br>\n",
        "    * 4.3 [Age](#FAna3) <br>\n",
        "    * 4.4 [Siblings_spouse (siblings/spouse)](#FAna4) <br>\n",
        "    * 4.5 [Parchil (parents/children)](#FAna5) <br>\n",
        "    * 4.6 [Fare](#FAna6) <br>\n",
        "    * 4.7 [Embarked](#FAna7) <br>\n",
        "    * 4.8 [TickNum and Cabin](#FAna8) <br>\n",
        "* **5. [Feature engineering](#FEng)** <br>\n",
        "    * 5.1 [Add new feature Title](#FEng1) <br>\n",
        "    * 5.2 [Add new feature AgeCat (age categories) ](#FEng2) <br>\n",
        "    * 5.3 [Add new feature FamilySize](#FEng3) <br>\n",
        "    * 5.4 [Add new feature FamilySurvival](#FEng4) <br>\n",
        "    * 5.5 [Add new features FareCorr and FareCat](#FEng5) <br>\n",
        "    * 5.6 [Add missing values for Emarked](#FEng6) <br>\n",
        "* **6. [Data preparation for modelling](#Prep)** <br>\n",
        "    * 6.1 [Drop useless features](#Prep1) <br>\n",
        "    * 6.2 [Prepare pipeline for numerical and categorical attributes](#Prep2) <br>\n",
        "    * 6.3 [Alternative data preparation](#Prep3) <br>\n",
        "    * 6.4 [Split prepared data into training and test datasets ](#Prep4) <br>\n",
        "* **7. [Modelling:  Neural Network](#Model)** <br>\n",
        "    * 7.1 [The Model](#Model1) <br>\n",
        "    * 7.2 [A first look at neural networks on the titanic ](#Model2) <br>\n",
        "    * 7.3 [Find optimum hyperparameters using GridSearch and cross-validation ](#Model3) <br>\n",
        "* **8. [Modelling:  Decision Tree](#ModelDT)** <br>\n",
        "* **9. [Modelling:  Random Forest](#ModelRF)** <br>\n",
        "* **10. [Modelling:  Gradient Boosting](#ModelGB)** <br>\n",
        "\n",
        "* **11. [Conclusions](#Conclusions)** <br>"
      ]
    },
    {
      "cell_type": "code",
      "metadata": {
        "id": "rxSZ9ST7eJtY",
        "colab_type": "code",
        "colab": {
          "base_uri": "https://localhost:8080/",
          "height": 54
        },
        "outputId": "552a26f7-0403-4d9b-9a58-1363afd71684"
      },
      "source": [
        "from google.colab import drive\n",
        "drive.mount('/content/drive')"
      ],
      "execution_count": 1,
      "outputs": [
        {
          "output_type": "stream",
          "text": [
            "Drive already mounted at /content/drive; to attempt to forcibly remount, call drive.mount(\"/content/drive\", force_remount=True).\n"
          ],
          "name": "stdout"
        }
      ]
    },
    {
      "cell_type": "code",
      "metadata": {
        "id": "bzuG62EefV-H",
        "colab_type": "code",
        "colab": {}
      },
      "source": [
        "#pip install eli5"
      ],
      "execution_count": 2,
      "outputs": []
    },
    {
      "cell_type": "markdown",
      "metadata": {
        "id": "_0VmZOjENC_j",
        "colab_type": "text"
      },
      "source": [
        "## 1. Introduction <a id=\"Introduction\"></a>\n",
        "\n",
        "The sinking of the RMS Titanic is one of the most infamous shipwrecks in history. On April 15, 1912, during her maiden voyage, the Titanic sank after colliding with an iceberg, killing 1502 out of 2224 passengers and crew. This sensational tragedy shocked the international community and led to better safety regulations for ships.\n",
        "\n",
        "One of the reasons that the shipwreck led to such loss of life was that there were not enough lifeboats for the passengers and crew. Although there was some element of luck involved in surviving the sinking, some groups of people were more likely to survive than others, such as women, children, and the upper-class."
      ]
    },
    {
      "cell_type": "markdown",
      "metadata": {
        "id": "hGyOR9eENC_q",
        "colab_type": "text"
      },
      "source": [
        "[back to Table of Contents](#TOC)\n",
        "## 2. Import libraries and data <a id=\"Import\"></a> <br>"
      ]
    },
    {
      "cell_type": "code",
      "metadata": {
        "id": "AGzVe8UDNC_s",
        "colab_type": "code",
        "colab": {
          "base_uri": "https://localhost:8080/",
          "height": 156
        },
        "outputId": "c49b8727-c804-4f31-988b-4cd025470f17"
      },
      "source": [
        "#Import libraries\n",
        "\n",
        "# data anlysis\n",
        "import numpy as np\n",
        "import pandas as pd\n",
        "\n",
        "# data visualization\n",
        "%matplotlib inline\n",
        "import matplotlib as mpl\n",
        "import matplotlib.pyplot as plt\n",
        "import seaborn as sns\n",
        "\n",
        "# data preparation for modelling\n",
        "from sklearn.pipeline import Pipeline\n",
        "from sklearn.preprocessing import StandardScaler\n",
        "from sklearn.preprocessing import FunctionTransformer\n",
        "from sklearn.preprocessing import OneHotEncoder\n",
        "from sklearn.impute import SimpleImputer\n",
        "from sklearn.compose import ColumnTransformer\n",
        "\n",
        "# model optimization\n",
        "from sklearn.model_selection import cross_val_predict, cross_val_score, cross_validate\n",
        "from sklearn.model_selection import StratifiedKFold, StratifiedShuffleSplit\n",
        "from sklearn.model_selection import RandomizedSearchCV, GridSearchCV, learning_curve\n",
        "from sklearn.feature_selection import SelectFromModel\n",
        "from scipy.stats import randint\n",
        "import itertools\n",
        "from sklearn.metrics import confusion_matrix, roc_curve\n",
        "from sklearn.metrics import precision_score, recall_score, f1_score\n",
        "\n",
        "# Neural Network\n",
        "import tensorflow as tf\n",
        "from tensorflow import keras\n",
        "from tensorflow.keras.wrappers.scikit_learn import KerasClassifier\n",
        "from tensorflow.keras.models import Sequential\n",
        "from tensorflow.keras.utils import plot_model\n",
        "from tensorflow.keras.layers import Input, Dense, Dropout, AlphaDropout\n",
        "from tensorflow.keras.optimizers import SGD, RMSprop, Adamax, Adagrad, Adam, Nadam, SGD\n",
        "import eli5\n",
        "from eli5.sklearn import PermutationImportance\n",
        "\n",
        "# Decision Tree, Random Forest and Gradient Boosting \n",
        "from sklearn.tree import DecisionTreeClassifier\n",
        "from sklearn.ensemble import RandomForestClassifier\n",
        "from sklearn.ensemble import GradientBoostingClassifier\n",
        "\n",
        "# To ensure comparability of different runs\n",
        "np.random.seed(42)"
      ],
      "execution_count": 3,
      "outputs": [
        {
          "output_type": "stream",
          "text": [
            "/usr/local/lib/python3.6/dist-packages/statsmodels/tools/_testing.py:19: FutureWarning: pandas.util.testing is deprecated. Use the functions in the public API at pandas.testing instead.\n",
            "  import pandas.util.testing as tm\n",
            "/usr/local/lib/python3.6/dist-packages/sklearn/utils/deprecation.py:144: FutureWarning: The sklearn.metrics.scorer module is  deprecated in version 0.22 and will be removed in version 0.24. The corresponding classes / functions should instead be imported from sklearn.metrics. Anything that cannot be imported from sklearn.metrics is now part of the private API.\n",
            "  warnings.warn(message, FutureWarning)\n",
            "/usr/local/lib/python3.6/dist-packages/sklearn/utils/deprecation.py:144: FutureWarning: The sklearn.feature_selection.base module is  deprecated in version 0.22 and will be removed in version 0.24. The corresponding classes / functions should instead be imported from sklearn.feature_selection. Anything that cannot be imported from sklearn.feature_selection is now part of the private API.\n",
            "  warnings.warn(message, FutureWarning)\n",
            "Using TensorFlow backend.\n"
          ],
          "name": "stderr"
        }
      ]
    },
    {
      "cell_type": "code",
      "metadata": {
        "id": "lJIxBmZTNDAL",
        "colab_type": "code",
        "colab": {}
      },
      "source": [
        "#Import data\n",
        "\n",
        "# load train and test data\n",
        "train = pd.read_csv('/content/drive/My Drive/dsn_titanic/train.csv')\n",
        "test = pd.read_csv('/content/drive/My Drive/dsn_titanic/test.csv')\n",
        "\n",
        "# merge train and test data for common data processingg\n",
        "data = pd.concat([train, test], axis=0, ignore_index=True)\n"
      ],
      "execution_count": 4,
      "outputs": []
    },
    {
      "cell_type": "markdown",
      "metadata": {
        "id": "3sHVVaGYNDAe",
        "colab_type": "text"
      },
      "source": [
        "[back to Table of Contents](#TOC)\n",
        "## 3. A first glance at the data <a id=\"FirstGlance\"></a>"
      ]
    },
    {
      "cell_type": "code",
      "metadata": {
        "id": "wL0XXjWiNDAh",
        "colab_type": "code",
        "colab": {
          "base_uri": "https://localhost:8080/",
          "height": 770
        },
        "outputId": "0fb0ebdc-df80-4d12-b41e-4117e4e26321"
      },
      "source": [
        "# show first 10 entries of dataset\n",
        "data[0:10]"
      ],
      "execution_count": 5,
      "outputs": [
        {
          "output_type": "execute_result",
          "data": {
            "text/html": [
              "<div>\n",
              "<style scoped>\n",
              "    .dataframe tbody tr th:only-of-type {\n",
              "        vertical-align: middle;\n",
              "    }\n",
              "\n",
              "    .dataframe tbody tr th {\n",
              "        vertical-align: top;\n",
              "    }\n",
              "\n",
              "    .dataframe thead th {\n",
              "        text-align: right;\n",
              "    }\n",
              "</style>\n",
              "<table border=\"1\" class=\"dataframe\">\n",
              "  <thead>\n",
              "    <tr style=\"text-align: right;\">\n",
              "      <th></th>\n",
              "      <th>traveller_ID</th>\n",
              "      <th>ticket_class</th>\n",
              "      <th>name</th>\n",
              "      <th>sex</th>\n",
              "      <th>age</th>\n",
              "      <th>Siblings_spouses</th>\n",
              "      <th>Parchil</th>\n",
              "      <th>TickNum</th>\n",
              "      <th>fare</th>\n",
              "      <th>cabin</th>\n",
              "      <th>embarked</th>\n",
              "      <th>MedBoat</th>\n",
              "      <th>Survived</th>\n",
              "    </tr>\n",
              "  </thead>\n",
              "  <tbody>\n",
              "    <tr>\n",
              "      <th>0</th>\n",
              "      <td>1214</td>\n",
              "      <td>3.0</td>\n",
              "      <td>Smiljanic, Mr. Mile</td>\n",
              "      <td>male</td>\n",
              "      <td>NaN</td>\n",
              "      <td>0.0</td>\n",
              "      <td>0.0</td>\n",
              "      <td>315037</td>\n",
              "      <td>8.6625</td>\n",
              "      <td>NaN</td>\n",
              "      <td>S</td>\n",
              "      <td>NaN</td>\n",
              "      <td>0.0</td>\n",
              "    </tr>\n",
              "    <tr>\n",
              "      <th>1</th>\n",
              "      <td>677</td>\n",
              "      <td>3.0</td>\n",
              "      <td>Bostandyeff, Mr. Guentcho</td>\n",
              "      <td>male</td>\n",
              "      <td>26.0</td>\n",
              "      <td>0.0</td>\n",
              "      <td>0.0</td>\n",
              "      <td>349224</td>\n",
              "      <td>7.8958</td>\n",
              "      <td>NaN</td>\n",
              "      <td>S</td>\n",
              "      <td>NaN</td>\n",
              "      <td>0.0</td>\n",
              "    </tr>\n",
              "    <tr>\n",
              "      <th>2</th>\n",
              "      <td>534</td>\n",
              "      <td>2.0</td>\n",
              "      <td>Phillips, Miss. Kate Florence (\"Mrs Kate Louis...</td>\n",
              "      <td>female</td>\n",
              "      <td>19.0</td>\n",
              "      <td>0.0</td>\n",
              "      <td>0.0</td>\n",
              "      <td>250655</td>\n",
              "      <td>26.0000</td>\n",
              "      <td>NaN</td>\n",
              "      <td>S</td>\n",
              "      <td>11</td>\n",
              "      <td>1.0</td>\n",
              "    </tr>\n",
              "    <tr>\n",
              "      <th>3</th>\n",
              "      <td>1174</td>\n",
              "      <td>3.0</td>\n",
              "      <td>Sage, Miss. Dorothy Edith \"Dolly\"</td>\n",
              "      <td>female</td>\n",
              "      <td>NaN</td>\n",
              "      <td>8.0</td>\n",
              "      <td>2.0</td>\n",
              "      <td>CA. 2343</td>\n",
              "      <td>69.5500</td>\n",
              "      <td>NaN</td>\n",
              "      <td>S</td>\n",
              "      <td>NaN</td>\n",
              "      <td>0.0</td>\n",
              "    </tr>\n",
              "    <tr>\n",
              "      <th>4</th>\n",
              "      <td>864</td>\n",
              "      <td>3.0</td>\n",
              "      <td>Henriksson, Miss. Jenny Lovisa</td>\n",
              "      <td>female</td>\n",
              "      <td>28.0</td>\n",
              "      <td>0.0</td>\n",
              "      <td>0.0</td>\n",
              "      <td>347086</td>\n",
              "      <td>7.7750</td>\n",
              "      <td>NaN</td>\n",
              "      <td>S</td>\n",
              "      <td>NaN</td>\n",
              "      <td>0.0</td>\n",
              "    </tr>\n",
              "    <tr>\n",
              "      <th>5</th>\n",
              "      <td>895</td>\n",
              "      <td>3.0</td>\n",
              "      <td>Johnson, Miss. Eleanor Ileen</td>\n",
              "      <td>female</td>\n",
              "      <td>1.0</td>\n",
              "      <td>1.0</td>\n",
              "      <td>1.0</td>\n",
              "      <td>347742</td>\n",
              "      <td>11.1333</td>\n",
              "      <td>NaN</td>\n",
              "      <td>S</td>\n",
              "      <td>15</td>\n",
              "      <td>1.0</td>\n",
              "    </tr>\n",
              "    <tr>\n",
              "      <th>6</th>\n",
              "      <td>813</td>\n",
              "      <td>3.0</td>\n",
              "      <td>Franklin, Mr. Charles (Charles Fardon)</td>\n",
              "      <td>male</td>\n",
              "      <td>NaN</td>\n",
              "      <td>0.0</td>\n",
              "      <td>0.0</td>\n",
              "      <td>SOTON/O.Q. 3101314</td>\n",
              "      <td>7.2500</td>\n",
              "      <td>NaN</td>\n",
              "      <td>S</td>\n",
              "      <td>NaN</td>\n",
              "      <td>0.0</td>\n",
              "    </tr>\n",
              "    <tr>\n",
              "      <th>7</th>\n",
              "      <td>745</td>\n",
              "      <td>3.0</td>\n",
              "      <td>Daly, Miss. Margaret Marcella \"Maggie\"</td>\n",
              "      <td>female</td>\n",
              "      <td>30.0</td>\n",
              "      <td>0.0</td>\n",
              "      <td>0.0</td>\n",
              "      <td>382650</td>\n",
              "      <td>6.9500</td>\n",
              "      <td>NaN</td>\n",
              "      <td>Q</td>\n",
              "      <td>15</td>\n",
              "      <td>1.0</td>\n",
              "    </tr>\n",
              "    <tr>\n",
              "      <th>8</th>\n",
              "      <td>1030</td>\n",
              "      <td>3.0</td>\n",
              "      <td>Moran, Mr. James</td>\n",
              "      <td>male</td>\n",
              "      <td>NaN</td>\n",
              "      <td>0.0</td>\n",
              "      <td>0.0</td>\n",
              "      <td>330877</td>\n",
              "      <td>8.4583</td>\n",
              "      <td>NaN</td>\n",
              "      <td>Q</td>\n",
              "      <td>NaN</td>\n",
              "      <td>0.0</td>\n",
              "    </tr>\n",
              "    <tr>\n",
              "      <th>9</th>\n",
              "      <td>1072</td>\n",
              "      <td>3.0</td>\n",
              "      <td>O'Connell, Mr. Patrick D</td>\n",
              "      <td>male</td>\n",
              "      <td>NaN</td>\n",
              "      <td>0.0</td>\n",
              "      <td>0.0</td>\n",
              "      <td>334912</td>\n",
              "      <td>7.7333</td>\n",
              "      <td>NaN</td>\n",
              "      <td>Q</td>\n",
              "      <td>NaN</td>\n",
              "      <td>0.0</td>\n",
              "    </tr>\n",
              "  </tbody>\n",
              "</table>\n",
              "</div>"
            ],
            "text/plain": [
              "   traveller_ID  ticket_class  ... MedBoat Survived\n",
              "0          1214           3.0  ...     NaN      0.0\n",
              "1           677           3.0  ...     NaN      0.0\n",
              "2           534           2.0  ...      11      1.0\n",
              "3          1174           3.0  ...     NaN      0.0\n",
              "4           864           3.0  ...     NaN      0.0\n",
              "5           895           3.0  ...      15      1.0\n",
              "6           813           3.0  ...     NaN      0.0\n",
              "7           745           3.0  ...      15      1.0\n",
              "8          1030           3.0  ...     NaN      0.0\n",
              "9          1072           3.0  ...     NaN      0.0\n",
              "\n",
              "[10 rows x 13 columns]"
            ]
          },
          "metadata": {
            "tags": []
          },
          "execution_count": 5
        }
      ]
    },
    {
      "cell_type": "code",
      "metadata": {
        "scrolled": true,
        "id": "6ElmqxXxNDAv",
        "colab_type": "code",
        "colab": {
          "base_uri": "https://localhost:8080/",
          "height": 357
        },
        "outputId": "626aa173-5123-490d-a052-a2acfe5f8d66"
      },
      "source": [
        "# get info about quality of the data\n",
        "data.info()"
      ],
      "execution_count": 6,
      "outputs": [
        {
          "output_type": "stream",
          "text": [
            "<class 'pandas.core.frame.DataFrame'>\n",
            "RangeIndex: 1309 entries, 0 to 1308\n",
            "Data columns (total 13 columns):\n",
            " #   Column            Non-Null Count  Dtype  \n",
            "---  ------            --------------  -----  \n",
            " 0   traveller_ID      1309 non-null   int64  \n",
            " 1   ticket_class      1309 non-null   float64\n",
            " 2   name              1309 non-null   object \n",
            " 3   sex               1309 non-null   object \n",
            " 4   age               1046 non-null   float64\n",
            " 5   Siblings_spouses  1309 non-null   float64\n",
            " 6   Parchil           1309 non-null   float64\n",
            " 7   TickNum           1309 non-null   object \n",
            " 8   fare              1308 non-null   float64\n",
            " 9   cabin             295 non-null    object \n",
            " 10  embarked          1307 non-null   object \n",
            " 11  MedBoat           486 non-null    object \n",
            " 12  Survived          916 non-null    float64\n",
            "dtypes: float64(6), int64(1), object(6)\n",
            "memory usage: 133.1+ KB\n"
          ],
          "name": "stdout"
        }
      ]
    },
    {
      "cell_type": "markdown",
      "metadata": {
        "id": "aIYvuPA6NDBA",
        "colab_type": "text"
      },
      "source": [
        "We have 11 features (not counting *Survived*, which is our target) of different types (int64, float64, object), where for some features (*Age, Fare, Cabin*) data points are missing."
      ]
    },
    {
      "cell_type": "code",
      "metadata": {
        "scrolled": true,
        "id": "om2wyQN2NDBC",
        "colab_type": "code",
        "colab": {
          "base_uri": "https://localhost:8080/",
          "height": 255
        },
        "outputId": "ad182f63-9644-41d0-a33e-4a877f225f61"
      },
      "source": [
        "# check missing values\n",
        "data.isnull().sum()"
      ],
      "execution_count": 7,
      "outputs": [
        {
          "output_type": "execute_result",
          "data": {
            "text/plain": [
              "traveller_ID           0\n",
              "ticket_class           0\n",
              "name                   0\n",
              "sex                    0\n",
              "age                  263\n",
              "Siblings_spouses       0\n",
              "Parchil                0\n",
              "TickNum                0\n",
              "fare                   1\n",
              "cabin               1014\n",
              "embarked               2\n",
              "MedBoat              823\n",
              "Survived             393\n",
              "dtype: int64"
            ]
          },
          "metadata": {
            "tags": []
          },
          "execution_count": 7
        }
      ]
    },
    {
      "cell_type": "markdown",
      "metadata": {
        "id": "y0CENlL1NDBP",
        "colab_type": "text"
      },
      "source": [
        "We will take care of the missing values later on in this notebook."
      ]
    },
    {
      "cell_type": "code",
      "metadata": {
        "id": "m1lNL3KINDBU",
        "colab_type": "code",
        "colab": {
          "base_uri": "https://localhost:8080/",
          "height": 297
        },
        "outputId": "924b20dc-4431-4596-afd4-5d6f540d59a7"
      },
      "source": [
        "# statistics of nummeric features\n",
        "data.describe()"
      ],
      "execution_count": 8,
      "outputs": [
        {
          "output_type": "execute_result",
          "data": {
            "text/html": [
              "<div>\n",
              "<style scoped>\n",
              "    .dataframe tbody tr th:only-of-type {\n",
              "        vertical-align: middle;\n",
              "    }\n",
              "\n",
              "    .dataframe tbody tr th {\n",
              "        vertical-align: top;\n",
              "    }\n",
              "\n",
              "    .dataframe thead th {\n",
              "        text-align: right;\n",
              "    }\n",
              "</style>\n",
              "<table border=\"1\" class=\"dataframe\">\n",
              "  <thead>\n",
              "    <tr style=\"text-align: right;\">\n",
              "      <th></th>\n",
              "      <th>traveller_ID</th>\n",
              "      <th>ticket_class</th>\n",
              "      <th>age</th>\n",
              "      <th>Siblings_spouses</th>\n",
              "      <th>Parchil</th>\n",
              "      <th>fare</th>\n",
              "      <th>Survived</th>\n",
              "    </tr>\n",
              "  </thead>\n",
              "  <tbody>\n",
              "    <tr>\n",
              "      <th>count</th>\n",
              "      <td>1309.000000</td>\n",
              "      <td>1309.000000</td>\n",
              "      <td>1046.000000</td>\n",
              "      <td>1309.000000</td>\n",
              "      <td>1309.000000</td>\n",
              "      <td>1308.000000</td>\n",
              "      <td>916.000000</td>\n",
              "    </tr>\n",
              "    <tr>\n",
              "      <th>mean</th>\n",
              "      <td>654.000000</td>\n",
              "      <td>2.294882</td>\n",
              "      <td>29.881135</td>\n",
              "      <td>0.498854</td>\n",
              "      <td>0.385027</td>\n",
              "      <td>33.295479</td>\n",
              "      <td>0.361354</td>\n",
              "    </tr>\n",
              "    <tr>\n",
              "      <th>std</th>\n",
              "      <td>378.020061</td>\n",
              "      <td>0.837836</td>\n",
              "      <td>14.413500</td>\n",
              "      <td>1.041658</td>\n",
              "      <td>0.865560</td>\n",
              "      <td>51.758668</td>\n",
              "      <td>0.480655</td>\n",
              "    </tr>\n",
              "    <tr>\n",
              "      <th>min</th>\n",
              "      <td>0.000000</td>\n",
              "      <td>1.000000</td>\n",
              "      <td>0.166700</td>\n",
              "      <td>0.000000</td>\n",
              "      <td>0.000000</td>\n",
              "      <td>0.000000</td>\n",
              "      <td>0.000000</td>\n",
              "    </tr>\n",
              "    <tr>\n",
              "      <th>25%</th>\n",
              "      <td>327.000000</td>\n",
              "      <td>2.000000</td>\n",
              "      <td>21.000000</td>\n",
              "      <td>0.000000</td>\n",
              "      <td>0.000000</td>\n",
              "      <td>7.895800</td>\n",
              "      <td>0.000000</td>\n",
              "    </tr>\n",
              "    <tr>\n",
              "      <th>50%</th>\n",
              "      <td>654.000000</td>\n",
              "      <td>3.000000</td>\n",
              "      <td>28.000000</td>\n",
              "      <td>0.000000</td>\n",
              "      <td>0.000000</td>\n",
              "      <td>14.454200</td>\n",
              "      <td>0.000000</td>\n",
              "    </tr>\n",
              "    <tr>\n",
              "      <th>75%</th>\n",
              "      <td>981.000000</td>\n",
              "      <td>3.000000</td>\n",
              "      <td>39.000000</td>\n",
              "      <td>1.000000</td>\n",
              "      <td>0.000000</td>\n",
              "      <td>31.275000</td>\n",
              "      <td>1.000000</td>\n",
              "    </tr>\n",
              "    <tr>\n",
              "      <th>max</th>\n",
              "      <td>1308.000000</td>\n",
              "      <td>3.000000</td>\n",
              "      <td>80.000000</td>\n",
              "      <td>8.000000</td>\n",
              "      <td>9.000000</td>\n",
              "      <td>512.329200</td>\n",
              "      <td>1.000000</td>\n",
              "    </tr>\n",
              "  </tbody>\n",
              "</table>\n",
              "</div>"
            ],
            "text/plain": [
              "       traveller_ID  ticket_class  ...         fare    Survived\n",
              "count   1309.000000   1309.000000  ...  1308.000000  916.000000\n",
              "mean     654.000000      2.294882  ...    33.295479    0.361354\n",
              "std      378.020061      0.837836  ...    51.758668    0.480655\n",
              "min        0.000000      1.000000  ...     0.000000    0.000000\n",
              "25%      327.000000      2.000000  ...     7.895800    0.000000\n",
              "50%      654.000000      3.000000  ...    14.454200    0.000000\n",
              "75%      981.000000      3.000000  ...    31.275000    1.000000\n",
              "max     1308.000000      3.000000  ...   512.329200    1.000000\n",
              "\n",
              "[8 rows x 7 columns]"
            ]
          },
          "metadata": {
            "tags": []
          },
          "execution_count": 8
        }
      ]
    },
    {
      "cell_type": "code",
      "metadata": {
        "id": "hU4UGrDTiQlQ",
        "colab_type": "code",
        "colab": {
          "base_uri": "https://localhost:8080/",
          "height": 34
        },
        "outputId": "e263a445-be1d-45fd-e116-013069a10d5a"
      },
      "source": [
        "data.shape"
      ],
      "execution_count": 9,
      "outputs": [
        {
          "output_type": "execute_result",
          "data": {
            "text/plain": [
              "(1309, 13)"
            ]
          },
          "metadata": {
            "tags": []
          },
          "execution_count": 9
        }
      ]
    },
    {
      "cell_type": "markdown",
      "metadata": {
        "id": "JuWbEHeiNDBl",
        "colab_type": "text"
      },
      "source": [
        "We should check whether the high value of the maximum Fare is an outlier or just a very expensive Ticket."
      ]
    },
    {
      "cell_type": "markdown",
      "metadata": {
        "id": "WDWxn7qONDBr",
        "colab_type": "text"
      },
      "source": [
        "[back to Table of Contents](#TOC)\n",
        "## 4. Feature analysis \n"
      ]
    },
    {
      "cell_type": "markdown",
      "metadata": {
        "id": "LSPjonHKNDB1",
        "colab_type": "text"
      },
      "source": [
        "It is important to find out how the different features correlate with *Survived*. To this end, we use the training data for which the information about the passenger's survival is given (column *Survived*)."
      ]
    },
    {
      "cell_type": "code",
      "metadata": {
        "scrolled": true,
        "id": "LIflIxBmNDB3",
        "colab_type": "code",
        "colab": {
          "base_uri": "https://localhost:8080/",
          "height": 235
        },
        "outputId": "d07d56ef-b2be-4ef1-d96a-b0817857d1e7"
      },
      "source": [
        "# Let's have a look at the correlation between Survived and all relevant numeric features in a correlation table ...\n",
        "data.drop(columns=['traveller_ID']).corr()"
      ],
      "execution_count": 10,
      "outputs": [
        {
          "output_type": "execute_result",
          "data": {
            "text/html": [
              "<div>\n",
              "<style scoped>\n",
              "    .dataframe tbody tr th:only-of-type {\n",
              "        vertical-align: middle;\n",
              "    }\n",
              "\n",
              "    .dataframe tbody tr th {\n",
              "        vertical-align: top;\n",
              "    }\n",
              "\n",
              "    .dataframe thead th {\n",
              "        text-align: right;\n",
              "    }\n",
              "</style>\n",
              "<table border=\"1\" class=\"dataframe\">\n",
              "  <thead>\n",
              "    <tr style=\"text-align: right;\">\n",
              "      <th></th>\n",
              "      <th>ticket_class</th>\n",
              "      <th>age</th>\n",
              "      <th>Siblings_spouses</th>\n",
              "      <th>Parchil</th>\n",
              "      <th>fare</th>\n",
              "      <th>Survived</th>\n",
              "    </tr>\n",
              "  </thead>\n",
              "  <tbody>\n",
              "    <tr>\n",
              "      <th>ticket_class</th>\n",
              "      <td>1.000000</td>\n",
              "      <td>-0.408106</td>\n",
              "      <td>0.060832</td>\n",
              "      <td>0.018322</td>\n",
              "      <td>-0.558629</td>\n",
              "      <td>-0.316505</td>\n",
              "    </tr>\n",
              "    <tr>\n",
              "      <th>age</th>\n",
              "      <td>-0.408106</td>\n",
              "      <td>1.000000</td>\n",
              "      <td>-0.243699</td>\n",
              "      <td>-0.150917</td>\n",
              "      <td>0.178739</td>\n",
              "      <td>-0.014920</td>\n",
              "    </tr>\n",
              "    <tr>\n",
              "      <th>Siblings_spouses</th>\n",
              "      <td>0.060832</td>\n",
              "      <td>-0.243699</td>\n",
              "      <td>1.000000</td>\n",
              "      <td>0.373587</td>\n",
              "      <td>0.160238</td>\n",
              "      <td>-0.013675</td>\n",
              "    </tr>\n",
              "    <tr>\n",
              "      <th>Parchil</th>\n",
              "      <td>0.018322</td>\n",
              "      <td>-0.150917</td>\n",
              "      <td>0.373587</td>\n",
              "      <td>1.000000</td>\n",
              "      <td>0.221539</td>\n",
              "      <td>0.071425</td>\n",
              "    </tr>\n",
              "    <tr>\n",
              "      <th>fare</th>\n",
              "      <td>-0.558629</td>\n",
              "      <td>0.178739</td>\n",
              "      <td>0.160238</td>\n",
              "      <td>0.221539</td>\n",
              "      <td>1.000000</td>\n",
              "      <td>0.261934</td>\n",
              "    </tr>\n",
              "    <tr>\n",
              "      <th>Survived</th>\n",
              "      <td>-0.316505</td>\n",
              "      <td>-0.014920</td>\n",
              "      <td>-0.013675</td>\n",
              "      <td>0.071425</td>\n",
              "      <td>0.261934</td>\n",
              "      <td>1.000000</td>\n",
              "    </tr>\n",
              "  </tbody>\n",
              "</table>\n",
              "</div>"
            ],
            "text/plain": [
              "                  ticket_class       age  ...      fare  Survived\n",
              "ticket_class          1.000000 -0.408106  ... -0.558629 -0.316505\n",
              "age                  -0.408106  1.000000  ...  0.178739 -0.014920\n",
              "Siblings_spouses      0.060832 -0.243699  ...  0.160238 -0.013675\n",
              "Parchil               0.018322 -0.150917  ...  0.221539  0.071425\n",
              "fare                 -0.558629  0.178739  ...  1.000000  0.261934\n",
              "Survived             -0.316505 -0.014920  ...  0.261934  1.000000\n",
              "\n",
              "[6 rows x 6 columns]"
            ]
          },
          "metadata": {
            "tags": []
          },
          "execution_count": 10
        }
      ]
    },
    {
      "cell_type": "code",
      "metadata": {
        "scrolled": true,
        "id": "InYCqdpMNDCE",
        "colab_type": "code",
        "colab": {
          "base_uri": "https://localhost:8080/",
          "height": 344
        },
        "outputId": "ca71f3f1-3fa0-4a6e-ea1d-48e0d92277b8"
      },
      "source": [
        "# ... or a color matrix\n",
        "matrix = sns.heatmap(train[[\"Survived\",\"fare\",\"Parchil\",\"Siblings_spouses\",\"age\",\"ticket_class\"]].corr(), cmap = \"Blues\", annot=True)"
      ],
      "execution_count": 11,
      "outputs": [
        {
          "output_type": "display_data",
          "data": {
            "image/png": "[encoded data removed]",
            "text/plain": [
              "<Figure size 432x288 with 2 Axes>"
            ]
          },
          "metadata": {
            "tags": [],
            "needs_background": "light"
          }
        }
      ]
    },
    {
      "cell_type": "markdown",
      "metadata": {
        "id": "DhFawuR2NDCS",
        "colab_type": "text"
      },
      "source": [
        "The only numerical feature that strongly correlates with *Survived* is *ticket_class*, while the least is *fare*. This might be explaind by the fact that the cabins of the richer passengers were mainly located in the upper parts of the boat, which was not directly fluted after the Titanic hit the iceberg. Moreover, the richer passengers were first to go on the life boats. \n",
        "\n",
        "So let's have a closer look at the individual features in order to learn more about their importance."
      ]
    },
    {
      "cell_type": "markdown",
      "metadata": {
        "id": "klaiHh6jNDCV",
        "colab_type": "text"
      },
      "source": [
        "### 4.1 *ticket_class* (Passenger Class)  <a id=\"FAna1\"></a>"
      ]
    },
    {
      "cell_type": "code",
      "metadata": {
        "id": "_kH1WRYHNDDZ",
        "colab_type": "code",
        "colab": {
          "base_uri": "https://localhost:8080/",
          "height": 369
        },
        "outputId": "4a79cb86-65d9-46d5-dd89-5110ab9d7894"
      },
      "source": [
        "# Number of passengers per passenger class\n",
        "plot = sns.catplot(x=\"ticket_class\", kind=\"count\", data=train)"
      ],
      "execution_count": 12,
      "outputs": [
        {
          "output_type": "display_data",
          "data": {
            "image/png": "[encoded data removed]",
            "text/plain": [
              "<Figure size 360x360 with 1 Axes>"
            ]
          },
          "metadata": {
            "tags": [],
            "needs_background": "light"
          }
        }
      ]
    },
    {
      "cell_type": "markdown",
      "metadata": {
        "id": "bk7Oqdb7NDEv",
        "colab_type": "text"
      },
      "source": [
        "In the third class there are twice as much passengers than in the first and second class, respectively."
      ]
    },
    {
      "cell_type": "code",
      "metadata": {
        "id": "rilhFtPfNDEx",
        "colab_type": "code",
        "colab": {
          "base_uri": "https://localhost:8080/",
          "height": 369
        },
        "outputId": "f9d93d60-7918-4fce-e380-bda7b26191f9"
      },
      "source": [
        "# plot ticket_class vs survival probability\n",
        "plot = sns.catplot(x=\"ticket_class\", y=\"Survived\", kind=\"bar\", data=train).set_ylabels(\"survival probability\")"
      ],
      "execution_count": 13,
      "outputs": [
        {
          "output_type": "display_data",
          "data": {
            "image/png": "[encoded data removed]",
            "text/plain": [
              "<Figure size 360x360 with 1 Axes>"
            ]
          },
          "metadata": {
            "tags": [],
            "needs_background": "light"
          }
        }
      ]
    },
    {
      "cell_type": "markdown",
      "metadata": {
        "id": "NcjsZFBTNDFQ",
        "colab_type": "text"
      },
      "source": [
        "Indeed, the pobability to survive is higher the higher the class. This is an important feature. "
      ]
    },
    {
      "cell_type": "markdown",
      "metadata": {
        "id": "Z5NcH_YaNDFS",
        "colab_type": "text"
      },
      "source": [
        "### 4.2 *Sex* <a id=\"FAna2\"></a>"
      ]
    },
    {
      "cell_type": "code",
      "metadata": {
        "id": "QmgvLrPnNDFU",
        "colab_type": "code",
        "colab": {
          "base_uri": "https://localhost:8080/",
          "height": 261
        },
        "outputId": "a834a48b-7c7c-456f-9617-ae9f24bde79c"
      },
      "source": [
        "# Number of female and male passengers per ticket class\n",
        "plot = sns.catplot(x=\"sex\", kind=\"count\", data=train, height=3.5);"
      ],
      "execution_count": 14,
      "outputs": [
        {
          "output_type": "display_data",
          "data": {
            "image/png": "[encoded data removed]",
            "text/plain": [
              "<Figure size 252x252 with 1 Axes>"
            ]
          },
          "metadata": {
            "tags": [],
            "needs_background": "light"
          }
        }
      ]
    },
    {
      "cell_type": "markdown",
      "metadata": {
        "id": "-GAmFgYTNDFf",
        "colab_type": "text"
      },
      "source": [
        "There are twice as much men on board than women."
      ]
    },
    {
      "cell_type": "code",
      "metadata": {
        "id": "6bzEAqamNDFh",
        "colab_type": "code",
        "colab": {
          "base_uri": "https://localhost:8080/",
          "height": 315
        },
        "outputId": "277c332e-b2ea-4949-abe1-d7c79a90808f"
      },
      "source": [
        "# plot Sex vs survival probability\n",
        "plot = sns.catplot(x=\"sex\", y=\"Survived\", kind=\"bar\", data=train, size=3.5).set_ylabels(\"survival probability\")"
      ],
      "execution_count": 15,
      "outputs": [
        {
          "output_type": "stream",
          "text": [
            "/usr/local/lib/python3.6/dist-packages/seaborn/categorical.py:3692: UserWarning: The `size` parameter has been renamed to `height`; please update your code.\n",
            "  warnings.warn(msg, UserWarning)\n"
          ],
          "name": "stderr"
        },
        {
          "output_type": "display_data",
          "data": {
            "image/png": "[encoded data removed]",
            "text/plain": [
              "<Figure size 252x252 with 1 Axes>"
            ]
          },
          "metadata": {
            "tags": [],
            "needs_background": "light"
          }
        }
      ]
    },
    {
      "cell_type": "markdown",
      "metadata": {
        "id": "SyaB2-z7NDFv",
        "colab_type": "text"
      },
      "source": [
        "In general, the pobability of a woman to survive is more than three time higher than for a man. \n",
        "\n",
        "Let's have a look at this trend regarding the different passenger classes."
      ]
    },
    {
      "cell_type": "code",
      "metadata": {
        "id": "NbQ5qvRnNDFw",
        "colab_type": "code",
        "colab": {
          "base_uri": "https://localhost:8080/",
          "height": 369
        },
        "outputId": "bedb0157-aecc-439f-ed1e-01ed5b76e8aa"
      },
      "source": [
        "# Number of female and male passengers per ticket class\n",
        "plot = sns.catplot(x=\"ticket_class\", hue=\"sex\", kind=\"count\", data=train)"
      ],
      "execution_count": 16,
      "outputs": [
        {
          "output_type": "display_data",
          "data": {
            "image/png": "[encoded data removed]",
            "text/plain": [
              "<Figure size 430.5x360 with 1 Axes>"
            ]
          },
          "metadata": {
            "tags": [],
            "needs_background": "light"
          }
        }
      ]
    },
    {
      "cell_type": "markdown",
      "metadata": {
        "id": "-lA38l8dNDF_",
        "colab_type": "text"
      },
      "source": [
        "It is remarkable that the percentage of men in the third class is much bigger."
      ]
    },
    {
      "cell_type": "code",
      "metadata": {
        "id": "HiG3E0-wNDGB",
        "colab_type": "code",
        "colab": {
          "base_uri": "https://localhost:8080/",
          "height": 369
        },
        "outputId": "642f0046-9033-4e47-dcfd-9eb3a7034e28"
      },
      "source": [
        "plot = sns.catplot(x=\"sex\", y=\"Survived\", hue=\"ticket_class\", kind=\"bar\", data=train).set_ylabels(\"survival probability\")"
      ],
      "execution_count": 17,
      "outputs": [
        {
          "output_type": "display_data",
          "data": {
            "image/png": "[encoded data removed]",
            "text/plain": [
              "<Figure size 425.625x360 with 1 Axes>"
            ]
          },
          "metadata": {
            "tags": [],
            "needs_background": "light"
          }
        }
      ]
    },
    {
      "cell_type": "markdown",
      "metadata": {
        "id": "rtRPCNE4NDGa",
        "colab_type": "text"
      },
      "source": [
        "The survival probability for a man from the first class is twice as high than for a man from the second or third class. Regarding women, about 90 % of the women from the first and the second class survive, in contrast to only about 50% of the women in the third class."
      ]
    },
    {
      "cell_type": "markdown",
      "metadata": {
        "id": "VRUhFbFENDGc",
        "colab_type": "text"
      },
      "source": [
        "### 4.3 *Age* <a id=\"FAna3\"></a>"
      ]
    },
    {
      "cell_type": "markdown",
      "metadata": {
        "id": "FCMgSV7wNDGd",
        "colab_type": "text"
      },
      "source": [
        "We already mentioned that most likley certain age groups might have a higher probability to survive. Let's have a look at the statistics:"
      ]
    },
    {
      "cell_type": "code",
      "metadata": {
        "scrolled": true,
        "id": "m7vrY3ryNDGf",
        "colab_type": "code",
        "colab": {
          "base_uri": "https://localhost:8080/",
          "height": 297
        },
        "outputId": "5765787e-9ff1-4925-c5b0-add3dbc81396"
      },
      "source": [
        "# Explore Age histogram for NotSurvived/Survived (0/1)\n",
        "plot = sns.FacetGrid(train, col='Survived', height=4).map(sns.distplot, \"age\", kde=False)\n"
      ],
      "execution_count": 18,
      "outputs": [
        {
          "output_type": "display_data",
          "data": {
            "image/png": "[encoded data removed]",
            "text/plain": [
              "<Figure size 576x288 with 2 Axes>"
            ]
          },
          "metadata": {
            "tags": [],
            "needs_background": "light"
          }
        }
      ]
    },
    {
      "cell_type": "code",
      "metadata": {
        "scrolled": true,
        "id": "hfnMNOQ_NDGy",
        "colab_type": "code",
        "colab": {
          "base_uri": "https://localhost:8080/",
          "height": 279
        },
        "outputId": "5bb7d5d7-345e-4d80-a264-95f3f369f484"
      },
      "source": [
        "# Explore the respective Age distibutions \n",
        "Plot = sns.kdeplot(train[\"age\"][(train[\"Survived\"] == 0) & (train[\"age\"].notnull())], color=\"Red\", shade = True)\n",
        "plot = sns.kdeplot(train[\"age\"][(train[\"Survived\"] == 1) & (train[\"age\"].notnull())], color=\"Green\", shade= True)\n",
        "plot.set_xlabel(\"age\")\n",
        "plot = plot.legend([\"Not Survived\",\"Survived\"])"
      ],
      "execution_count": 19,
      "outputs": [
        {
          "output_type": "display_data",
          "data": {
            "image/png": "[encoded data removed]",
            "text/plain": [
              "<Figure size 432x288 with 1 Axes>"
            ]
          },
          "metadata": {
            "tags": [],
            "needs_background": "light"
          }
        }
      ]
    },
    {
      "cell_type": "markdown",
      "metadata": {
        "id": "LpaCKJ-cNDHG",
        "colab_type": "text"
      },
      "source": [
        "Indeed, children have a much higher probability to survive. Let's illustrate the different survival probabilities by spliting *Age* in two categories, child (younger than 15) and adult."
      ]
    },
    {
      "cell_type": "markdown",
      "metadata": {
        "id": "MXQGSy1tNDHH",
        "colab_type": "text"
      },
      "source": [
        "#### New feature *AgeCat* (age categories)"
      ]
    },
    {
      "cell_type": "markdown",
      "metadata": {
        "id": "24vYF5v8NDHL",
        "colab_type": "text"
      },
      "source": [
        "We implement it here only for the training dataset to use it for further data analysis below. Later on in section 5 we will implement this feature for the whole dataset."
      ]
    },
    {
      "cell_type": "code",
      "metadata": {
        "id": "K_OYjawVNDHR",
        "colab_type": "code",
        "colab": {
          "base_uri": "https://localhost:8080/",
          "height": 51
        },
        "outputId": "5d0364c7-2199-4254-ec70-b3e7192a2ea9"
      },
      "source": [
        "# We split the feature Age in two categories, child and adult\n",
        "train[\"AgeCat\"]= pd.cut(train[\"age\"], bins=[0,15,max(train[\"age\"]+1)], labels=['child','adult'])"
      ],
      "execution_count": 20,
      "outputs": [
        {
          "output_type": "stream",
          "text": [
            "/usr/local/lib/python3.6/dist-packages/pandas/core/reshape/tile.py:254: RuntimeWarning: invalid value encountered in less\n",
            "  if (np.diff(bins.astype(\"float64\")) < 0).any():\n"
          ],
          "name": "stderr"
        }
      ]
    },
    {
      "cell_type": "code",
      "metadata": {
        "id": "VbFtmquNNDHZ",
        "colab_type": "code",
        "colab": {
          "base_uri": "https://localhost:8080/",
          "height": 315
        },
        "outputId": "94b6ae22-0471-4250-e83b-cbc8ef4dc962"
      },
      "source": [
        "# plot survival probability of cildren and adults\n",
        "plot = sns.catplot(x=\"AgeCat\", y=\"Survived\", kind=\"bar\", data=train, size=3.5).set_ylabels(\"survival probability\")"
      ],
      "execution_count": 21,
      "outputs": [
        {
          "output_type": "stream",
          "text": [
            "/usr/local/lib/python3.6/dist-packages/seaborn/categorical.py:3692: UserWarning: The `size` parameter has been renamed to `height`; please update your code.\n",
            "  warnings.warn(msg, UserWarning)\n"
          ],
          "name": "stderr"
        },
        {
          "output_type": "display_data",
          "data": {
            "image/png": "[encoded data removed]",
            "text/plain": [
              "<Figure size 252x252 with 1 Axes>"
            ]
          },
          "metadata": {
            "tags": [],
            "needs_background": "light"
          }
        }
      ]
    },
    {
      "cell_type": "code",
      "metadata": {
        "id": "2w9hKWsUNDHp",
        "colab_type": "code",
        "colab": {
          "base_uri": "https://localhost:8080/",
          "height": 369
        },
        "outputId": "2e2ffbbb-13f5-4ecc-97c5-561e1332c4dd"
      },
      "source": [
        "# plot survival probability of cildren and adults regarding the different classes\n",
        "plot = sns.catplot(x=\"AgeCat\", y=\"Survived\", hue=\"ticket_class\", kind=\"bar\", data=train).set_ylabels(\"survival probability\")"
      ],
      "execution_count": 22,
      "outputs": [
        {
          "output_type": "display_data",
          "data": {
            "image/png": "[encoded data removed]",
            "text/plain": [
              "<Figure size 425.625x360 with 1 Axes>"
            ]
          },
          "metadata": {
            "tags": [],
            "needs_background": "light"
          }
        }
      ]
    },
    {
      "cell_type": "markdown",
      "metadata": {
        "id": "ZzopXR1qNDH0",
        "colab_type": "text"
      },
      "source": [
        "From this diagram we learn that the chance to survive for a child from the third class is only about half the value compared to a child from the first or second class. Moreover, a child from the third class has a lower or rather similar probability to survive than an adult of the first or second class. "
      ]
    },
    {
      "cell_type": "markdown",
      "metadata": {
        "id": "EvoEq0HeNDH3",
        "colab_type": "text"
      },
      "source": [
        "### 4.4 *Siblings_spouses* (Siblings/Spouse) <a id=\"FAna4\"></a>"
      ]
    },
    {
      "cell_type": "code",
      "metadata": {
        "id": "nxPxt7cSNDH5",
        "colab_type": "code",
        "colab": {
          "base_uri": "https://localhost:8080/",
          "height": 348
        },
        "outputId": "7e28df9b-1168-4224-c25f-5ab19d4aa779"
      },
      "source": [
        "# Number of passengers with no or several Siblings/Spouses\n",
        "plot = sns.catplot(x=\"Siblings_spouses\",kind=\"count\", data=train, height=4.7, aspect=2.45)"
      ],
      "execution_count": 23,
      "outputs": [
        {
          "output_type": "display_data",
          "data": {
            "image/png": "[encoded data removed]",
            "text/plain": [
              "<Figure size 829.08x338.4 with 1 Axes>"
            ]
          },
          "metadata": {
            "tags": [],
            "needs_background": "light"
          }
        }
      ]
    },
    {
      "cell_type": "markdown",
      "metadata": {
        "id": "Syk7N4RYNDIE",
        "colab_type": "text"
      },
      "source": [
        "Most passengers travel as singles."
      ]
    },
    {
      "cell_type": "code",
      "metadata": {
        "id": "HX81mT4FNDIG",
        "colab_type": "code",
        "colab": {
          "base_uri": "https://localhost:8080/",
          "height": 297
        },
        "outputId": "a0e5256c-67e1-4cf7-b955-004689ccc598"
      },
      "source": [
        "# Survival probability of passengers with no or several Siblings/Spouses\n",
        "plot = sns.catplot(x=\"Siblings_spouses\", y=\"Survived\", kind=\"bar\", data=train, height=4, aspect=3).set_ylabels(\"survival probability\")"
      ],
      "execution_count": 24,
      "outputs": [
        {
          "output_type": "display_data",
          "data": {
            "image/png": "[encoded data removed]",
            "text/plain": [
              "<Figure size 864x288 with 1 Axes>"
            ]
          },
          "metadata": {
            "tags": [],
            "needs_background": "light"
          }
        }
      ]
    },
    {
      "cell_type": "markdown",
      "metadata": {
        "id": "8xb-fUWLNDIU",
        "colab_type": "text"
      },
      "source": [
        "The survival chance of a passenger with 1 or 2 siblings/spouses is significantly higher than than for a single passenger or a passenger with 3 or more siblings/spouses. \n",
        "\n",
        "Since mainly adults (here older than 15 years) are married, let's analyse the data by splitting it between children and adults: "
      ]
    },
    {
      "cell_type": "code",
      "metadata": {
        "scrolled": true,
        "id": "qlOpNzg5NDIV",
        "colab_type": "code",
        "colab": {
          "base_uri": "https://localhost:8080/",
          "height": 297
        },
        "outputId": "08f1e654-58e5-4725-99ff-cdebe95dc457"
      },
      "source": [
        "# Number of passengers with no or several Siblings/Spouses\n",
        "plot = sns.catplot(x=\"Siblings_spouses\", hue='AgeCat',kind=\"count\", data=train, height=4, aspect=3)"
      ],
      "execution_count": 25,
      "outputs": [
        {
          "output_type": "display_data",
          "data": {
            "image/png": "[encoded data removed]",
            "text/plain": [
              "<Figure size 925.625x288 with 1 Axes>"
            ]
          },
          "metadata": {
            "tags": [],
            "needs_background": "light"
          }
        }
      ]
    },
    {
      "cell_type": "code",
      "metadata": {
        "scrolled": true,
        "id": "WoazqLyYNDIg",
        "colab_type": "code",
        "colab": {
          "base_uri": "https://localhost:8080/",
          "height": 297
        },
        "outputId": "0799d3f5-2c92-4468-81b8-2b3fbbf1a034"
      },
      "source": [
        "# Survival probability of passengers with no or several Siblings/Spouses\n",
        "plot = sns.catplot(x=\"Siblings_spouses\", y=\"Survived\", hue=\"AgeCat\", kind=\"bar\", data=train, height=4, aspect=3).set_ylabels(\"survival probability\")"
      ],
      "execution_count": 26,
      "outputs": [
        {
          "output_type": "display_data",
          "data": {
            "image/png": "[encoded data removed]",
            "text/plain": [
              "<Figure size 925.625x288 with 1 Axes>"
            ]
          },
          "metadata": {
            "tags": [],
            "needs_background": "light"
          }
        }
      ]
    },
    {
      "cell_type": "markdown",
      "metadata": {
        "id": "yyGl0sajNDIs",
        "colab_type": "text"
      },
      "source": [
        "The survival chance of a child with 2 or less siblings is much higher than than for a child with 3 or more siblings. On the contrary, for an adult with 2 or less (or more than 4) siblings the survival chance is lower than for an adult with 3 or 4 siblings. Hence, the family size seems to play an important role, too. To confirm this, we first have to analize *Parchil*, as well."
      ]
    },
    {
      "cell_type": "code",
      "metadata": {
        "scrolled": false,
        "id": "A-piw_0RNDIw",
        "colab_type": "code",
        "colab": {
          "base_uri": "https://localhost:8080/",
          "height": 297
        },
        "outputId": "c9d59569-f85e-4a01-b8b6-f99ff45ee015"
      },
      "source": [
        "# Number of children with no or several siblings per class (assuming children younger than 15 are not married)\n",
        "plot = sns.catplot(x=\"Siblings_spouses\", hue='ticket_class', kind=\"count\", data=train[train['AgeCat']=='child'], height=4, aspect=2.15)"
      ],
      "execution_count": 27,
      "outputs": [
        {
          "output_type": "display_data",
          "data": {
            "image/png": "[encoded data removed]",
            "text/plain": [
              "<Figure size 684.825x288 with 1 Axes>"
            ]
          },
          "metadata": {
            "tags": [],
            "needs_background": "light"
          }
        }
      ]
    },
    {
      "cell_type": "markdown",
      "metadata": {
        "id": "IvaGDtAGNDI5",
        "colab_type": "text"
      },
      "source": [
        "Obviously, the children in the third class have more siblings and hence the families are bigger (also see analysis of *Parchil*)"
      ]
    },
    {
      "cell_type": "markdown",
      "metadata": {
        "id": "VCh7sSJ7NDJB",
        "colab_type": "text"
      },
      "source": [
        "### 4.5 Parchil (Parents/children) <a id=\"FAna5\"></a>"
      ]
    },
    {
      "cell_type": "code",
      "metadata": {
        "id": "A9W4I8MWNDJJ",
        "colab_type": "code",
        "colab": {
          "base_uri": "https://localhost:8080/",
          "height": 348
        },
        "outputId": "0e527e93-bf10-4186-c40e-16d567a226a3"
      },
      "source": [
        "# Number of passengers with no or several parents/children\n",
        "plot = sns.catplot(x=\"Parchil\",kind=\"count\", data=train, height=4.7, aspect=2.55)"
      ],
      "execution_count": 28,
      "outputs": [
        {
          "output_type": "display_data",
          "data": {
            "image/png": "[encoded data removed]",
            "text/plain": [
              "<Figure size 862.92x338.4 with 1 Axes>"
            ]
          },
          "metadata": {
            "tags": [],
            "needs_background": "light"
          }
        }
      ]
    },
    {
      "cell_type": "markdown",
      "metadata": {
        "id": "Xs9OJO0NNDJX",
        "colab_type": "text"
      },
      "source": [
        "Most passengers have neither children nor parents on board."
      ]
    },
    {
      "cell_type": "code",
      "metadata": {
        "id": "1a0P5M5jNDJa",
        "colab_type": "code",
        "colab": {
          "base_uri": "https://localhost:8080/",
          "height": 348
        },
        "outputId": "5ac88984-0dcb-43ad-89a5-263692335191"
      },
      "source": [
        "# Survival chance of passengers with no or several parents/children\n",
        "plot = sns.catplot(x=\"Parchil\", y='Survived',kind=\"bar\", data=train, height=4.7, aspect=2.55)"
      ],
      "execution_count": 29,
      "outputs": [
        {
          "output_type": "display_data",
          "data": {
            "image/png": "[encoded data removed]",
            "text/plain": [
              "<Figure size 862.92x338.4 with 1 Axes>"
            ]
          },
          "metadata": {
            "tags": [],
            "needs_background": "light"
          }
        }
      ]
    },
    {
      "cell_type": "code",
      "metadata": {
        "id": "3OYXM6TwNDJt",
        "colab_type": "code",
        "colab": {
          "base_uri": "https://localhost:8080/",
          "height": 297
        },
        "outputId": "f73781c3-c5ac-497f-d2f5-efd6e7b781c2"
      },
      "source": [
        "# Number of children/adults with no or several parents/children\n",
        "plot = sns.catplot(x=\"Parchil\", hue='AgeCat',kind=\"count\", data=train, height=4, aspect=3)"
      ],
      "execution_count": 30,
      "outputs": [
        {
          "output_type": "display_data",
          "data": {
            "image/png": "[encoded data removed]",
            "text/plain": [
              "<Figure size 925.625x288 with 1 Axes>"
            ]
          },
          "metadata": {
            "tags": [],
            "needs_background": "light"
          }
        }
      ]
    },
    {
      "cell_type": "code",
      "metadata": {
        "id": "McO8EbyuNDJ6",
        "colab_type": "code",
        "colab": {
          "base_uri": "https://localhost:8080/",
          "height": 304
        },
        "outputId": "8fc3f4f6-6d6e-41d5-87b8-a260f47ea7d3"
      },
      "source": [
        "# Survival chance of children/adults with no or several parents/children\n",
        "plot = sns.catplot(x=\"Parchil\", y='Survived', hue='AgeCat',kind=\"bar\", data=train, height=4.1, aspect=3)"
      ],
      "execution_count": 31,
      "outputs": [
        {
          "output_type": "display_data",
          "data": {
            "image/png": "[encoded data removed]",
            "text/plain": [
              "<Figure size 947.225x295.2 with 1 Axes>"
            ]
          },
          "metadata": {
            "tags": [],
            "needs_background": "light"
          }
        }
      ]
    },
    {
      "cell_type": "markdown",
      "metadata": {
        "id": "3c8W1KE3NDKL",
        "colab_type": "text"
      },
      "source": [
        "Note: We have set the age limit to still be a child to 15. So it might be that there are young adults (older than 15) which have parents on bord and children (15 or younger) that are already a parent (not as unusual as today at the beginning of the 20th century)."
      ]
    },
    {
      "cell_type": "markdown",
      "metadata": {
        "id": "j78T1cL_NDKM",
        "colab_type": "text"
      },
      "source": [
        "**Summary (also considering *Siblings_spouses*):**\n",
        "The probability for a passenger to survive is the higher if he/she belongs to a smaller family instead of traveling alone (adult) or belonging to big family (more than 3 *Siblings_spouses* or *Parchil*). We should consider this for feature engeneering. "
      ]
    },
    {
      "cell_type": "markdown",
      "metadata": {
        "id": "G1gtQfK3NDKO",
        "colab_type": "text"
      },
      "source": [
        "### 4.6 Fare <a id=\"FAna6\"></a>"
      ]
    },
    {
      "cell_type": "markdown",
      "metadata": {
        "id": "jdHe4X2yNDKQ",
        "colab_type": "text"
      },
      "source": [
        "The correlation matrix we analyzed above showed that *Fare* has a least correlation with the chance to survive. Let's explore the distribution of fares and how it correlates with survival."
      ]
    },
    {
      "cell_type": "code",
      "metadata": {
        "id": "LQSGEb5ENDKT",
        "colab_type": "code",
        "colab": {
          "base_uri": "https://localhost:8080/",
          "height": 279
        },
        "outputId": "d089bf99-b6ee-4aab-fd4d-d2879296237a"
      },
      "source": [
        "# Explore Fare distibution (you can change the different parameters below \n",
        "#to better understand the Fare distribution)\n",
        "kde=False\n",
        "upper=100  # upper limit for data in histogram\n",
        "lower=0    # lower limit for data in histogram\n",
        "ticket_class=3   # type 0 for all classes\n",
        "\n",
        "# perserve bin size for different parameters\n",
        "bins=int((upper-lower)/5) \n",
        "if ticket_class == 1 or ticket_class == 2 or ticket_class == 3:\n",
        "    upticket_class = ticket_class+1\n",
        "    lowticket_class = ticket_class\n",
        "else: \n",
        "    upticket_class = 4\n",
        "    lowticket_class = 1\n",
        "    \n",
        "plot = sns.distplot(train[\"fare\"][(train[\"Survived\"] == 0) & (train[\"fare\"]< upper) & (train[\"fare\"]> lower) & (train[\"ticket_class\"]<upticket_class) & (train[\"ticket_class\"]>=lowticket_class)], bins=bins, color=\"Red\", kde=kde)\n",
        "plot = sns.distplot(train[\"fare\"][(train[\"Survived\"] == 1) & (train[\"fare\"]< upper) & (train[\"fare\"]> lower) & (train[\"ticket_class\"]<upticket_class) & (train[\"ticket_class\"]>=lowticket_class)], bins=bins, color=\"Green\", kde=kde)\n",
        "plot.set_xlabel(\"fare\")\n",
        "plot = plot.legend([\"Not Survived\",\"Survived\"])"
      ],
      "execution_count": 32,
      "outputs": [
        {
          "output_type": "display_data",
          "data": {
            "image/png": "[encoded data removed]",
            "text/plain": [
              "<Figure size 432x288 with 1 Axes>"
            ]
          },
          "metadata": {
            "tags": [],
            "needs_background": "light"
          }
        }
      ]
    },
    {
      "cell_type": "markdown",
      "metadata": {
        "id": "VpS1DNr7NDKf",
        "colab_type": "text"
      },
      "source": [
        "Analyzing the ditributions for different *ticket_class* reveals that, for instance, some 3rd class tickets are much more expensive than the average 1st class ticket.\n",
        "\n",
        "So let's have a look at these expensive 3rd class tickets with a price around 70:"
      ]
    },
    {
      "cell_type": "code",
      "metadata": {
        "scrolled": true,
        "id": "6C6OTC6mNDKj",
        "colab_type": "code",
        "colab": {
          "base_uri": "https://localhost:8080/",
          "height": 328
        },
        "outputId": "cc9bc1ee-5bfb-4805-d17f-938aae54723b"
      },
      "source": [
        "train[['fare','name','TickNum','Siblings_spouses','Parchil']].iloc[train.index[(train['ticket_class']==3) & (train['fare']>60)]]"
      ],
      "execution_count": 33,
      "outputs": [
        {
          "output_type": "execute_result",
          "data": {
            "text/html": [
              "<div>\n",
              "<style scoped>\n",
              "    .dataframe tbody tr th:only-of-type {\n",
              "        vertical-align: middle;\n",
              "    }\n",
              "\n",
              "    .dataframe tbody tr th {\n",
              "        vertical-align: top;\n",
              "    }\n",
              "\n",
              "    .dataframe thead th {\n",
              "        text-align: right;\n",
              "    }\n",
              "</style>\n",
              "<table border=\"1\" class=\"dataframe\">\n",
              "  <thead>\n",
              "    <tr style=\"text-align: right;\">\n",
              "      <th></th>\n",
              "      <th>fare</th>\n",
              "      <th>name</th>\n",
              "      <th>TickNum</th>\n",
              "      <th>Siblings_spouses</th>\n",
              "      <th>Parchil</th>\n",
              "    </tr>\n",
              "  </thead>\n",
              "  <tbody>\n",
              "    <tr>\n",
              "      <th>3</th>\n",
              "      <td>69.55</td>\n",
              "      <td>Sage, Miss. Dorothy Edith \"Dolly\"</td>\n",
              "      <td>CA. 2343</td>\n",
              "      <td>8</td>\n",
              "      <td>2</td>\n",
              "    </tr>\n",
              "    <tr>\n",
              "      <th>75</th>\n",
              "      <td>69.55</td>\n",
              "      <td>Sage, Miss. Stella Anna</td>\n",
              "      <td>CA. 2343</td>\n",
              "      <td>8</td>\n",
              "      <td>2</td>\n",
              "    </tr>\n",
              "    <tr>\n",
              "      <th>208</th>\n",
              "      <td>69.55</td>\n",
              "      <td>Sage, Mr. George John Jr</td>\n",
              "      <td>CA. 2343</td>\n",
              "      <td>8</td>\n",
              "      <td>2</td>\n",
              "    </tr>\n",
              "    <tr>\n",
              "      <th>295</th>\n",
              "      <td>69.55</td>\n",
              "      <td>Sage, Miss. Ada</td>\n",
              "      <td>CA. 2343</td>\n",
              "      <td>8</td>\n",
              "      <td>2</td>\n",
              "    </tr>\n",
              "    <tr>\n",
              "      <th>369</th>\n",
              "      <td>69.55</td>\n",
              "      <td>Sage, Master. Thomas Henry</td>\n",
              "      <td>CA. 2343</td>\n",
              "      <td>8</td>\n",
              "      <td>2</td>\n",
              "    </tr>\n",
              "    <tr>\n",
              "      <th>529</th>\n",
              "      <td>69.55</td>\n",
              "      <td>Sage, Mr. Frederick</td>\n",
              "      <td>CA. 2343</td>\n",
              "      <td>8</td>\n",
              "      <td>2</td>\n",
              "    </tr>\n",
              "    <tr>\n",
              "      <th>615</th>\n",
              "      <td>69.55</td>\n",
              "      <td>Sage, Master. William Henry</td>\n",
              "      <td>CA. 2343</td>\n",
              "      <td>8</td>\n",
              "      <td>2</td>\n",
              "    </tr>\n",
              "    <tr>\n",
              "      <th>758</th>\n",
              "      <td>69.55</td>\n",
              "      <td>Sage, Mr. John George</td>\n",
              "      <td>CA. 2343</td>\n",
              "      <td>1</td>\n",
              "      <td>9</td>\n",
              "    </tr>\n",
              "    <tr>\n",
              "      <th>830</th>\n",
              "      <td>69.55</td>\n",
              "      <td>Sage, Mrs. John (Annie Bullen)</td>\n",
              "      <td>CA. 2343</td>\n",
              "      <td>1</td>\n",
              "      <td>9</td>\n",
              "    </tr>\n",
              "  </tbody>\n",
              "</table>\n",
              "</div>"
            ],
            "text/plain": [
              "      fare                               name  ... Siblings_spouses  Parchil\n",
              "3    69.55  Sage, Miss. Dorothy Edith \"Dolly\"  ...                8        2\n",
              "75   69.55            Sage, Miss. Stella Anna  ...                8        2\n",
              "208  69.55           Sage, Mr. George John Jr  ...                8        2\n",
              "295  69.55                    Sage, Miss. Ada  ...                8        2\n",
              "369  69.55         Sage, Master. Thomas Henry  ...                8        2\n",
              "529  69.55                Sage, Mr. Frederick  ...                8        2\n",
              "615  69.55        Sage, Master. William Henry  ...                8        2\n",
              "758  69.55              Sage, Mr. John George  ...                1        9\n",
              "830  69.55     Sage, Mrs. John (Annie Bullen)  ...                1        9\n",
              "\n",
              "[9 rows x 5 columns]"
            ]
          },
          "metadata": {
            "tags": []
          },
          "execution_count": 33
        }
      ]
    },
    {
      "cell_type": "markdown",
      "metadata": {
        "id": "2s8Ld6P3NDK2",
        "colab_type": "text"
      },
      "source": [
        "Obviously, the price belongs to a ticket which was purchased for a whole family and not for a single passenger. Since the family relation is already coverd by other features licke *Parch*, *SibSp*, and *Ticket* it might be more informative to have ticket prices per passenger. So let's correct the ticket *Fare* and introduce a new feature *FareCorr* with the fare per passenger:"
      ]
    },
    {
      "cell_type": "code",
      "metadata": {
        "id": "Jk53SSDYNDK4",
        "colab_type": "code",
        "colab": {
          "base_uri": "https://localhost:8080/",
          "height": 119
        },
        "outputId": "b5f3bb7a-7b5c-468d-fd1b-c3f8197e8695"
      },
      "source": [
        "# the code below finds person groups which share the same tickets and \n",
        "# divides the ticket fare by the number of people in the group\n",
        "train['FareCorr'] = train['fare'].copy()\n",
        "\n",
        "m=0 # m=0 -> print first iteration as example how the code works\n",
        "for grp, grp_df in train[['TickNum', 'name', 'ticket_class', 'fare', 'traveller_ID']].groupby(['TickNum']):\n",
        "\n",
        "    if (len(grp_df) != 1):\n",
        "        if m==0:\n",
        "            print(grp_df)\n",
        "            m=1\n",
        "        for ind, row in grp_df.iterrows():\n",
        "            passID = row['traveller_ID']\n",
        "            train.loc[train['traveller_ID'] == passID, 'FareCorr'] = train['fare'][train['traveller_ID'] == passID]/len(grp_df)\n"
      ],
      "execution_count": 34,
      "outputs": [
        {
          "output_type": "stream",
          "text": [
            "    TickNum  ... traveller_ID\n",
            "66   110152  ...           67\n",
            "567  110152  ...          195\n",
            "626  110152  ...          245\n",
            "\n",
            "[3 rows x 5 columns]\n"
          ],
          "name": "stdout"
        }
      ]
    },
    {
      "cell_type": "markdown",
      "metadata": {
        "id": "RExhaEHRNDLJ",
        "colab_type": "text"
      },
      "source": [
        "Now let's go back to the histograms and check how the distributions look like for *FareCorr*:"
      ]
    },
    {
      "cell_type": "code",
      "metadata": {
        "id": "jOKJ6py9NDLL",
        "colab_type": "code",
        "colab": {
          "base_uri": "https://localhost:8080/",
          "height": 279
        },
        "outputId": "376e185c-1f88-4367-bc11-5fab156d62aa"
      },
      "source": [
        "# Explore Fare distibution (you can change the different parameters below \n",
        "#to better understand the Fare distribution)\n",
        "kde=False\n",
        "upper=100  # upper limit for data in histogram\n",
        "lower=0    # lower imit for data in histogram\n",
        "ticket_class=0   # type 0 for all classes\n",
        "\n",
        "# perserve bin size for different parameters\n",
        "bins=int((upper-lower)/5) \n",
        "\n",
        "if ticket_class == 1 or ticket_class == 2 or ticket_class == 3:\n",
        "    upticket_class = ticket_class+1\n",
        "    lowticket_class = ticket_class\n",
        "else: \n",
        "    upticket_class = 4\n",
        "    lowticket_class = 1\n",
        "    \n",
        "plot = sns.distplot(train[\"FareCorr\"][(train[\"Survived\"] == 0) & (train[\"FareCorr\"]< upper) & (train[\"FareCorr\"]> lower) & (train[\"ticket_class\"]<upticket_class) & (train[\"ticket_class\"]>=lowticket_class)], bins=bins, color=\"Red\", kde=kde)\n",
        "plot = sns.distplot(train[\"FareCorr\"][(train[\"Survived\"] == 1) & (train[\"FareCorr\"]< upper) & (train[\"FareCorr\"]> lower) & (train[\"ticket_class\"]<upticket_class) & (train[\"ticket_class\"]>=lowticket_class)], bins=bins, color=\"Green\", kde=kde)\n",
        "plot.set_xlabel(\"Fare\")\n",
        "plot = plot.legend([\"Not Survived\",\"Survived\"])"
      ],
      "execution_count": 35,
      "outputs": [
        {
          "output_type": "display_data",
          "data": {
            "image/png": "[encoded data removed]",
            "text/plain": [
              "<Figure size 432x288 with 1 Axes>"
            ]
          },
          "metadata": {
            "tags": [],
            "needs_background": "light"
          }
        }
      ]
    },
    {
      "cell_type": "markdown",
      "metadata": {
        "id": "I9-leTp2NDLs",
        "colab_type": "text"
      },
      "source": [
        "These distributions for the real fare per passenger now strongly correlate with *ticket_class* and look more \"natural\". Hence, passengers ahich purchased a more expensive ticket have a higher probability to survive. This becomes obvious if we introduce fare categories *FareCat* based on *FareCorr* and analyze the survival rate:  "
      ]
    },
    {
      "cell_type": "code",
      "metadata": {
        "id": "oSqFwBkgNDLt",
        "colab_type": "code",
        "colab": {
          "base_uri": "https://localhost:8080/",
          "height": 85
        },
        "outputId": "22de05ff-3a3a-4fd9-9785-ddbc23832b48"
      },
      "source": [
        "train['FareCat']=pd.cut(train['FareCorr'], bins=[0,15,65,max(train[\"FareCorr\"]+1)], labels=['low','mid','high'])\n",
        "train['FareCat'].value_counts()"
      ],
      "execution_count": 36,
      "outputs": [
        {
          "output_type": "execute_result",
          "data": {
            "text/plain": [
              "low     634\n",
              "mid     234\n",
              "high     37\n",
              "Name: FareCat, dtype: int64"
            ]
          },
          "metadata": {
            "tags": []
          },
          "execution_count": 36
        }
      ]
    },
    {
      "cell_type": "code",
      "metadata": {
        "scrolled": true,
        "id": "hB5uuOKuNDL5",
        "colab_type": "code",
        "colab": {
          "base_uri": "https://localhost:8080/",
          "height": 369
        },
        "outputId": "0fc5d934-5753-4c0b-ae5d-d97db4af47da"
      },
      "source": [
        "plot = sns.catplot(x=\"FareCat\", y='Survived',kind=\"bar\", data=train, height=5, aspect=1)\n"
      ],
      "execution_count": 37,
      "outputs": [
        {
          "output_type": "display_data",
          "data": {
            "image/png": "[encoded data removed]",
            "text/plain": [
              "<Figure size 360x360 with 1 Axes>"
            ]
          },
          "metadata": {
            "tags": [],
            "needs_background": "light"
          }
        }
      ]
    },
    {
      "cell_type": "markdown",
      "metadata": {
        "id": "pJziUiYpNDMJ",
        "colab_type": "text"
      },
      "source": [
        "### 4.7 Embarked <a id=\"FAna7\"></a>"
      ]
    },
    {
      "cell_type": "markdown",
      "metadata": {
        "id": "16xKLbOpNDML",
        "colab_type": "text"
      },
      "source": [
        "The titanic had three different stops before it went on to cross the Atlantic - Southhampton (England), Cherbourg (France), and Queenstown (Ireland)."
      ]
    },
    {
      "cell_type": "code",
      "metadata": {
        "scrolled": false,
        "id": "2mU_jux0NDMM",
        "colab_type": "code",
        "colab": {
          "base_uri": "https://localhost:8080/",
          "height": 297
        },
        "outputId": "89970946-e457-47a3-b1e8-8285f6be6f22"
      },
      "source": [
        "# Number of passengers that embarked at the three different habours\n",
        "plot = sns.catplot(x=\"embarked\",kind=\"count\", data=train, height=4, aspect=1)"
      ],
      "execution_count": 38,
      "outputs": [
        {
          "output_type": "display_data",
          "data": {
            "image/png": "[encoded data removed]",
            "text/plain": [
              "<Figure size 288x288 with 1 Axes>"
            ]
          },
          "metadata": {
            "tags": [],
            "needs_background": "light"
          }
        }
      ]
    },
    {
      "cell_type": "code",
      "metadata": {
        "scrolled": false,
        "id": "0465y1N_NDMg",
        "colab_type": "code",
        "colab": {
          "base_uri": "https://localhost:8080/",
          "height": 369
        },
        "outputId": "1aa1606e-6d29-4058-95e9-206a30fb5be9"
      },
      "source": [
        "# Survival Probability of passengers emarked at the three different habours\n",
        "plot = sns.catplot(x=\"embarked\", y='Survived', kind=\"bar\", data=train, height=5, aspect=1)"
      ],
      "execution_count": 39,
      "outputs": [
        {
          "output_type": "display_data",
          "data": {
            "image/png": "[encoded data removed]",
            "text/plain": [
              "<Figure size 360x360 with 1 Axes>"
            ]
          },
          "metadata": {
            "tags": [],
            "needs_background": "light"
          }
        }
      ]
    },
    {
      "cell_type": "code",
      "metadata": {
        "id": "F7UX81qKNDMu",
        "colab_type": "code",
        "colab": {
          "base_uri": "https://localhost:8080/",
          "height": 369
        },
        "outputId": "f2a536b7-53b1-4ddf-c3f4-bdf721d7dfd1"
      },
      "source": [
        "# Number of passengers emarked at the three different habours per class\n",
        "plot = sns.catplot(x=\"embarked\", hue='ticket_class',kind=\"count\", data=train, height=5, aspect=1)"
      ],
      "execution_count": 40,
      "outputs": [
        {
          "output_type": "display_data",
          "data": {
            "image/png": "[encoded data removed]",
            "text/plain": [
              "<Figure size 425.625x360 with 1 Axes>"
            ]
          },
          "metadata": {
            "tags": [],
            "needs_background": "light"
          }
        }
      ]
    },
    {
      "cell_type": "code",
      "metadata": {
        "scrolled": false,
        "id": "Zp-bcHU5NDNP",
        "colab_type": "code",
        "colab": {
          "base_uri": "https://localhost:8080/",
          "height": 369
        },
        "outputId": "915808d5-e65b-4741-ee4d-85660eb9572e"
      },
      "source": [
        "# Survival Probability of passengers emarked at the three different habours per class\n",
        "plot = sns.catplot(x=\"embarked\", y='Survived', hue='ticket_class', kind=\"bar\", data=train, height=5, aspect=1)"
      ],
      "execution_count": 41,
      "outputs": [
        {
          "output_type": "display_data",
          "data": {
            "image/png": "[encoded data removed]",
            "text/plain": [
              "<Figure size 425.625x360 with 1 Axes>"
            ]
          },
          "metadata": {
            "tags": [],
            "needs_background": "light"
          }
        }
      ]
    },
    {
      "cell_type": "markdown",
      "metadata": {
        "id": "S8mfo-5KNDNW",
        "colab_type": "text"
      },
      "source": [
        "Most passengers embarked in Southampton - one half 3rd class, the other half 1st and 2nd class passengers. The majority of the passengers which embarked in Cherbourg traveled in the 1st class, which explains the higher survival probability of this passenger group. It is remarkable that in Queenstwon mainly 3rd class passengers embarked, however, their survival probability is higher than for the passengers which embarked in Southamton. This might be relevant information."
      ]
    },
    {
      "cell_type": "markdown",
      "metadata": {
        "id": "7oxXO5OHNDNd",
        "colab_type": "text"
      },
      "source": [
        "### 4.8 TickNum and Cabin <a id=\"FAna8\"></a>"
      ]
    },
    {
      "cell_type": "markdown",
      "metadata": {
        "id": "AifwKpQGNDNh",
        "colab_type": "text"
      },
      "source": [
        "In this notebook I will not further analyze these two features. As mentioned above discussing the feature *Fare*, the feature *Ticket* is very valuble to find groups that share the same ticket to correct the fare prices and implement the new *FareCorr*. Apart from that some tickets habe a letter which refers to the deck/level. Analyzing this together with the feature *Cabin*, where most of the entries are missing (or where the passengers had no cabin?!?), one could construct a new feature containing information about the survival probability regarding the deck/level. For more info have a look at the [wiki entry](https://en.wikipedia.org/wiki/RMS_Titanic)."
      ]
    },
    {
      "cell_type": "markdown",
      "metadata": {
        "id": "x-ilGW7vNDNi",
        "colab_type": "text"
      },
      "source": [
        "[back to Table of Contents](#TOC)\n",
        "## 5. Feature engineering and missing values <a id=\"FEng\"></a>"
      ]
    },
    {
      "cell_type": "markdown",
      "metadata": {
        "id": "8wtcVQQuNDNv",
        "colab_type": "text"
      },
      "source": [
        "### 5.1 Add new feature *Title*  <a id=\"FEng1\"></a>"
      ]
    },
    {
      "cell_type": "code",
      "metadata": {
        "scrolled": false,
        "id": "nd0XVxxvNDNw",
        "colab_type": "code",
        "colab": {
          "base_uri": "https://localhost:8080/",
          "height": 714
        },
        "outputId": "778681bf-c262-4a98-d4f3-05249f317a97"
      },
      "source": [
        "data['name'][240:280]"
      ],
      "execution_count": 42,
      "outputs": [
        {
          "output_type": "execute_result",
          "data": {
            "text/plain": [
              "240                Hocking, Mrs. Elizabeth (Eliza Needs)\n",
              "241                                 Sagesser, Mlle. Emma\n",
              "242              West, Mrs. Edwy Arthur (Ada Mary Worth)\n",
              "243                           de Brito, Mr. Jose Joaquim\n",
              "244                                    Daher, Mr. Shedid\n",
              "245                                    Ryan, Mr. Patrick\n",
              "246         Shelley, Mrs. William (Imanita Parrish Hall)\n",
              "247    Jacobsohn, Mrs. Sidney Samuel (Amy Frances Chr...\n",
              "248                            Sjoblom, Miss. Anna Sofia\n",
              "249         Harder, Mrs. George Achilles (Dorothy Annan)\n",
              "250                    Mellinger, Miss. Madeleine Violet\n",
              "251                                   Skoog, Miss. Mabel\n",
              "252                                   Pulbaum, Mr. Franz\n",
              "253                         Kimball, Mr. Edwin Nelson Jr\n",
              "254                  van Billiard, Master. James William\n",
              "255                       Vande Walle, Mr. Nestor Cyriel\n",
              "256                                Krekorian, Mr. Neshan\n",
              "257                                  Buckley, Mr. Daniel\n",
              "258                                    Yousif, Mr. Wazli\n",
              "259                               Andrews, Mr. Thomas Jr\n",
              "260                                      Flynn, Mr. John\n",
              "261                                  McMahon, Mr. Martin\n",
              "262                    Byles, Rev. Thomas Roussel Davids\n",
              "263    Angle, Mrs. William A (Florence \"Mary\" Agnes H...\n",
              "264                         Gustafsson, Mr. Johan Birger\n",
              "265                             Mannion, Miss. Margareth\n",
              "266    Johnston, Mrs. Andrew G (Elizabeth \"Lily\" Watson)\n",
              "267                              Serepeca, Miss. Augusta\n",
              "268                             Morrow, Mr. Thomas Rowan\n",
              "269                        Clarke, Mr. Charles Valentine\n",
              "270                                     Kelly, Mr. James\n",
              "271                                  Charters, Mr. David\n",
              "272                     Mullens, Miss. Katherine \"Katie\"\n",
              "273                                     Pain, Dr. Alfred\n",
              "274                             Lobb, Mr. William Arthur\n",
              "275                                Drapkin, Miss. Jennie\n",
              "276                    Karlsson, Mr. Julius Konrad Eugen\n",
              "277            Thomas, Mrs. Alexander (Thamine \"Thelma\")\n",
              "278                     Herman, Mrs. Samuel (Jane Laver)\n",
              "279                                     Pernot, Mr. Rene\n",
              "Name: name, dtype: object"
            ]
          },
          "metadata": {
            "tags": []
          },
          "execution_count": 42
        }
      ]
    },
    {
      "cell_type": "markdown",
      "metadata": {
        "id": "o-TFe4N4NDN7",
        "colab_type": "text"
      },
      "source": [
        "The passengers have different titels which give information about their sex (Mr., Mrs., Miss., Master, Rev.), about their social status (Dr., Rev.) or about their age (Mrs., Miss., Master, Dr., Rev.). Characteristics which affect the survival probability. Hence, it makes sense to create a new feature *Title*."
      ]
    },
    {
      "cell_type": "code",
      "metadata": {
        "id": "U3Tirg2jNDOB",
        "colab_type": "code",
        "colab": {
          "base_uri": "https://localhost:8080/",
          "height": 289
        },
        "outputId": "c4638555-d09b-45e8-c027-77ddac512fe0"
      },
      "source": [
        "# extracting the Title (which always ends with a \".\")\n",
        "for name_string in data['name']:\n",
        "    data['Title'] = data['name'].str.extract('([A-Za-z]+)\\.', expand=True)\n",
        "\n",
        "#transform titles which are synonyms\n",
        "data['Title']=data['Title'].replace({'Ms':'Miss','Mlle':'Miss','Mme':'Mrs'})\n",
        "\n",
        "data['Title'].value_counts()"
      ],
      "execution_count": 43,
      "outputs": [
        {
          "output_type": "execute_result",
          "data": {
            "text/plain": [
              "Mr          757\n",
              "Miss        264\n",
              "Mrs         198\n",
              "Master       61\n",
              "Dr            8\n",
              "Rev           8\n",
              "Col           4\n",
              "Major         2\n",
              "Lady          1\n",
              "Countess      1\n",
              "Don           1\n",
              "Dona          1\n",
              "Sir           1\n",
              "Jonkheer      1\n",
              "Capt          1\n",
              "Name: Title, dtype: int64"
            ]
          },
          "metadata": {
            "tags": []
          },
          "execution_count": 43
        }
      ]
    },
    {
      "cell_type": "markdown",
      "metadata": {
        "id": "g6W-v0E3NDOI",
        "colab_type": "text"
      },
      "source": [
        "The analysis reveals some more titles, some of which are noble titles or indicate a higher social standing. We now can summarize the different titles in the following categories: "
      ]
    },
    {
      "cell_type": "code",
      "metadata": {
        "scrolled": true,
        "id": "mR5c4zDCNDOJ",
        "colab_type": "code",
        "colab": {
          "base_uri": "https://localhost:8080/",
          "height": 136
        },
        "outputId": "97263554-019e-4399-ca5f-866eddda902d"
      },
      "source": [
        "# Noble passengers\n",
        "data['Title']=data['Title'].replace(['Sir','Don','Dona','Jonkheer','Lady','Countess'], 'Noble')\n",
        "\n",
        "# passengers with a higher social standing\n",
        "data['Title']=data['Title'].replace(['Dr', 'Rev','Col','Major','Capt'], 'Others')\n",
        "\n",
        "data['Title'].value_counts()"
      ],
      "execution_count": 44,
      "outputs": [
        {
          "output_type": "execute_result",
          "data": {
            "text/plain": [
              "Mr        757\n",
              "Miss      264\n",
              "Mrs       198\n",
              "Master     61\n",
              "Others     23\n",
              "Noble       6\n",
              "Name: Title, dtype: int64"
            ]
          },
          "metadata": {
            "tags": []
          },
          "execution_count": 44
        }
      ]
    },
    {
      "cell_type": "markdown",
      "metadata": {
        "id": "QMvcb7AnNDOf",
        "colab_type": "text"
      },
      "source": [
        "In the next section (5.2) we will introduce a further title called youngMiss, which is the female equivalent to master."
      ]
    },
    {
      "cell_type": "markdown",
      "metadata": {
        "id": "boR1Fu8iNDOg",
        "colab_type": "text"
      },
      "source": [
        "\n",
        "\n",
        "\n",
        "### 5.2 Add new feature *AgeCat* (age categories) <a id=\"FEng2\"></a>"
      ]
    },
    {
      "cell_type": "markdown",
      "metadata": {
        "id": "4_AVzrZENDOi",
        "colab_type": "text"
      },
      "source": [
        "#### Fill missing values of *Age*"
      ]
    },
    {
      "cell_type": "markdown",
      "metadata": {
        "id": "ET3yi9aaNDOj",
        "colab_type": "text"
      },
      "source": [
        "The best strategy to fill the missing values might be to use the titles to guess the age, since we are goint to divide *Age* in two categories, namely <15 and >15 years.   "
      ]
    },
    {
      "cell_type": "code",
      "metadata": {
        "scrolled": true,
        "id": "a0srSqLfNDOl",
        "colab_type": "code",
        "colab": {
          "base_uri": "https://localhost:8080/",
          "height": 153
        },
        "outputId": "07835d99-d9e6-45aa-9221-d4417b8db895"
      },
      "source": [
        "data.groupby('Title')['age'].median()"
      ],
      "execution_count": 45,
      "outputs": [
        {
          "output_type": "execute_result",
          "data": {
            "text/plain": [
              "Title\n",
              "Master     4.0\n",
              "Miss      22.0\n",
              "Mr        29.0\n",
              "Mrs       35.0\n",
              "Noble     39.5\n",
              "Others    49.5\n",
              "Name: age, dtype: float64"
            ]
          },
          "metadata": {
            "tags": []
          },
          "execution_count": 45
        }
      ]
    },
    {
      "cell_type": "markdown",
      "metadata": {
        "id": "zFmSw_utNDO7",
        "colab_type": "text"
      },
      "source": [
        "With the title \"Master\" we are able to identify young male passengers, which have a significatly higher survival probability than adult men. For female passengers there is no dedicated title for young girls.\n",
        "\n",
        "However, we can make use of the fact that young Misses (age<15) are most likely traveling at least with one parent, i.e. Parchil >= 1. Let's check:"
      ]
    },
    {
      "cell_type": "code",
      "metadata": {
        "scrolled": true,
        "id": "z2sJ-TPMNDO9",
        "colab_type": "code",
        "colab": {
          "base_uri": "https://localhost:8080/",
          "height": 85
        },
        "outputId": "42714789-f370-4d33-d47a-8676594cfbe7"
      },
      "source": [
        "data['Parchil'][(data['age']<15) & (data['Title']=='Miss')].value_counts()"
      ],
      "execution_count": 46,
      "outputs": [
        {
          "output_type": "execute_result",
          "data": {
            "text/plain": [
              "1.0    23\n",
              "2.0    21\n",
              "0.0     6\n",
              "Name: Parchil, dtype: int64"
            ]
          },
          "metadata": {
            "tags": []
          },
          "execution_count": 46
        }
      ]
    },
    {
      "cell_type": "markdown",
      "metadata": {
        "id": "RDD0TsZENDPM",
        "colab_type": "text"
      },
      "source": [
        "Only about 12% of the Misses younger than 15 years have no parents/children on board. whereas between 15 and 20 ..."
      ]
    },
    {
      "cell_type": "code",
      "metadata": {
        "id": "dPzIZiJzNDPN",
        "colab_type": "code",
        "colab": {
          "base_uri": "https://localhost:8080/",
          "height": 85
        },
        "outputId": "d9d12c5b-04f5-4980-ac80-a43b952b33c2"
      },
      "source": [
        "#Misses older than 15\n",
        "data['Parchil'][(data['age']>=15) & (data['age']<25) & (data['Title']=='Miss')].value_counts()"
      ],
      "execution_count": 47,
      "outputs": [
        {
          "output_type": "execute_result",
          "data": {
            "text/plain": [
              "0.0    61\n",
              "2.0    14\n",
              "1.0    12\n",
              "Name: Parchil, dtype: int64"
            ]
          },
          "metadata": {
            "tags": []
          },
          "execution_count": 47
        }
      ]
    },
    {
      "cell_type": "markdown",
      "metadata": {
        "id": "vkNDMIj4NDPb",
        "colab_type": "text"
      },
      "source": [
        "... already 63% of the Misses have no parents/children on board (). So a passenger with the title 'Miss' and a non-zero Parchil value is most likly a young female.\n",
        "\n",
        "So let's consider two categories, \"Miss\" and \"young Miss\": "
      ]
    },
    {
      "cell_type": "code",
      "metadata": {
        "id": "6g7g_BnZNDPc",
        "colab_type": "code",
        "colab": {
          "base_uri": "https://localhost:8080/",
          "height": 51
        },
        "outputId": "8365fb8c-31f4-43bb-ec77-b8e5cbac78bd"
      },
      "source": [
        "print('Average age of young Miss(age<15): '+ str(data['age'][(data['Title']== 'Miss') & (data['age']<15)].median()) + ' years')\n",
        "print('Average age of Miss (age>=15): '+ str(data['age'][(data['Title']== 'Miss') & (data['age']>=15)].median()) + ' years')"
      ],
      "execution_count": 48,
      "outputs": [
        {
          "output_type": "stream",
          "text": [
            "Average age of young Miss(age<15): 5.0 years\n",
            "Average age of Miss (age>=15): 24.0 years\n"
          ],
          "name": "stdout"
        }
      ]
    },
    {
      "cell_type": "markdown",
      "metadata": {
        "id": "hmz4j1C5NDPs",
        "colab_type": "text"
      },
      "source": [
        "Indeed, \"youngMiss\" shows about the same average age as \"Master\", which supports the assumption we made above.\n",
        "\n",
        "Now we can fill the missing ages with the average values of the different titles and introduce \"youngMiss\" as a new title:"
      ]
    },
    {
      "cell_type": "code",
      "metadata": {
        "scrolled": true,
        "id": "3GuSwt-INDPt",
        "colab_type": "code",
        "colab": {}
      },
      "source": [
        "title_list=data.groupby('Title')['age'].median().index.to_list()\n",
        "# Filling missing age values \n",
        "for title in title_list:\n",
        "    if title=='Miss':\n",
        "        # Miss with Parchil = 0 and missing age value: set median age >15 to missing values\n",
        "        data.loc[(data['age'].isnull()) & (data['Title'] == title) & (data['Parchil'] == 0), 'age'] \\\n",
        "        = data['age'][(data['Title']== title) & (data['age']>=15)].median()\n",
        "        \n",
        "        # Miss with Parchil > 0 and missing age value: set median age <15 to missing values\n",
        "        data.loc[(data['age'].isnull()) & (data['Title'] == title) & (data['Parchil'] > 0), 'age'] \\\n",
        "        = data['age'][(data['Title']== title) & (data['age']<15)].median()\n",
        "        \n",
        "        # all Misses with Age < 15: set Title to youngMiss \n",
        "        data.loc[(data['age']<15) & (data['Title'] == title), 'Title'] \\\n",
        "        = 'youngMiss'    \n",
        "                                                 \n",
        "    else: \n",
        "        data.loc[(data['age'].isnull()) & (data['Title'] == title), 'age'] \\\n",
        "        = data['age'][(data['Title']== title)].median()"
      ],
      "execution_count": 49,
      "outputs": []
    },
    {
      "cell_type": "markdown",
      "metadata": {
        "id": "fRCSOVwMNDP7",
        "colab_type": "text"
      },
      "source": [
        "In general, it should be noted that the survival probability for women in general is rather high, so we have to see later on whether introducing the title \"young Miss\" improves our prediction."
      ]
    },
    {
      "cell_type": "code",
      "metadata": {
        "scrolled": true,
        "id": "4VmssCe3NDP8",
        "colab_type": "code",
        "colab": {
          "base_uri": "https://localhost:8080/",
          "height": 170
        },
        "outputId": "4bfcbda2-f182-4dfd-a3cc-1b545d820b2d"
      },
      "source": [
        "#check the average age for different titles\n",
        "data.groupby('Title')['age'].median()"
      ],
      "execution_count": 50,
      "outputs": [
        {
          "output_type": "execute_result",
          "data": {
            "text/plain": [
              "Title\n",
              "Master        4.0\n",
              "Miss         24.0\n",
              "Mr           29.0\n",
              "Mrs          35.0\n",
              "Noble        39.5\n",
              "Others       49.5\n",
              "youngMiss     5.0\n",
              "Name: age, dtype: float64"
            ]
          },
          "metadata": {
            "tags": []
          },
          "execution_count": 50
        }
      ]
    },
    {
      "cell_type": "code",
      "metadata": {
        "id": "Pht-hk2aNDQJ",
        "colab_type": "code",
        "colab": {
          "base_uri": "https://localhost:8080/",
          "height": 153
        },
        "outputId": "a6e690c3-be2d-4754-d37d-0150f7bb1b8d"
      },
      "source": [
        "#check number of titles\n",
        "data['Title'].value_counts()"
      ],
      "execution_count": 51,
      "outputs": [
        {
          "output_type": "execute_result",
          "data": {
            "text/plain": [
              "Mr           757\n",
              "Miss         204\n",
              "Mrs          198\n",
              "Master        61\n",
              "youngMiss     60\n",
              "Others        23\n",
              "Noble          6\n",
              "Name: Title, dtype: int64"
            ]
          },
          "metadata": {
            "tags": []
          },
          "execution_count": 51
        }
      ]
    },
    {
      "cell_type": "markdown",
      "metadata": {
        "id": "BP5Fg9iqNDQZ",
        "colab_type": "text"
      },
      "source": [
        "#### Implement new feature *AgeCat*"
      ]
    },
    {
      "cell_type": "code",
      "metadata": {
        "id": "dMWhHda_NDQb",
        "colab_type": "code",
        "colab": {
          "base_uri": "https://localhost:8080/",
          "height": 119
        },
        "outputId": "c6c8b59c-9491-4d4b-9ff8-4d8bbb1fd33c"
      },
      "source": [
        "# We split the feature Age in five categories, where category 1 refers to children (age<15)\n",
        "data[\"AgeCat\"]= pd.cut(data[\"age\"], bins=[0,14.9,30,45,60,max(data[\"age\"]+1)], labels=['1','2','3','4','5'])\n",
        "\n",
        "# size of each category\n",
        "data['AgeCat'].value_counts()"
      ],
      "execution_count": 52,
      "outputs": [
        {
          "output_type": "execute_result",
          "data": {
            "text/plain": [
              "2    717\n",
              "3    309\n",
              "1    127\n",
              "4    123\n",
              "5     33\n",
              "Name: AgeCat, dtype: int64"
            ]
          },
          "metadata": {
            "tags": []
          },
          "execution_count": 52
        }
      ]
    },
    {
      "cell_type": "code",
      "metadata": {
        "id": "BW6QfF-eNDQm",
        "colab_type": "code",
        "colab": {
          "base_uri": "https://localhost:8080/",
          "height": 297
        },
        "outputId": "478c1bd0-ebc3-4c2b-ecd7-ddff7efade86"
      },
      "source": [
        "plot = sns.catplot(x='AgeCat', y='Survived', kind='bar', data=data[:len(train)], height=4)"
      ],
      "execution_count": 53,
      "outputs": [
        {
          "output_type": "display_data",
          "data": {
            "image/png": "[encoded data removed]",
            "text/plain": [
              "<Figure size 288x288 with 1 Axes>"
            ]
          },
          "metadata": {
            "tags": [],
            "needs_background": "light"
          }
        }
      ]
    },
    {
      "cell_type": "markdown",
      "metadata": {
        "id": "JenB-xSsNDQv",
        "colab_type": "text"
      },
      "source": [
        "Here I used 5 different Age categories."
      ]
    },
    {
      "cell_type": "markdown",
      "metadata": {
        "id": "_FHORuLmNDQ2",
        "colab_type": "text"
      },
      "source": [
        "### 5.3 Add new feature *FamilySize* <a id=\"FEng3\"></a>"
      ]
    },
    {
      "cell_type": "markdown",
      "metadata": {
        "id": "f0beSyKONDQ3",
        "colab_type": "text"
      },
      "source": [
        "In the previous analysis we found that that family mebers of small families have a higher survival chance than singles or passengers with a big family. So let's implement this feature on the whole dataset:"
      ]
    },
    {
      "cell_type": "code",
      "metadata": {
        "id": "zErtS4lANDQ4",
        "colab_type": "code",
        "colab": {}
      },
      "source": [
        "# create feature FamilySize\n",
        "data.loc[data['Siblings_spouses'] + data['Parchil'] + 1 == 1, 'FamilySize'] = 'Single'\n",
        "data.loc[data['Siblings_spouses'] + data['Parchil'] + 1 > 1 , 'FamilySize'] = 'Small'\n",
        "data.loc[data['Siblings_spouses'] + data['Parchil'] + 1 > 4 , 'FamilySize'] = 'Big'"
      ],
      "execution_count": 54,
      "outputs": []
    },
    {
      "cell_type": "code",
      "metadata": {
        "id": "4TGdUlICNDRC",
        "colab_type": "code",
        "colab": {
          "base_uri": "https://localhost:8080/",
          "height": 85
        },
        "outputId": "752e5374-b17b-4345-a6a2-d2a31e9afa17"
      },
      "source": [
        "# size of each category\n",
        "data.FamilySize.value_counts()"
      ],
      "execution_count": 55,
      "outputs": [
        {
          "output_type": "execute_result",
          "data": {
            "text/plain": [
              "Single    790\n",
              "Small     437\n",
              "Big        82\n",
              "Name: FamilySize, dtype: int64"
            ]
          },
          "metadata": {
            "tags": []
          },
          "execution_count": 55
        }
      ]
    },
    {
      "cell_type": "code",
      "metadata": {
        "id": "C8ro8XWBNDRL",
        "colab_type": "code",
        "colab": {
          "base_uri": "https://localhost:8080/",
          "height": 369
        },
        "outputId": "ab004da4-f41e-4282-fcd6-47854fea36aa"
      },
      "source": [
        "plot = sns.catplot(x='FamilySize', y='Survived', kind='bar', data=data[:len(train)])"
      ],
      "execution_count": 56,
      "outputs": [
        {
          "output_type": "display_data",
          "data": {
            "image/png": "[encoded data removed]",
            "text/plain": [
              "<Figure size 360x360 with 1 Axes>"
            ]
          },
          "metadata": {
            "tags": [],
            "needs_background": "light"
          }
        }
      ]
    },
    {
      "cell_type": "markdown",
      "metadata": {
        "id": "WKLMHPlUNDRT",
        "colab_type": "text"
      },
      "source": [
        "### 5.4 Add new feature *FamilySurvival* <a id=\"FEng4\"></a>"
      ]
    },
    {
      "cell_type": "markdown",
      "metadata": {
        "id": "f3KEPYEdNDRa",
        "colab_type": "text"
      },
      "source": [
        "The inspiration for this feature came from [Konstantin](https://www.kaggle.com/konstantinmasich/titanic-0-82-0-83). The idea is to find groups of poeple, e.g. families (share the same LastName/Ticket) or people that just travel together (share same Ticket) and use the survival status of the group members to derive the survival status *FamilySurvival*. "
      ]
    },
    {
      "cell_type": "code",
      "metadata": {
        "id": "w32_ghFpNDRb",
        "colab_type": "code",
        "colab": {
          "base_uri": "https://localhost:8080/",
          "height": 221
        },
        "outputId": "0e38c8cc-8ee8-4220-9701-99ed79f8463c"
      },
      "source": [
        "# extract last names\n",
        "#data['Last_Name'] = data['Name'].apply(lambda x: str.split(x, \",\")[0])\n",
        "data['Last_Name'] =  data['name'].str.extract('([A-Za-z]+),', expand=True)\n",
        "data['Last_Name'].value_counts()\n",
        "#data.groupby('Last_Name')"
      ],
      "execution_count": 58,
      "outputs": [
        {
          "output_type": "execute_result",
          "data": {
            "text/plain": [
              "Sage          11\n",
              "Andersson     11\n",
              "Asplund        8\n",
              "Goodwin        8\n",
              "Davies         7\n",
              "              ..\n",
              "Edvardsson     1\n",
              "Wirz           1\n",
              "Dooley         1\n",
              "Rondberg       1\n",
              "Chaudanson     1\n",
              "Name: Last_Name, Length: 872, dtype: int64"
            ]
          },
          "metadata": {
            "tags": []
          },
          "execution_count": 58
        }
      ]
    },
    {
      "cell_type": "code",
      "metadata": {
        "scrolled": true,
        "id": "XAqF2FlgNDRh",
        "colab_type": "code",
        "colab": {
          "base_uri": "https://localhost:8080/",
          "height": 85
        },
        "outputId": "d36beb75-eaf9-4249-e179-d0253a151497"
      },
      "source": [
        "data['Last_Name'] = data['name'].apply(lambda x: str.split(x, \",\")[0])\n",
        "default_value = 0.5\n",
        "\n",
        "data['FamilySurvival'] = default_value\n",
        "for grp, grp_df in data[['Survived', 'Last_Name', 'TickNum', 'traveller_ID']].groupby(['Last_Name']):\n",
        "    \n",
        "    if (len(grp_df) != 1):\n",
        "        # A Family group is found.\n",
        "        for ind, row in grp_df.iterrows():\n",
        "            smax = grp_df.drop(ind)['Survived'].max()\n",
        "            smin = grp_df.drop(ind)['Survived'].min()\n",
        "            passID = row['traveller_ID']\n",
        "            if (smax == 1.0):\n",
        "                data.loc[data['traveller_ID'] == passID, 'FamilySurvival'] = 1\n",
        "            elif (smin == 0.0):\n",
        "                data.loc[data['traveller_ID'] == passID, 'FamilySurvival'] = 0\n",
        "                \n",
        "for _, grp_df in data.groupby('TickNum'):\n",
        "    if (len(grp_df) != 1):\n",
        "        #print(grp_df)\n",
        "        for ind, row in grp_df.iterrows():\n",
        "            if (row['FamilySurvival'] == 0) | (row['FamilySurvival']== 0.5):\n",
        "                smax = grp_df.drop(ind)['Survived'].max()\n",
        "                smin = grp_df.drop(ind)['Survived'].min()\n",
        "                passID = row['traveller_ID']\n",
        "                if (smax == 1.0):\n",
        "                    data.loc[data['traveller_ID'] == passID, 'FamilySurvival'] = 1\n",
        "                elif (smin == 0.0):\n",
        "                    data.loc[data['traveller_ID'] == passID, 'FamilySurvival'] = 0\n",
        "\n",
        "# check number of passengers in the different categories\n",
        "data['FamilySurvival'].value_counts()    "
      ],
      "execution_count": 59,
      "outputs": [
        {
          "output_type": "execute_result",
          "data": {
            "text/plain": [
              "0.5    613\n",
              "1.0    381\n",
              "0.0    315\n",
              "Name: FamilySurvival, dtype: int64"
            ]
          },
          "metadata": {
            "tags": []
          },
          "execution_count": 59
        }
      ]
    },
    {
      "cell_type": "markdown",
      "metadata": {
        "id": "uIQu0heWNDRq",
        "colab_type": "text"
      },
      "source": [
        "The code above first sets the values for all passegers to 0.5. This basically means the families survival status is unknown. Then all passengers are grouped regarding their *Last_Name* to find families (at least two passengers with the same name). It selects each member of the family and checks if one of the other family members (from which the survival satus is known, train set) has survived (feature *Survived* is 1). If this is the case, *FamilySurvival* is set to 1. Else the feature *FamilySurvival* is set to 0. Except if the target *Survived* is unknown for all family members (all from test set). In this case the value of *FamilySurvival* remains 0.5. \n",
        "In the last step, the code checks the feature *Ticket* of all passengers with *FamilySurvival*  0 and 0.5, if there is another passenger with the same ticket number and does the same thing. Passengers with the same ticket number are likely to travel togehther and hence, may have a correlation in their survival status."
      ]
    },
    {
      "cell_type": "markdown",
      "metadata": {
        "id": "qJg_VHnONDRr",
        "colab_type": "text"
      },
      "source": [
        "### 5.5 Add new features *FareCorr* and *FareCat* <a id=\"FEng5\"></a>"
      ]
    },
    {
      "cell_type": "markdown",
      "metadata": {
        "id": "spqsaqSpNDRs",
        "colab_type": "text"
      },
      "source": [
        "We already introduced these feature in section 4.6. Now let's implement them for the whole dataset:"
      ]
    },
    {
      "cell_type": "code",
      "metadata": {
        "id": "SHfLJ8AkNDRz",
        "colab_type": "code",
        "colab": {}
      },
      "source": [
        "# Corr Fare per person\n",
        "data['FareCorr'] = data['fare'].copy()\n",
        "\n",
        "for grp, grp_df in data[['TickNum','name', 'ticket_class', 'fare', 'traveller_ID']].groupby(['TickNum']):\n",
        "\n",
        "    if (len(grp_df) != 1):\n",
        "        for ind, row in grp_df.iterrows():\n",
        "            passID = row['traveller_ID']\n",
        "            data.loc[data['traveller_ID'] == passID, 'FareCorr'] = data['fare'][data['traveller_ID'] == passID]/len(grp_df)"
      ],
      "execution_count": 60,
      "outputs": []
    },
    {
      "cell_type": "code",
      "metadata": {
        "id": "-cFhnNvRNDR8",
        "colab_type": "code",
        "colab": {
          "base_uri": "https://localhost:8080/",
          "height": 459
        },
        "outputId": "9802f3c4-b2c1-447b-89a8-439e65ac8946"
      },
      "source": [
        "# Replacing one missing Fare value\n",
        "fa = data[data[\"ticket_class\"] == 3]\n",
        "data['FareCorr'].fillna(fa['FareCorr'].median(), inplace = True)\n",
        "data.info()"
      ],
      "execution_count": 61,
      "outputs": [
        {
          "output_type": "stream",
          "text": [
            "<class 'pandas.core.frame.DataFrame'>\n",
            "RangeIndex: 1309 entries, 0 to 1308\n",
            "Data columns (total 19 columns):\n",
            " #   Column            Non-Null Count  Dtype   \n",
            "---  ------            --------------  -----   \n",
            " 0   traveller_ID      1309 non-null   int64   \n",
            " 1   ticket_class      1309 non-null   float64 \n",
            " 2   name              1309 non-null   object  \n",
            " 3   sex               1309 non-null   object  \n",
            " 4   age               1309 non-null   float64 \n",
            " 5   Siblings_spouses  1309 non-null   float64 \n",
            " 6   Parchil           1309 non-null   float64 \n",
            " 7   TickNum           1309 non-null   object  \n",
            " 8   fare              1308 non-null   float64 \n",
            " 9   cabin             295 non-null    object  \n",
            " 10  embarked          1307 non-null   object  \n",
            " 11  MedBoat           486 non-null    object  \n",
            " 12  Survived          916 non-null    float64 \n",
            " 13  Title             1309 non-null   object  \n",
            " 14  AgeCat            1309 non-null   category\n",
            " 15  FamilySize        1309 non-null   object  \n",
            " 16  Last_Name         1309 non-null   object  \n",
            " 17  FamilySurvival    1309 non-null   float64 \n",
            " 18  FareCorr          1309 non-null   float64 \n",
            "dtypes: category(1), float64(8), int64(1), object(9)\n",
            "memory usage: 185.7+ KB\n"
          ],
          "name": "stdout"
        }
      ]
    },
    {
      "cell_type": "markdown",
      "metadata": {
        "id": "-5Vc61RONDSC",
        "colab_type": "text"
      },
      "source": [
        "Here, I use seven fare categories."
      ]
    },
    {
      "cell_type": "code",
      "metadata": {
        "id": "dRR9DPnVNDSD",
        "colab_type": "code",
        "colab": {
          "base_uri": "https://localhost:8080/",
          "height": 153
        },
        "outputId": "ede656ca-0da6-4622-c653-ce3dc0a954ae"
      },
      "source": [
        "data['FareCat']=pd.qcut(data['FareCorr'], 7, labels=['1','2','3','4','5','6','7'])\n",
        "data['FareCat'].value_counts()"
      ],
      "execution_count": 62,
      "outputs": [
        {
          "output_type": "execute_result",
          "data": {
            "text/plain": [
              "2    236\n",
              "5    212\n",
              "1    188\n",
              "7    186\n",
              "4    167\n",
              "6    162\n",
              "3    158\n",
              "Name: FareCat, dtype: int64"
            ]
          },
          "metadata": {
            "tags": []
          },
          "execution_count": 62
        }
      ]
    },
    {
      "cell_type": "code",
      "metadata": {
        "scrolled": false,
        "id": "07uE72BpNDSS",
        "colab_type": "code",
        "colab": {
          "base_uri": "https://localhost:8080/",
          "height": 369
        },
        "outputId": "df85881f-2c81-4a4e-b0c1-4009dfb4f889"
      },
      "source": [
        "\n",
        "#Survival probability for each fare category\n",
        "plot = sns.catplot(x=\"FareCat\", y='Survived',kind=\"bar\", data=data, height=5, aspect=1)\n"
      ],
      "execution_count": 63,
      "outputs": [
        {
          "output_type": "display_data",
          "data": {
            "image/png": "[encoded data removed]",
            "text/plain": [
              "<Figure size 360x360 with 1 Axes>"
            ]
          },
          "metadata": {
            "tags": [],
            "needs_background": "light"
          }
        }
      ]
    },
    {
      "cell_type": "markdown",
      "metadata": {
        "id": "4WIkiPlgNDSy",
        "colab_type": "text"
      },
      "source": [
        "### 5.6 Add missing values for *Embarked* <a id=\"FEng6\"></a>"
      ]
    },
    {
      "cell_type": "code",
      "metadata": {
        "scrolled": true,
        "id": "tn_JKey5NDS0",
        "colab_type": "code",
        "colab": {
          "base_uri": "https://localhost:8080/",
          "height": 250
        },
        "outputId": "7a3286d0-faf7-44d0-f90c-dc61ca289370"
      },
      "source": [
        "data[data['embarked'].isnull()]"
      ],
      "execution_count": 64,
      "outputs": [
        {
          "output_type": "execute_result",
          "data": {
            "text/html": [
              "<div>\n",
              "<style scoped>\n",
              "    .dataframe tbody tr th:only-of-type {\n",
              "        vertical-align: middle;\n",
              "    }\n",
              "\n",
              "    .dataframe tbody tr th {\n",
              "        vertical-align: top;\n",
              "    }\n",
              "\n",
              "    .dataframe thead th {\n",
              "        text-align: right;\n",
              "    }\n",
              "</style>\n",
              "<table border=\"1\" class=\"dataframe\">\n",
              "  <thead>\n",
              "    <tr style=\"text-align: right;\">\n",
              "      <th></th>\n",
              "      <th>traveller_ID</th>\n",
              "      <th>ticket_class</th>\n",
              "      <th>name</th>\n",
              "      <th>sex</th>\n",
              "      <th>age</th>\n",
              "      <th>Siblings_spouses</th>\n",
              "      <th>Parchil</th>\n",
              "      <th>TickNum</th>\n",
              "      <th>fare</th>\n",
              "      <th>cabin</th>\n",
              "      <th>embarked</th>\n",
              "      <th>MedBoat</th>\n",
              "      <th>Survived</th>\n",
              "      <th>Title</th>\n",
              "      <th>AgeCat</th>\n",
              "      <th>FamilySize</th>\n",
              "      <th>Last_Name</th>\n",
              "      <th>FamilySurvival</th>\n",
              "      <th>FareCorr</th>\n",
              "      <th>FareCat</th>\n",
              "    </tr>\n",
              "  </thead>\n",
              "  <tbody>\n",
              "    <tr>\n",
              "      <th>506</th>\n",
              "      <td>284</td>\n",
              "      <td>1.0</td>\n",
              "      <td>Stone, Mrs. George Nelson (Martha Evelyn)</td>\n",
              "      <td>female</td>\n",
              "      <td>62.0</td>\n",
              "      <td>0.0</td>\n",
              "      <td>0.0</td>\n",
              "      <td>113572</td>\n",
              "      <td>80.0</td>\n",
              "      <td>B28</td>\n",
              "      <td>NaN</td>\n",
              "      <td>6</td>\n",
              "      <td>1.0</td>\n",
              "      <td>Mrs</td>\n",
              "      <td>5</td>\n",
              "      <td>Single</td>\n",
              "      <td>Stone</td>\n",
              "      <td>0.5</td>\n",
              "      <td>40.0</td>\n",
              "      <td>7</td>\n",
              "    </tr>\n",
              "    <tr>\n",
              "      <th>1115</th>\n",
              "      <td>168</td>\n",
              "      <td>1.0</td>\n",
              "      <td>Icard, Miss. Amelie</td>\n",
              "      <td>female</td>\n",
              "      <td>38.0</td>\n",
              "      <td>0.0</td>\n",
              "      <td>0.0</td>\n",
              "      <td>113572</td>\n",
              "      <td>80.0</td>\n",
              "      <td>B28</td>\n",
              "      <td>NaN</td>\n",
              "      <td>6</td>\n",
              "      <td>NaN</td>\n",
              "      <td>Miss</td>\n",
              "      <td>3</td>\n",
              "      <td>Single</td>\n",
              "      <td>Icard</td>\n",
              "      <td>1.0</td>\n",
              "      <td>40.0</td>\n",
              "      <td>7</td>\n",
              "    </tr>\n",
              "  </tbody>\n",
              "</table>\n",
              "</div>"
            ],
            "text/plain": [
              "      traveller_ID  ticket_class  ... FareCorr FareCat\n",
              "506            284           1.0  ...     40.0       7\n",
              "1115           168           1.0  ...     40.0       7\n",
              "\n",
              "[2 rows x 20 columns]"
            ]
          },
          "metadata": {
            "tags": []
          },
          "execution_count": 64
        }
      ]
    },
    {
      "cell_type": "code",
      "metadata": {
        "id": "2xLp_8amNDTG",
        "colab_type": "code",
        "colab": {}
      },
      "source": [
        "data['embarked'].fillna('C', inplace = True)"
      ],
      "execution_count": 65,
      "outputs": []
    },
    {
      "cell_type": "code",
      "metadata": {
        "scrolled": false,
        "id": "2qFbEeBYNDTj",
        "colab_type": "code",
        "colab": {
          "base_uri": "https://localhost:8080/",
          "height": 476
        },
        "outputId": "0160570f-3d7a-4d52-aa71-ffb91dfb6ac4"
      },
      "source": [
        "data.info()"
      ],
      "execution_count": 66,
      "outputs": [
        {
          "output_type": "stream",
          "text": [
            "<class 'pandas.core.frame.DataFrame'>\n",
            "RangeIndex: 1309 entries, 0 to 1308\n",
            "Data columns (total 20 columns):\n",
            " #   Column            Non-Null Count  Dtype   \n",
            "---  ------            --------------  -----   \n",
            " 0   traveller_ID      1309 non-null   int64   \n",
            " 1   ticket_class      1309 non-null   float64 \n",
            " 2   name              1309 non-null   object  \n",
            " 3   sex               1309 non-null   object  \n",
            " 4   age               1309 non-null   float64 \n",
            " 5   Siblings_spouses  1309 non-null   float64 \n",
            " 6   Parchil           1309 non-null   float64 \n",
            " 7   TickNum           1309 non-null   object  \n",
            " 8   fare              1308 non-null   float64 \n",
            " 9   cabin             295 non-null    object  \n",
            " 10  embarked          1309 non-null   object  \n",
            " 11  MedBoat           486 non-null    object  \n",
            " 12  Survived          916 non-null    float64 \n",
            " 13  Title             1309 non-null   object  \n",
            " 14  AgeCat            1309 non-null   category\n",
            " 15  FamilySize        1309 non-null   object  \n",
            " 16  Last_Name         1309 non-null   object  \n",
            " 17  FamilySurvival    1309 non-null   float64 \n",
            " 18  FareCorr          1309 non-null   float64 \n",
            " 19  FareCat           1309 non-null   category\n",
            "dtypes: category(2), float64(8), int64(1), object(9)\n",
            "memory usage: 187.3+ KB\n"
          ],
          "name": "stdout"
        }
      ]
    },
    {
      "cell_type": "markdown",
      "metadata": {
        "id": "ikuwf6BsNDTy",
        "colab_type": "text"
      },
      "source": [
        "Note: in the end I decided to not use this feature."
      ]
    },
    {
      "cell_type": "markdown",
      "metadata": {
        "id": "FerKnqqTNDTz",
        "colab_type": "text"
      },
      "source": [
        "[back to Table of Contents](#TOC)\n",
        "## 6. Data preparation for modelling <a id=\"Prep\"></a>"
      ]
    },
    {
      "cell_type": "markdown",
      "metadata": {
        "id": "n-UjRy9mNDT1",
        "colab_type": "text"
      },
      "source": [
        "###  6.1 Drop useless features<a id=\"Prep1\"></a>"
      ]
    },
    {
      "cell_type": "code",
      "metadata": {
        "id": "BUM653JsNDT3",
        "colab_type": "code",
        "colab": {}
      },
      "source": [
        "# added drop MedBoat\n",
        "data_pre = data.drop(['embarked','MedBoat','Survived','traveller_ID','name','age','Parchil','Siblings_spouses','TickNum','fare','cabin','Last_Name','FareCorr'],axis=1)"
      ],
      "execution_count": 67,
      "outputs": []
    },
    {
      "cell_type": "code",
      "metadata": {
        "scrolled": false,
        "id": "7AST29esNDT-",
        "colab_type": "code",
        "colab": {
          "base_uri": "https://localhost:8080/",
          "height": 419
        },
        "outputId": "fa8620c1-df31-4b63-fbba-bb55f685ceb0"
      },
      "source": [
        "#check data\n",
        "data_pre"
      ],
      "execution_count": 68,
      "outputs": [
        {
          "output_type": "execute_result",
          "data": {
            "text/html": [
              "<div>\n",
              "<style scoped>\n",
              "    .dataframe tbody tr th:only-of-type {\n",
              "        vertical-align: middle;\n",
              "    }\n",
              "\n",
              "    .dataframe tbody tr th {\n",
              "        vertical-align: top;\n",
              "    }\n",
              "\n",
              "    .dataframe thead th {\n",
              "        text-align: right;\n",
              "    }\n",
              "</style>\n",
              "<table border=\"1\" class=\"dataframe\">\n",
              "  <thead>\n",
              "    <tr style=\"text-align: right;\">\n",
              "      <th></th>\n",
              "      <th>ticket_class</th>\n",
              "      <th>sex</th>\n",
              "      <th>Title</th>\n",
              "      <th>AgeCat</th>\n",
              "      <th>FamilySize</th>\n",
              "      <th>FamilySurvival</th>\n",
              "      <th>FareCat</th>\n",
              "    </tr>\n",
              "  </thead>\n",
              "  <tbody>\n",
              "    <tr>\n",
              "      <th>0</th>\n",
              "      <td>3.0</td>\n",
              "      <td>male</td>\n",
              "      <td>Mr</td>\n",
              "      <td>2</td>\n",
              "      <td>Single</td>\n",
              "      <td>0.5</td>\n",
              "      <td>4</td>\n",
              "    </tr>\n",
              "    <tr>\n",
              "      <th>1</th>\n",
              "      <td>3.0</td>\n",
              "      <td>male</td>\n",
              "      <td>Mr</td>\n",
              "      <td>2</td>\n",
              "      <td>Single</td>\n",
              "      <td>0.5</td>\n",
              "      <td>3</td>\n",
              "    </tr>\n",
              "    <tr>\n",
              "      <th>2</th>\n",
              "      <td>2.0</td>\n",
              "      <td>female</td>\n",
              "      <td>Miss</td>\n",
              "      <td>2</td>\n",
              "      <td>Single</td>\n",
              "      <td>0.0</td>\n",
              "      <td>5</td>\n",
              "    </tr>\n",
              "    <tr>\n",
              "      <th>3</th>\n",
              "      <td>3.0</td>\n",
              "      <td>female</td>\n",
              "      <td>youngMiss</td>\n",
              "      <td>1</td>\n",
              "      <td>Big</td>\n",
              "      <td>0.0</td>\n",
              "      <td>1</td>\n",
              "    </tr>\n",
              "    <tr>\n",
              "      <th>4</th>\n",
              "      <td>3.0</td>\n",
              "      <td>female</td>\n",
              "      <td>Miss</td>\n",
              "      <td>2</td>\n",
              "      <td>Single</td>\n",
              "      <td>0.5</td>\n",
              "      <td>3</td>\n",
              "    </tr>\n",
              "    <tr>\n",
              "      <th>...</th>\n",
              "      <td>...</td>\n",
              "      <td>...</td>\n",
              "      <td>...</td>\n",
              "      <td>...</td>\n",
              "      <td>...</td>\n",
              "      <td>...</td>\n",
              "      <td>...</td>\n",
              "    </tr>\n",
              "    <tr>\n",
              "      <th>1304</th>\n",
              "      <td>2.0</td>\n",
              "      <td>male</td>\n",
              "      <td>Mr</td>\n",
              "      <td>2</td>\n",
              "      <td>Single</td>\n",
              "      <td>0.5</td>\n",
              "      <td>5</td>\n",
              "    </tr>\n",
              "    <tr>\n",
              "      <th>1305</th>\n",
              "      <td>3.0</td>\n",
              "      <td>male</td>\n",
              "      <td>Mr</td>\n",
              "      <td>2</td>\n",
              "      <td>Single</td>\n",
              "      <td>0.5</td>\n",
              "      <td>2</td>\n",
              "    </tr>\n",
              "    <tr>\n",
              "      <th>1306</th>\n",
              "      <td>2.0</td>\n",
              "      <td>male</td>\n",
              "      <td>Others</td>\n",
              "      <td>3</td>\n",
              "      <td>Single</td>\n",
              "      <td>0.5</td>\n",
              "      <td>5</td>\n",
              "    </tr>\n",
              "    <tr>\n",
              "      <th>1307</th>\n",
              "      <td>3.0</td>\n",
              "      <td>female</td>\n",
              "      <td>Miss</td>\n",
              "      <td>2</td>\n",
              "      <td>Single</td>\n",
              "      <td>0.5</td>\n",
              "      <td>4</td>\n",
              "    </tr>\n",
              "    <tr>\n",
              "      <th>1308</th>\n",
              "      <td>2.0</td>\n",
              "      <td>female</td>\n",
              "      <td>Mrs</td>\n",
              "      <td>1</td>\n",
              "      <td>Small</td>\n",
              "      <td>0.0</td>\n",
              "      <td>6</td>\n",
              "    </tr>\n",
              "  </tbody>\n",
              "</table>\n",
              "<p>1309 rows × 7 columns</p>\n",
              "</div>"
            ],
            "text/plain": [
              "      ticket_class     sex      Title AgeCat FamilySize  FamilySurvival FareCat\n",
              "0              3.0    male         Mr      2     Single             0.5       4\n",
              "1              3.0    male         Mr      2     Single             0.5       3\n",
              "2              2.0  female       Miss      2     Single             0.0       5\n",
              "3              3.0  female  youngMiss      1        Big             0.0       1\n",
              "4              3.0  female       Miss      2     Single             0.5       3\n",
              "...            ...     ...        ...    ...        ...             ...     ...\n",
              "1304           2.0    male         Mr      2     Single             0.5       5\n",
              "1305           3.0    male         Mr      2     Single             0.5       2\n",
              "1306           2.0    male     Others      3     Single             0.5       5\n",
              "1307           3.0  female       Miss      2     Single             0.5       4\n",
              "1308           2.0  female        Mrs      1      Small             0.0       6\n",
              "\n",
              "[1309 rows x 7 columns]"
            ]
          },
          "metadata": {
            "tags": []
          },
          "execution_count": 68
        }
      ]
    },
    {
      "cell_type": "code",
      "metadata": {
        "id": "Ke9p1KDzNDUE",
        "colab_type": "code",
        "colab": {
          "base_uri": "https://localhost:8080/",
          "height": 255
        },
        "outputId": "fa3aa56d-24f6-4790-bf40-7c9909a1f51f"
      },
      "source": [
        "# check data\n",
        "data_pre.info()"
      ],
      "execution_count": 69,
      "outputs": [
        {
          "output_type": "stream",
          "text": [
            "<class 'pandas.core.frame.DataFrame'>\n",
            "RangeIndex: 1309 entries, 0 to 1308\n",
            "Data columns (total 7 columns):\n",
            " #   Column          Non-Null Count  Dtype   \n",
            "---  ------          --------------  -----   \n",
            " 0   ticket_class    1309 non-null   float64 \n",
            " 1   sex             1309 non-null   object  \n",
            " 2   Title           1309 non-null   object  \n",
            " 3   AgeCat          1309 non-null   category\n",
            " 4   FamilySize      1309 non-null   object  \n",
            " 5   FamilySurvival  1309 non-null   float64 \n",
            " 6   FareCat         1309 non-null   category\n",
            "dtypes: category(2), float64(2), object(3)\n",
            "memory usage: 54.4+ KB\n"
          ],
          "name": "stdout"
        }
      ]
    },
    {
      "cell_type": "code",
      "metadata": {
        "id": "rR0MlL7NNDUV",
        "colab_type": "code",
        "colab": {}
      },
      "source": [
        "# create name lists for numerical an categorical features: we do not use any numerical features\n",
        "num_attribs = []\n",
        "cat_attribs = list( data_pre.drop(labels=num_attribs, axis=1).columns)"
      ],
      "execution_count": 70,
      "outputs": []
    },
    {
      "cell_type": "markdown",
      "metadata": {
        "id": "f7D0In6ZNDUj",
        "colab_type": "text"
      },
      "source": [
        "### 6.2 Prepare pipeline for numerical and categorical attributes<a id=\"Prep2\"></a>"
      ]
    },
    {
      "cell_type": "code",
      "metadata": {
        "id": "YnGJBCQkNDUk",
        "colab_type": "code",
        "colab": {}
      },
      "source": [
        "#Pipeline for numerical values\n",
        "num_pipeline = Pipeline([\n",
        "        ('imputer', SimpleImputer(strategy=\"median\")),\n",
        "        ('std_scaler', StandardScaler()),\n",
        "    ])"
      ],
      "execution_count": 71,
      "outputs": []
    },
    {
      "cell_type": "code",
      "metadata": {
        "id": "0agAU-KlNDU1",
        "colab_type": "code",
        "colab": {}
      },
      "source": [
        "#Pipeline for categorical values\n",
        "cat_pipeline = Pipeline([\n",
        "        ('imputer', SimpleImputer(strategy=\"most_frequent\")),\n",
        "        ('cat', OneHotEncoder()),\n",
        "    ])"
      ],
      "execution_count": 72,
      "outputs": []
    },
    {
      "cell_type": "code",
      "metadata": {
        "id": "t101KOv2NDU8",
        "colab_type": "code",
        "colab": {}
      },
      "source": [
        "#Full pipeline\n",
        "\n",
        "full_pipeline = ColumnTransformer([\n",
        "        #(\"num\", num_pipeline, num_attribs), # since we do not use any numerical features\n",
        "        ('cat', cat_pipeline, cat_attribs),\n",
        "    ])\n",
        "\n",
        "data_post = full_pipeline.fit_transform(data_pre)"
      ],
      "execution_count": 73,
      "outputs": []
    },
    {
      "cell_type": "markdown",
      "metadata": {
        "id": "ZvooQZ7bNDVF",
        "colab_type": "text"
      },
      "source": [
        "### 6.3 Alternative data preparation<a id=\"Prep3\"></a>"
      ]
    },
    {
      "cell_type": "markdown",
      "metadata": {
        "id": "Jk2ptNn0NDVG",
        "colab_type": "text"
      },
      "source": [
        "If there are only categorical features with no missing values as it is the case for the current feature selection, the features can be transformed by simply using the OneHotEncoder:"
      ]
    },
    {
      "cell_type": "code",
      "metadata": {
        "id": "iAiI2mWNNDVI",
        "colab_type": "code",
        "colab": {}
      },
      "source": [
        "oneHot=OneHotEncoder()\n",
        "data_post_alt=oneHot.fit_transform(data_pre[cat_attribs])"
      ],
      "execution_count": 74,
      "outputs": []
    },
    {
      "cell_type": "markdown",
      "metadata": {
        "id": "2l7usHakNDVU",
        "colab_type": "text"
      },
      "source": [
        "This way we can easily extract the feature names after the encoding. This will help later on if we want to analyse the importance of the different features."
      ]
    },
    {
      "cell_type": "code",
      "metadata": {
        "scrolled": true,
        "id": "ltEi8l1hNDVX",
        "colab_type": "code",
        "colab": {
          "base_uri": "https://localhost:8080/",
          "height": 153
        },
        "outputId": "1d8a25bb-02fd-41f6-c466-b9df32876799"
      },
      "source": [
        "# extract feature names after encoding\n",
        "feature_names = oneHot.get_feature_names(data_pre.columns)\n",
        "feature_names"
      ],
      "execution_count": 75,
      "outputs": [
        {
          "output_type": "execute_result",
          "data": {
            "text/plain": [
              "array(['ticket_class_1.0', 'ticket_class_2.0', 'ticket_class_3.0',\n",
              "       'sex_female', 'sex_male', 'Title_Master', 'Title_Miss', 'Title_Mr',\n",
              "       'Title_Mrs', 'Title_Noble', 'Title_Others', 'Title_youngMiss',\n",
              "       'AgeCat_1', 'AgeCat_2', 'AgeCat_3', 'AgeCat_4', 'AgeCat_5',\n",
              "       'FamilySize_Big', 'FamilySize_Single', 'FamilySize_Small',\n",
              "       'FamilySurvival_0.0', 'FamilySurvival_0.5', 'FamilySurvival_1.0',\n",
              "       'FareCat_1', 'FareCat_2', 'FareCat_3', 'FareCat_4', 'FareCat_5',\n",
              "       'FareCat_6', 'FareCat_7'], dtype=object)"
            ]
          },
          "metadata": {
            "tags": []
          },
          "execution_count": 75
        }
      ]
    },
    {
      "cell_type": "markdown",
      "metadata": {
        "id": "_VarqK7TNDVd",
        "colab_type": "text"
      },
      "source": [
        "###  6.4 Split prepared data into training and test datasets <a id=\"Prep4\"></a>"
      ]
    },
    {
      "cell_type": "code",
      "metadata": {
        "id": "UzbwOxJtNDVg",
        "colab_type": "code",
        "colab": {}
      },
      "source": [
        "# training data\n",
        "X_train = data_post[:len(train['Survived']),:].toarray()\n",
        "y_train = train['Survived'].copy().to_numpy()   # traget\n",
        "\n",
        "# test data\n",
        "X_test = data_post[len(train['Survived']):,:].toarray()"
      ],
      "execution_count": 76,
      "outputs": []
    },
    {
      "cell_type": "code",
      "metadata": {
        "scrolled": true,
        "id": "gE-aI2aRNDVl",
        "colab_type": "code",
        "colab": {
          "base_uri": "https://localhost:8080/",
          "height": 51
        },
        "outputId": "16a0c9fa-b3dd-4a18-e57e-834fef84281a"
      },
      "source": [
        "# check shape of X_train - number of instances and features\n",
        "print('# instances: '+ str(X_train.shape[0]))\n",
        "print('# features: '+ str(X_train.shape[1]))"
      ],
      "execution_count": 78,
      "outputs": [
        {
          "output_type": "stream",
          "text": [
            "# instances: 916\n",
            "# features: 30\n"
          ],
          "name": "stdout"
        }
      ]
    },
    {
      "cell_type": "markdown",
      "metadata": {
        "id": "q82VY4L9NDVy",
        "colab_type": "text"
      },
      "source": [
        "[back to Table of Contents](#TOC)\n",
        "## 7.  Modelling: Neural Network <a id=\"Model\"></a>"
      ]
    },
    {
      "cell_type": "markdown",
      "metadata": {
        "id": "3XcOKiUYNDVz",
        "colab_type": "text"
      },
      "source": [
        "Now we are going to explore how an neural network (NN) performs on the titanic dataset. \n",
        "\n",
        "For a first run and to get a feeling how the NN works, in section 7.2 we will train a model with a given set of hyperparameters.  We are going to analyze the performance of the NN and have a look at the importance of the different features.\n",
        "\n",
        "In section 7.3, I show in detail how I ended up with the NN architecture and the set of hyperparameters introduced in section 7.2. We will go through a step by step instruction of how to optimize the different hyperparameters of an NN using GridSearch and cross-validation.\n",
        "\n"
      ]
    },
    {
      "cell_type": "code",
      "metadata": {
        "id": "Ndh_jXw1NDV0",
        "colab_type": "code",
        "colab": {}
      },
      "source": [
        "# define functions\n",
        "def hyperparameter_analysis(searcher, top_values=5):\n",
        "    tested_hyperparameters=pd.DataFrame()\n",
        "    for i in range(len(searcher.cv_results_['params'])):\n",
        "        tested_hyperparameters = tested_hyperparameters.append(searcher.cv_results_['params'][i], ignore_index=True)\n",
        "    tested_hyperparameters['train score in %']=(searcher.cv_results_['mean_train_score']*100).round(3)\n",
        "    tested_hyperparameters['test score in %']=(searcher.cv_results_['mean_test_score']*100).round(3)\n",
        "    tested_hyperparameters['test std in %']=(searcher.cv_results_['std_test_score']*100).round(3)\n",
        "    tested_hyperparameters.index=searcher.cv_results_['rank_test_score']\n",
        "    return(tested_hyperparameters.sort_index().head(top_values))\n",
        "\n",
        "def feature_importance(searcher_best_estimator, list_feature_names, top_values=5):\n",
        "    # calculate normed feature_importances\n",
        "    fi_norm = 1/abs(searcher_best_estimator.feature_importances_).sum()*abs(searcher_best_estimator.feature_importances_)\n",
        "    # create DataFrame \n",
        "    fi_df= pd.DataFrame(data=(fi_norm*100).round(2), index=list_feature_names, columns=['feature importance in %'])\n",
        "    return(fi_df.sort_values(['feature importance in %'], ascending=[False]).head(top_values))\n",
        "\n",
        "def feature_importance_ann(perm, list_feature_names, top_values=5, neg_values=False):    \n",
        "    if neg_values==True:\n",
        "        fi_df= pd.DataFrame(data=(perm.feature_importances_*100).round(2), index=list_feature_names, columns=['score reduction in % points'])\n",
        "        return(fi_df[fi_df['score reduction in % points']<0]).sort_values(['score reduction in % points'], ascending=[True]).head(top_values)\n",
        "    else:    \n",
        "        fi_df= pd.DataFrame(data=(perm.feature_importances_*100).round(2), index=list_feature_names, columns=['score reduction in % points'])\n",
        "        return(fi_df.sort_values(['score reduction in % points'], ascending=[False]).head(top_values))\n",
        "\n",
        "def metric_scores(y_reference, y_prediction):\n",
        "    precision = precision_score(y_reference, y_prediction)\n",
        "    recall = recall_score(y_reference, y_prediction)\n",
        "    F1_score = f1_score(y_reference, y_prediction)\n",
        "    print('precision: '+ str(precision.round(3)))\n",
        "    print('recall: '+ str(recall.round(3)))\n",
        "    print('F1_score: '+ str(F1_score.round(3)))\n",
        "    return(precision, recall, F1_score)\n",
        "\n",
        "def plot_confusion_matrix(cm, classes, title='Confusion matrix', cmap=plt.cm.Blues):\n",
        "    plt.imshow(cm, interpolation='nearest', cmap=cmap)\n",
        "    plt.title(title)\n",
        "    tick_marks = np.arange(len(classes))\n",
        "    plt.xticks(tick_marks, classes, rotation=45)\n",
        "    plt.yticks(tick_marks, classes)\n",
        "    fmt = 'd'\n",
        "    thresh = cm.max() / 2.\n",
        "    for i, j in itertools.product(range(cm.shape[0]), range(cm.shape[1])):\n",
        "        plt.text(j, i, format(cm[i, j], fmt),\n",
        "                 horizontalalignment=\"center\",\n",
        "                 color=\"white\" if cm[i, j] > thresh else \"black\")\n",
        "    plt.ylabel('True label')\n",
        "    plt.xlabel('Predicted label')\n",
        "    plt.tight_layout()\n",
        "\n",
        "def pred_to_df(y_predicted):\n",
        "    survived = pd.DataFrame(y_predicted,index=test.index, columns=['Survived'])\n",
        "    survived['traveller_ID'] = test.traveller_ID \n",
        "    columns_titles = [\"traveller_ID\",\"Survived\"]\n",
        "    survived=survived.reindex(columns=columns_titles)\n",
        "    return(survived)\n",
        "\n",
        "def save_to_csv(survived, filename,index=False):\n",
        "    survived.to_csv(filename + '.csv',index=False, header=survived.columns)\n",
        "\n",
        "def plot_roc_curve(fpr, tpr, label=None):\n",
        "    plt.plot(fpr, tpr, linewidth=2, label=label)\n",
        "    plt.plot([0, 1], [0, 1], 'k--')\n",
        "    plt.axis([0, 1, 0, 1])\n",
        "    plt.xlabel('False Positive Rate', fontsize=16)\n",
        "    plt.ylabel('True Positive Rate', fontsize=16)\n",
        "    "
      ],
      "execution_count": 79,
      "outputs": []
    },
    {
      "cell_type": "markdown",
      "metadata": {
        "id": "mi-quY_vNDV5",
        "colab_type": "text"
      },
      "source": [
        "### 7.1 The model <a id=\"Model1\"></a>"
      ]
    },
    {
      "cell_type": "markdown",
      "metadata": {
        "id": "3Ycc2PqzNDV6",
        "colab_type": "text"
      },
      "source": [
        "First of all, we define the function create_model() which gives us the freedom to try different model architectures by setting the respective hyperparameters. How I came up with default set of hyperparameters will be discussed in section 7.3.\n"
      ]
    },
    {
      "cell_type": "code",
      "metadata": {
        "id": "1eh-Q9KfNDV6",
        "colab_type": "code",
        "colab": {}
      },
      "source": [
        "def create_model(input_shape=X_train.shape[1:],\n",
        "                number_hidden=2, \n",
        "                neurons_per_hidden=10,\n",
        "                hidden_drop_rate= 0.2,\n",
        "                hidden_activation = 'selu',\n",
        "                hidden_initializer=\"lecun_normal\",\n",
        "                output_activation ='sigmoid',\n",
        "                loss='binary_crossentropy',\n",
        "                optimizer = Nadam(lr=0.0005),\n",
        "                #lr=0.0005,\n",
        "                ):\n",
        "    \n",
        "    #create model\n",
        "    model = Sequential()\n",
        "    model.add(Input(shape=input_shape)),\n",
        "    for layer in range(number_hidden):\n",
        "        model.add(Dense(neurons_per_hidden, activation = hidden_activation ,kernel_initializer=hidden_initializer))\n",
        "        #model.add(Dropout(hidden_drop_rate))\n",
        "    model.add(Dense(1, activation = output_activation))\n",
        "\n",
        "    # Compile model\n",
        "    model.compile(loss=loss, \n",
        "                  #optimizer = Nadam(lr=lr), \n",
        "                  optimizer = Nadam(lr=0.0005),\n",
        "                  metrics = ['accuracy'])\n",
        "    return model"
      ],
      "execution_count": 80,
      "outputs": []
    },
    {
      "cell_type": "markdown",
      "metadata": {
        "id": "1Vpr6kbXNDV_",
        "colab_type": "text"
      },
      "source": [
        "### 7.2 A first look at neural networks on the titanic <a id=\"Model2\"></a>"
      ]
    },
    {
      "cell_type": "markdown",
      "metadata": {
        "id": "b8-5H8QJNDWB",
        "colab_type": "text"
      },
      "source": [
        "So let's build a NN classifier and train it:"
      ]
    },
    {
      "cell_type": "code",
      "metadata": {
        "id": "-cckMJAKNDWC",
        "colab_type": "code",
        "colab": {}
      },
      "source": [
        "keras.backend.clear_session()\n",
        "np.random.seed(42)\n",
        "tf.random.set_seed(42)\n",
        "\n",
        "# build and compile ANN classifier by calling the model function\n",
        "dnn_clf=create_model()\n",
        "\n",
        "# train the NN classifier\n",
        "history = dnn_clf.fit(X_train, y_train, epochs=30, batch_size=30, verbose=0)"
      ],
      "execution_count": 81,
      "outputs": []
    },
    {
      "cell_type": "markdown",
      "metadata": {
        "id": "4KhTlq2PNDWM",
        "colab_type": "text"
      },
      "source": [
        "To get an overview of the model structure, we can plot the specifications and the model architecture."
      ]
    },
    {
      "cell_type": "code",
      "metadata": {
        "id": "o7-UhnjNNDWO",
        "colab_type": "code",
        "colab": {
          "base_uri": "https://localhost:8080/",
          "height": 255
        },
        "outputId": "5155f203-2221-4303-d6fa-350fac23bfdd"
      },
      "source": [
        "# show the specifications of the model\n",
        "dnn_clf.summary()"
      ],
      "execution_count": 82,
      "outputs": [
        {
          "output_type": "stream",
          "text": [
            "Model: \"sequential\"\n",
            "_________________________________________________________________\n",
            "Layer (type)                 Output Shape              Param #   \n",
            "=================================================================\n",
            "dense (Dense)                (None, 10)                310       \n",
            "_________________________________________________________________\n",
            "dense_1 (Dense)              (None, 10)                110       \n",
            "_________________________________________________________________\n",
            "dense_2 (Dense)              (None, 1)                 11        \n",
            "=================================================================\n",
            "Total params: 431\n",
            "Trainable params: 431\n",
            "Non-trainable params: 0\n",
            "_________________________________________________________________\n"
          ],
          "name": "stdout"
        }
      ]
    },
    {
      "cell_type": "code",
      "metadata": {
        "id": "n4QUHDF-NDWb",
        "colab_type": "code",
        "colab": {}
      },
      "source": [
        "# show a plot of the model architecture\n",
        "# plot_model(dnn_clf, 'optimized_model.png', show_shapes=True)"
      ],
      "execution_count": 83,
      "outputs": []
    },
    {
      "cell_type": "markdown",
      "metadata": {
        "id": "4ALuz4seNDWv",
        "colab_type": "text"
      },
      "source": [
        "### 7.2.1 Evaluation of trained model"
      ]
    },
    {
      "cell_type": "markdown",
      "metadata": {
        "id": "38q84EsGNDWw",
        "colab_type": "text"
      },
      "source": [
        "Now we can evaluate our trained classifier on the training dataset. "
      ]
    },
    {
      "cell_type": "code",
      "metadata": {
        "id": "sVtZiYBhNDWz",
        "colab_type": "code",
        "colab": {
          "base_uri": "https://localhost:8080/",
          "height": 34
        },
        "outputId": "dc6fe6fd-152e-4a50-e213-78e7fc93cfaf"
      },
      "source": [
        "# score of nn classifier on training data\n",
        "print('Training score: ' + str((pd.DataFrame(history.history)['accuracy'].max()*100)) + '%')"
      ],
      "execution_count": 84,
      "outputs": [
        {
          "output_type": "stream",
          "text": [
            "Training score: 83.73362421989441%\n"
          ],
          "name": "stdout"
        }
      ]
    },
    {
      "cell_type": "markdown",
      "metadata": {
        "id": "yOKhEoo1NDW_",
        "colab_type": "text"
      },
      "source": [
        "The training score of about 85% already looks very promissing for the titanic dataset. But what about the 15% false predictions? The question is whether we can still improve this or whether the training data (or the feature preparation) does not offer enough information to get better results.\n",
        "\n",
        "So let's run the model on the training data and analyze the prediction in more detail."
      ]
    },
    {
      "cell_type": "code",
      "metadata": {
        "id": "i7UrW0_LNDXH",
        "colab_type": "code",
        "colab": {
          "base_uri": "https://localhost:8080/",
          "height": 88
        },
        "outputId": "21f94d40-6809-4997-a77a-4de862c50037"
      },
      "source": [
        "# calculate predictions for training dataset X_train\n",
        "y_train_pred_dnn = dnn_clf.predict_classes(X_train)"
      ],
      "execution_count": 85,
      "outputs": [
        {
          "output_type": "stream",
          "text": [
            "WARNING:tensorflow:From <ipython-input-85-9c45303d1b66>:2: Sequential.predict_classes (from tensorflow.python.keras.engine.sequential) is deprecated and will be removed after 2021-01-01.\n",
            "Instructions for updating:\n",
            "Please use instead:* `np.argmax(model.predict(x), axis=-1)`,   if your model does multi-class classification   (e.g. if it uses a `softmax` last-layer activation).* `(model.predict(x) > 0.5).astype(\"int32\")`,   if your model does binary classification   (e.g. if it uses a `sigmoid` last-layer activation).\n"
          ],
          "name": "stdout"
        }
      ]
    },
    {
      "cell_type": "markdown",
      "metadata": {
        "id": "QjQOvKLlNDXM",
        "colab_type": "text"
      },
      "source": [
        "In general, the height of the score might not be the best measure to evaluate the performance of a classifier, especially if the dataset is skewed, i.e. one class is much smaller than the other (here about 38% survived, 62% died). It is more instructive to look at the confusion matrix and the metrics one can derive from it:"
      ]
    },
    {
      "cell_type": "code",
      "metadata": {
        "id": "2g9CeqjpNDXN",
        "colab_type": "code",
        "colab": {
          "base_uri": "https://localhost:8080/",
          "height": 297
        },
        "outputId": "a1c832d9-1b5b-4186-ebb5-f6c50add3c5b"
      },
      "source": [
        "# Compute confusion matrix\n",
        "cnf_matrix = confusion_matrix(y_train, y_train_pred_dnn)\n",
        "\n",
        "#plot confusion matrix\n",
        "cm_plot=plot_confusion_matrix(cnf_matrix, ['died','survived'])"
      ],
      "execution_count": 86,
      "outputs": [
        {
          "output_type": "display_data",
          "data": {
            "image/png": "[encoded data removed]",
            "text/plain": [
              "<Figure size 432x288 with 1 Axes>"
            ]
          },
          "metadata": {
            "tags": [],
            "needs_background": "light"
          }
        }
      ]
    },
    {
      "cell_type": "code",
      "metadata": {
        "scrolled": false,
        "id": "7rjsuTAONDXR",
        "colab_type": "code",
        "colab": {
          "base_uri": "https://localhost:8080/",
          "height": 85
        },
        "outputId": "7e0544db-57f7-46c2-bcea-8d44c4dfeff2"
      },
      "source": [
        "# show metrics\n",
        "metric_scores(y_train, y_train_pred_dnn)"
      ],
      "execution_count": 87,
      "outputs": [
        {
          "output_type": "stream",
          "text": [
            "precision: 0.821\n",
            "recall: 0.695\n",
            "F1_score: 0.753\n"
          ],
          "name": "stdout"
        },
        {
          "output_type": "execute_result",
          "data": {
            "text/plain": [
              "(0.8214285714285714, 0.6948640483383686, 0.7528641571194762)"
            ]
          },
          "metadata": {
            "tags": []
          },
          "execution_count": 87
        }
      ]
    },
    {
      "cell_type": "markdown",
      "metadata": {
        "id": "QxBdTuOTNDXh",
        "colab_type": "text"
      },
      "source": [
        "The *recall* value tells us that our classifier detects 74.8% of all survivors (256/(256+86)).  Moreover, the *precision* value says that if the calssifier predicts a survivor (260), it is right in 82.8% (256/(256+53)) of all cases.\n",
        "\n",
        "The the F1_score is the harmonic mean of precicion and recall and is a good measure for the overall quality of our classifier. A perfect calassifier would have a F1_score equal to one.\n",
        "\n",
        "To further evaluate our model, we calculate the probabilities for all instance. If the probability is <0.5, the prediction for the instance/passenger is 0 (died). For probabilities <=0.5 the survival prediction is 1 (survived)."
      ]
    },
    {
      "cell_type": "code",
      "metadata": {
        "scrolled": false,
        "id": "ecccc6rENDXh",
        "colab_type": "code",
        "colab": {}
      },
      "source": [
        "# calculate probabilities for training dataset X_train\n",
        "y_train_proba_dnn = dnn_clf.predict(X_train)"
      ],
      "execution_count": 88,
      "outputs": []
    },
    {
      "cell_type": "markdown",
      "metadata": {
        "id": "Tu-Gk1F7NDX3",
        "colab_type": "text"
      },
      "source": [
        "The following histogram shows the distribution of the probabilities of all instances that were predicted **correctly** by the classifier."
      ]
    },
    {
      "cell_type": "code",
      "metadata": {
        "id": "Lwlbb1q2NDX3",
        "colab_type": "code",
        "colab": {
          "base_uri": "https://localhost:8080/",
          "height": 282
        },
        "outputId": "ee901f68-62df-4694-edd2-9fd4a984b137"
      },
      "source": [
        "proba_df=pd.DataFrame(y_train_proba_dnn, columns=['probabilities'])*100\n",
        "proba_df['false_predictions']=(pd.DataFrame(y_train_pred_dnn)-pd.DataFrame(y_train))[0]\n",
        "proba_df['probabilities'][proba_df['false_predictions']==0].hist()"
      ],
      "execution_count": 89,
      "outputs": [
        {
          "output_type": "execute_result",
          "data": {
            "text/plain": [
              "<matplotlib.axes._subplots.AxesSubplot at 0x7f11222dce48>"
            ]
          },
          "metadata": {
            "tags": []
          },
          "execution_count": 89
        },
        {
          "output_type": "display_data",
          "data": {
            "image/png": "[encoded data removed]",
            "text/plain": [
              "<Figure size 432x288 with 1 Axes>"
            ]
          },
          "metadata": {
            "tags": [],
            "needs_background": "light"
          }
        }
      ]
    },
    {
      "cell_type": "markdown",
      "metadata": {
        "id": "rfz8va35NDX9",
        "colab_type": "text"
      },
      "source": [
        "The high number to the left (around 0) and to the right (around 1) suggests that the classifier was quite certain in most of the predictions that turned out to be **right**."
      ]
    },
    {
      "cell_type": "code",
      "metadata": {
        "scrolled": false,
        "id": "f-lTaLMUNDX-",
        "colab_type": "code",
        "colab": {
          "base_uri": "https://localhost:8080/",
          "height": 282
        },
        "outputId": "a41733c4-f588-4787-e929-2a0a5b61c10d"
      },
      "source": [
        "proba_df['probabilities'][proba_df['false_predictions']!=0].hist()"
      ],
      "execution_count": 90,
      "outputs": [
        {
          "output_type": "execute_result",
          "data": {
            "text/plain": [
              "<matplotlib.axes._subplots.AxesSubplot at 0x7f11220685f8>"
            ]
          },
          "metadata": {
            "tags": []
          },
          "execution_count": 90
        },
        {
          "output_type": "display_data",
          "data": {
            "image/png": "[encoded data removed]",
            "text/plain": [
              "<Figure size 432x288 with 1 Axes>"
            ]
          },
          "metadata": {
            "tags": [],
            "needs_background": "light"
          }
        }
      ]
    },
    {
      "cell_type": "markdown",
      "metadata": {
        "id": "qDqC4YPCNDYD",
        "colab_type": "text"
      },
      "source": [
        "Regarding the **false** predictions, there is a majority around 0.5. Hence, cases where the information on the passenger was not conclusive enough to make a desicive prediction. By further feature engennering or by improving our model, it might be possible to predict some of this cases around 0.5 right.\n",
        "\n",
        "However, there is also a high number of instances with probabilities close to 0, where the classifier obviously was convinced that the passenger died. \n",
        "A good example for such a case is the passenger with the ID 18 (see below) that was predicted to not survive. A young male passenger traveling in the second class whose other family mambers died - a clear case for our classifier - however, this man survived. Well, even the best classifier can not cover such cases if there is no additional information that would have indicated a survival of this passenger."
      ]
    },
    {
      "cell_type": "code",
      "metadata": {
        "id": "i1mFfRvLNDYE",
        "colab_type": "code",
        "colab": {
          "base_uri": "https://localhost:8080/",
          "height": 134
        },
        "outputId": "5cd27c20-1702-4bed-e40d-61489955917f"
      },
      "source": [
        "check_df=data[:891].copy()\n",
        "check_df['false_predictions']=proba_df['false_predictions']\n",
        "check_df['probabilities']=proba_df['probabilities']\n",
        "#check_df[check_df['false_predictions']!=0].head()\n",
        "check_df[check_df['traveller_ID']==18]"
      ],
      "execution_count": 91,
      "outputs": [
        {
          "output_type": "execute_result",
          "data": {
            "text/html": [
              "<div>\n",
              "<style scoped>\n",
              "    .dataframe tbody tr th:only-of-type {\n",
              "        vertical-align: middle;\n",
              "    }\n",
              "\n",
              "    .dataframe tbody tr th {\n",
              "        vertical-align: top;\n",
              "    }\n",
              "\n",
              "    .dataframe thead th {\n",
              "        text-align: right;\n",
              "    }\n",
              "</style>\n",
              "<table border=\"1\" class=\"dataframe\">\n",
              "  <thead>\n",
              "    <tr style=\"text-align: right;\">\n",
              "      <th></th>\n",
              "      <th>traveller_ID</th>\n",
              "      <th>ticket_class</th>\n",
              "      <th>name</th>\n",
              "      <th>sex</th>\n",
              "      <th>age</th>\n",
              "      <th>Siblings_spouses</th>\n",
              "      <th>Parchil</th>\n",
              "      <th>TickNum</th>\n",
              "      <th>fare</th>\n",
              "      <th>cabin</th>\n",
              "      <th>embarked</th>\n",
              "      <th>MedBoat</th>\n",
              "      <th>Survived</th>\n",
              "      <th>Title</th>\n",
              "      <th>AgeCat</th>\n",
              "      <th>FamilySize</th>\n",
              "      <th>Last_Name</th>\n",
              "      <th>FamilySurvival</th>\n",
              "      <th>FareCorr</th>\n",
              "      <th>FareCat</th>\n",
              "      <th>false_predictions</th>\n",
              "      <th>probabilities</th>\n",
              "    </tr>\n",
              "  </thead>\n",
              "  <tbody>\n",
              "    <tr>\n",
              "      <th>392</th>\n",
              "      <td>18</td>\n",
              "      <td>1.0</td>\n",
              "      <td>Bazzani, Miss. Albina</td>\n",
              "      <td>female</td>\n",
              "      <td>32.0</td>\n",
              "      <td>0.0</td>\n",
              "      <td>0.0</td>\n",
              "      <td>11813</td>\n",
              "      <td>76.2917</td>\n",
              "      <td>D15</td>\n",
              "      <td>C</td>\n",
              "      <td>8</td>\n",
              "      <td>1.0</td>\n",
              "      <td>Miss</td>\n",
              "      <td>3</td>\n",
              "      <td>Single</td>\n",
              "      <td>Bazzani</td>\n",
              "      <td>0.5</td>\n",
              "      <td>38.14585</td>\n",
              "      <td>7</td>\n",
              "      <td>0</td>\n",
              "      <td>89.95533</td>\n",
              "    </tr>\n",
              "  </tbody>\n",
              "</table>\n",
              "</div>"
            ],
            "text/plain": [
              "     traveller_ID  ticket_class  ... false_predictions probabilities\n",
              "392            18           1.0  ...                 0      89.95533\n",
              "\n",
              "[1 rows x 22 columns]"
            ]
          },
          "metadata": {
            "tags": []
          },
          "execution_count": 91
        }
      ]
    },
    {
      "cell_type": "markdown",
      "metadata": {
        "id": "Tv8xjaWsNDYR",
        "colab_type": "text"
      },
      "source": [
        "Looking for a way to improve the number of false predictions rises the question of how the model actually comes up with its decisions. \n",
        "\n",
        "For some classifiers (e.g. desicion trees) it is quite easy to trace how the decisions of the model. A neural network, however, is bit like a black box and it is usually not straight forward to understand or visualize the decision making. A nice visualization for a few simple problems can be found [here](https://playground.tensorflow.org/#activation=tanh&batchSize=10&dataset=circle&regDataset=reg-plane&learningRate=0.03&regularizationRate=0&noise=0&networkShape=4,2&seed=0.37306&showTestData=false&discretize=false&percTrainData=50&x=true&y=true&xTimesY=false&xSquared=false&ySquared=false&cosX=false&sinX=false&cosY=false&sinY=false&collectStats=false&problem=classification&initZero=false&hideText=false).\n",
        "\n",
        "So let's bring a bit of light into our model and have a look a the importance of the different features. To this end, we use [PermutationImportance](https://eli5.readthedocs.io/en/latest/blackbox/permutation_importance.html) which is capable of computing feature importances for a number of black-box estimators by measuring how the score decreases when a feature is not available. in concrete, the feature importances is computed as mean decrease of the score when a feature is permuted, i.e. substitued by noise. \n",
        "\n",
        "To make use of PermutationImportance, we make use of the scikit-learn classifier API for Keras. To analyze the feature importances we have to create and train a KerasClassifier which is identical to our model. Here we go:"
      ]
    },
    {
      "cell_type": "code",
      "metadata": {
        "scrolled": true,
        "id": "qbBo0t0MNDYS",
        "colab_type": "code",
        "colab": {
          "base_uri": "https://localhost:8080/",
          "height": 1000
        },
        "outputId": "d0d2f06e-427e-4c0c-96d2-06d6aab3eca2"
      },
      "source": [
        "np.random.seed(42)\n",
        "tf.random.set_seed(42)\n",
        "\n",
        "# build and train KerasClassifier\n",
        "dnn_clf_fi=KerasClassifier(build_fn = create_model)\n",
        "dnn_clf_fi.fit(X_train, y_train, epochs=30, batch_size=30)\n",
        "\n",
        "# calculate feature importance\n",
        "perm = PermutationImportance(dnn_clf_fi, random_state=42).fit(X_train,y_train)\n"
      ],
      "execution_count": 92,
      "outputs": [
        {
          "output_type": "stream",
          "text": [
            "Epoch 1/30\n",
            "31/31 [==============================] - 0s 1ms/step - loss: 0.7160 - accuracy: 0.4683\n",
            "Epoch 2/30\n",
            "31/31 [==============================] - 0s 1ms/step - loss: 0.6550 - accuracy: 0.6212\n",
            "Epoch 3/30\n",
            "31/31 [==============================] - 0s 1ms/step - loss: 0.6088 - accuracy: 0.6834\n",
            "Epoch 4/30\n",
            "31/31 [==============================] - 0s 1ms/step - loss: 0.5691 - accuracy: 0.7544\n",
            "Epoch 5/30\n",
            "31/31 [==============================] - 0s 1ms/step - loss: 0.5340 - accuracy: 0.7948\n",
            "Epoch 6/30\n",
            "31/31 [==============================] - 0s 1ms/step - loss: 0.5028 - accuracy: 0.8090\n",
            "Epoch 7/30\n",
            "31/31 [==============================] - 0s 1ms/step - loss: 0.4778 - accuracy: 0.8100\n",
            "Epoch 8/30\n",
            "31/31 [==============================] - 0s 1ms/step - loss: 0.4594 - accuracy: 0.8122\n",
            "Epoch 9/30\n",
            "31/31 [==============================] - 0s 1ms/step - loss: 0.4467 - accuracy: 0.8144\n",
            "Epoch 10/30\n",
            "31/31 [==============================] - 0s 1ms/step - loss: 0.4381 - accuracy: 0.8155\n",
            "Epoch 11/30\n",
            "31/31 [==============================] - 0s 1ms/step - loss: 0.4325 - accuracy: 0.8253\n",
            "Epoch 12/30\n",
            "31/31 [==============================] - 0s 1ms/step - loss: 0.4283 - accuracy: 0.8253\n",
            "Epoch 13/30\n",
            "31/31 [==============================] - 0s 1ms/step - loss: 0.4251 - accuracy: 0.8330\n",
            "Epoch 14/30\n",
            "31/31 [==============================] - 0s 1ms/step - loss: 0.4221 - accuracy: 0.8275\n",
            "Epoch 15/30\n",
            "31/31 [==============================] - 0s 1ms/step - loss: 0.4203 - accuracy: 0.8297\n",
            "Epoch 16/30\n",
            "31/31 [==============================] - 0s 1ms/step - loss: 0.4179 - accuracy: 0.8330\n",
            "Epoch 17/30\n",
            "31/31 [==============================] - 0s 1ms/step - loss: 0.4167 - accuracy: 0.8319\n",
            "Epoch 18/30\n",
            "31/31 [==============================] - 0s 1ms/step - loss: 0.4146 - accuracy: 0.8319\n",
            "Epoch 19/30\n",
            "31/31 [==============================] - 0s 1ms/step - loss: 0.4135 - accuracy: 0.8330\n",
            "Epoch 20/30\n",
            "31/31 [==============================] - 0s 1ms/step - loss: 0.4118 - accuracy: 0.8308\n",
            "Epoch 21/30\n",
            "31/31 [==============================] - 0s 1ms/step - loss: 0.4107 - accuracy: 0.8319\n",
            "Epoch 22/30\n",
            "31/31 [==============================] - 0s 1ms/step - loss: 0.4096 - accuracy: 0.8330\n",
            "Epoch 23/30\n",
            "31/31 [==============================] - 0s 1ms/step - loss: 0.4087 - accuracy: 0.8341\n",
            "Epoch 24/30\n",
            "31/31 [==============================] - 0s 1ms/step - loss: 0.4074 - accuracy: 0.8330\n",
            "Epoch 25/30\n",
            "31/31 [==============================] - 0s 1ms/step - loss: 0.4071 - accuracy: 0.8341\n",
            "Epoch 26/30\n",
            "31/31 [==============================] - 0s 1ms/step - loss: 0.4059 - accuracy: 0.8373\n",
            "Epoch 27/30\n",
            "31/31 [==============================] - 0s 1ms/step - loss: 0.4049 - accuracy: 0.8330\n",
            "Epoch 28/30\n",
            "31/31 [==============================] - 0s 1ms/step - loss: 0.4043 - accuracy: 0.8308\n",
            "Epoch 29/30\n",
            "31/31 [==============================] - 0s 1ms/step - loss: 0.4042 - accuracy: 0.8319\n",
            "Epoch 30/30\n",
            "31/31 [==============================] - 0s 1ms/step - loss: 0.4029 - accuracy: 0.8330\n",
            "29/29 [==============================] - 0s 1ms/step - loss: 0.4011 - accuracy: 0.8352\n",
            "29/29 [==============================] - 0s 983us/step - loss: 0.4124 - accuracy: 0.8297\n",
            "29/29 [==============================] - 0s 1ms/step - loss: 0.4015 - accuracy: 0.8341\n",
            "29/29 [==============================] - 0s 1ms/step - loss: 0.4270 - accuracy: 0.8188\n",
            "29/29 [==============================] - 0s 1ms/step - loss: 0.4344 - accuracy: 0.8068\n",
            "29/29 [==============================] - 0s 1ms/step - loss: 0.4253 - accuracy: 0.8133\n",
            "29/29 [==============================] - 0s 939us/step - loss: 0.4117 - accuracy: 0.8264\n",
            "29/29 [==============================] - 0s 1ms/step - loss: 0.4022 - accuracy: 0.8362\n",
            "29/29 [==============================] - 0s 1ms/step - loss: 0.4315 - accuracy: 0.8090\n",
            "29/29 [==============================] - 0s 1ms/step - loss: 0.4158 - accuracy: 0.8330\n",
            "29/29 [==============================] - 0s 1ms/step - loss: 0.4017 - accuracy: 0.8341\n",
            "29/29 [==============================] - 0s 1ms/step - loss: 0.4022 - accuracy: 0.8341\n",
            "29/29 [==============================] - 0s 1ms/step - loss: 0.4019 - accuracy: 0.8352\n",
            "29/29 [==============================] - 0s 1ms/step - loss: 0.4055 - accuracy: 0.8275\n",
            "29/29 [==============================] - 0s 987us/step - loss: 0.4039 - accuracy: 0.8341\n",
            "29/29 [==============================] - 0s 1ms/step - loss: 0.4023 - accuracy: 0.8319\n",
            "29/29 [==============================] - 0s 1ms/step - loss: 0.4050 - accuracy: 0.8275\n",
            "29/29 [==============================] - 0s 947us/step - loss: 0.4014 - accuracy: 0.8341\n",
            "29/29 [==============================] - 0s 1ms/step - loss: 0.4063 - accuracy: 0.8308\n",
            "29/29 [==============================] - 0s 1ms/step - loss: 0.4047 - accuracy: 0.8264\n",
            "29/29 [==============================] - 0s 1ms/step - loss: 0.4054 - accuracy: 0.8352\n",
            "29/29 [==============================] - 0s 1ms/step - loss: 0.4183 - accuracy: 0.8210\n",
            "29/29 [==============================] - 0s 1ms/step - loss: 0.4045 - accuracy: 0.8297\n",
            "29/29 [==============================] - 0s 1ms/step - loss: 0.4259 - accuracy: 0.8111\n",
            "29/29 [==============================] - 0s 1ms/step - loss: 0.4090 - accuracy: 0.8286\n",
            "29/29 [==============================] - 0s 1ms/step - loss: 0.4019 - accuracy: 0.8352\n",
            "29/29 [==============================] - 0s 1ms/step - loss: 0.4053 - accuracy: 0.8341\n",
            "29/29 [==============================] - 0s 992us/step - loss: 0.4013 - accuracy: 0.8352\n",
            "29/29 [==============================] - 0s 1ms/step - loss: 0.4109 - accuracy: 0.8362\n",
            "29/29 [==============================] - 0s 988us/step - loss: 0.4019 - accuracy: 0.8352\n",
            "29/29 [==============================] - 0s 1ms/step - loss: 0.4015 - accuracy: 0.8362\n",
            "29/29 [==============================] - 0s 992us/step - loss: 0.4115 - accuracy: 0.8253\n",
            "29/29 [==============================] - 0s 1ms/step - loss: 0.4049 - accuracy: 0.8341\n",
            "29/29 [==============================] - 0s 1ms/step - loss: 0.4200 - accuracy: 0.8177\n",
            "29/29 [==============================] - 0s 1ms/step - loss: 0.4241 - accuracy: 0.8057\n",
            "29/29 [==============================] - 0s 1ms/step - loss: 0.4291 - accuracy: 0.7969\n",
            "29/29 [==============================] - 0s 1ms/step - loss: 0.4138 - accuracy: 0.8253\n",
            "29/29 [==============================] - 0s 1ms/step - loss: 0.4036 - accuracy: 0.8330\n",
            "29/29 [==============================] - 0s 1ms/step - loss: 0.4358 - accuracy: 0.8090\n",
            "29/29 [==============================] - 0s 1ms/step - loss: 0.4110 - accuracy: 0.8297\n",
            "29/29 [==============================] - 0s 1ms/step - loss: 0.4014 - accuracy: 0.8341\n",
            "29/29 [==============================] - 0s 995us/step - loss: 0.4014 - accuracy: 0.8341\n",
            "29/29 [==============================] - 0s 1ms/step - loss: 0.4009 - accuracy: 0.8362\n",
            "29/29 [==============================] - 0s 1ms/step - loss: 0.4031 - accuracy: 0.8308\n",
            "29/29 [==============================] - 0s 1ms/step - loss: 0.4031 - accuracy: 0.8341\n",
            "29/29 [==============================] - 0s 1ms/step - loss: 0.4036 - accuracy: 0.8341\n",
            "29/29 [==============================] - 0s 989us/step - loss: 0.4031 - accuracy: 0.8330\n",
            "29/29 [==============================] - 0s 1ms/step - loss: 0.4017 - accuracy: 0.8362\n",
            "29/29 [==============================] - 0s 1ms/step - loss: 0.4066 - accuracy: 0.8308\n",
            "29/29 [==============================] - 0s 1ms/step - loss: 0.4035 - accuracy: 0.8308\n",
            "29/29 [==============================] - 0s 1ms/step - loss: 0.4043 - accuracy: 0.8330\n",
            "29/29 [==============================] - 0s 983us/step - loss: 0.4163 - accuracy: 0.8210\n",
            "29/29 [==============================] - 0s 1ms/step - loss: 0.4027 - accuracy: 0.8341\n",
            "29/29 [==============================] - 0s 1ms/step - loss: 0.4211 - accuracy: 0.8221\n",
            "29/29 [==============================] - 0s 1ms/step - loss: 0.4048 - accuracy: 0.8308\n",
            "29/29 [==============================] - 0s 1ms/step - loss: 0.4020 - accuracy: 0.8352\n",
            "29/29 [==============================] - 0s 1ms/step - loss: 0.4038 - accuracy: 0.8352\n",
            "29/29 [==============================] - 0s 1ms/step - loss: 0.4025 - accuracy: 0.8341\n",
            "29/29 [==============================] - 0s 1ms/step - loss: 0.4062 - accuracy: 0.8373\n",
            "29/29 [==============================] - 0s 1ms/step - loss: 0.4014 - accuracy: 0.8362\n",
            "29/29 [==============================] - 0s 1ms/step - loss: 0.4011 - accuracy: 0.8341\n",
            "29/29 [==============================] - 0s 1ms/step - loss: 0.4159 - accuracy: 0.8308\n",
            "29/29 [==============================] - 0s 1ms/step - loss: 0.4046 - accuracy: 0.8319\n",
            "29/29 [==============================] - 0s 1ms/step - loss: 0.4269 - accuracy: 0.8155\n",
            "29/29 [==============================] - 0s 1ms/step - loss: 0.4181 - accuracy: 0.8177\n",
            "29/29 [==============================] - 0s 1ms/step - loss: 0.4238 - accuracy: 0.8188\n",
            "29/29 [==============================] - 0s 1ms/step - loss: 0.4149 - accuracy: 0.8231\n",
            "29/29 [==============================] - 0s 1ms/step - loss: 0.4035 - accuracy: 0.8308\n",
            "29/29 [==============================] - 0s 1ms/step - loss: 0.4418 - accuracy: 0.8013\n",
            "29/29 [==============================] - 0s 1ms/step - loss: 0.4144 - accuracy: 0.8242\n",
            "29/29 [==============================] - 0s 1ms/step - loss: 0.4013 - accuracy: 0.8341\n",
            "29/29 [==============================] - 0s 1ms/step - loss: 0.4024 - accuracy: 0.8330\n",
            "29/29 [==============================] - 0s 1ms/step - loss: 0.4019 - accuracy: 0.8341\n",
            "29/29 [==============================] - 0s 1ms/step - loss: 0.4063 - accuracy: 0.8275\n",
            "29/29 [==============================] - 0s 1ms/step - loss: 0.4043 - accuracy: 0.8275\n",
            "29/29 [==============================] - 0s 1ms/step - loss: 0.4020 - accuracy: 0.8352\n",
            "29/29 [==============================] - 0s 1ms/step - loss: 0.4015 - accuracy: 0.8341\n",
            "29/29 [==============================] - 0s 1ms/step - loss: 0.4009 - accuracy: 0.8362\n",
            "29/29 [==============================] - 0s 1ms/step - loss: 0.4043 - accuracy: 0.8308\n",
            "29/29 [==============================] - 0s 1ms/step - loss: 0.4038 - accuracy: 0.8286\n",
            "29/29 [==============================] - 0s 1ms/step - loss: 0.4040 - accuracy: 0.8297\n",
            "29/29 [==============================] - 0s 1ms/step - loss: 0.4100 - accuracy: 0.8264\n",
            "29/29 [==============================] - 0s 983us/step - loss: 0.4045 - accuracy: 0.8286\n",
            "29/29 [==============================] - 0s 1ms/step - loss: 0.4158 - accuracy: 0.8231\n",
            "29/29 [==============================] - 0s 1ms/step - loss: 0.4148 - accuracy: 0.8275\n",
            "29/29 [==============================] - 0s 1ms/step - loss: 0.4027 - accuracy: 0.8330\n",
            "29/29 [==============================] - 0s 1ms/step - loss: 0.4042 - accuracy: 0.8362\n",
            "29/29 [==============================] - 0s 1ms/step - loss: 0.4031 - accuracy: 0.8352\n",
            "29/29 [==============================] - 0s 1ms/step - loss: 0.4097 - accuracy: 0.8341\n",
            "29/29 [==============================] - 0s 1ms/step - loss: 0.4004 - accuracy: 0.8352\n",
            "29/29 [==============================] - 0s 1ms/step - loss: 0.4001 - accuracy: 0.8352\n",
            "29/29 [==============================] - 0s 1ms/step - loss: 0.4134 - accuracy: 0.8253\n",
            "29/29 [==============================] - 0s 1ms/step - loss: 0.4015 - accuracy: 0.8384\n",
            "29/29 [==============================] - 0s 1ms/step - loss: 0.4275 - accuracy: 0.8166\n",
            "29/29 [==============================] - 0s 1ms/step - loss: 0.4218 - accuracy: 0.8166\n",
            "29/29 [==============================] - 0s 1ms/step - loss: 0.4222 - accuracy: 0.8133\n",
            "29/29 [==============================] - 0s 1ms/step - loss: 0.4188 - accuracy: 0.8188\n",
            "29/29 [==============================] - 0s 1ms/step - loss: 0.4056 - accuracy: 0.8319\n",
            "29/29 [==============================] - 0s 974us/step - loss: 0.4476 - accuracy: 0.7871\n",
            "29/29 [==============================] - 0s 1ms/step - loss: 0.4087 - accuracy: 0.8264\n",
            "29/29 [==============================] - 0s 1ms/step - loss: 0.4011 - accuracy: 0.8341\n",
            "29/29 [==============================] - 0s 1ms/step - loss: 0.4024 - accuracy: 0.8341\n",
            "29/29 [==============================] - 0s 1ms/step - loss: 0.4017 - accuracy: 0.8352\n",
            "29/29 [==============================] - 0s 1ms/step - loss: 0.4039 - accuracy: 0.8330\n",
            "29/29 [==============================] - 0s 983us/step - loss: 0.4030 - accuracy: 0.8297\n",
            "29/29 [==============================] - 0s 1ms/step - loss: 0.4037 - accuracy: 0.8352\n",
            "29/29 [==============================] - 0s 1ms/step - loss: 0.4041 - accuracy: 0.8275\n",
            "29/29 [==============================] - 0s 996us/step - loss: 0.4014 - accuracy: 0.8352\n",
            "29/29 [==============================] - 0s 1ms/step - loss: 0.4091 - accuracy: 0.8231\n",
            "29/29 [==============================] - 0s 1ms/step - loss: 0.4030 - accuracy: 0.8330\n",
            "29/29 [==============================] - 0s 1ms/step - loss: 0.4076 - accuracy: 0.8253\n",
            "29/29 [==============================] - 0s 962us/step - loss: 0.4197 - accuracy: 0.8264\n",
            "29/29 [==============================] - 0s 1ms/step - loss: 0.4077 - accuracy: 0.8253\n",
            "29/29 [==============================] - 0s 1ms/step - loss: 0.4240 - accuracy: 0.8253\n",
            "29/29 [==============================] - 0s 1ms/step - loss: 0.4108 - accuracy: 0.8319\n",
            "29/29 [==============================] - 0s 1ms/step - loss: 0.4026 - accuracy: 0.8319\n",
            "29/29 [==============================] - 0s 1ms/step - loss: 0.4044 - accuracy: 0.8352\n",
            "29/29 [==============================] - 0s 1ms/step - loss: 0.4026 - accuracy: 0.8341\n",
            "29/29 [==============================] - 0s 1ms/step - loss: 0.4074 - accuracy: 0.8373\n",
            "29/29 [==============================] - 0s 1ms/step - loss: 0.4020 - accuracy: 0.8352\n",
            "29/29 [==============================] - 0s 1ms/step - loss: 0.4007 - accuracy: 0.8341\n",
            "29/29 [==============================] - 0s 1ms/step - loss: 0.4089 - accuracy: 0.8275\n",
            "29/29 [==============================] - 0s 1ms/step - loss: 0.4062 - accuracy: 0.8330\n",
            "29/29 [==============================] - 0s 1ms/step - loss: 0.4216 - accuracy: 0.8231\n",
            "29/29 [==============================] - 0s 1ms/step - loss: 0.4267 - accuracy: 0.8057\n",
            "29/29 [==============================] - 0s 1ms/step - loss: 0.4203 - accuracy: 0.8210\n",
            "29/29 [==============================] - 0s 1ms/step - loss: 0.4156 - accuracy: 0.8231\n",
            "29/29 [==============================] - 0s 1ms/step - loss: 0.4015 - accuracy: 0.8330\n",
            "29/29 [==============================] - 0s 1ms/step - loss: 0.4385 - accuracy: 0.8133\n",
            "29/29 [==============================] - 0s 1ms/step - loss: 0.4097 - accuracy: 0.8231\n",
            "29/29 [==============================] - 0s 1ms/step - loss: 0.4012 - accuracy: 0.8341\n",
            "29/29 [==============================] - 0s 993us/step - loss: 0.4024 - accuracy: 0.8341\n",
            "29/29 [==============================] - 0s 1ms/step - loss: 0.4020 - accuracy: 0.8352\n",
            "29/29 [==============================] - 0s 1ms/step - loss: 0.4058 - accuracy: 0.8264\n",
            "29/29 [==============================] - 0s 1ms/step - loss: 0.4026 - accuracy: 0.8319\n",
            "29/29 [==============================] - 0s 1ms/step - loss: 0.4019 - accuracy: 0.8352\n",
            "29/29 [==============================] - 0s 1ms/step - loss: 0.4025 - accuracy: 0.8308\n",
            "29/29 [==============================] - 0s 998us/step - loss: 0.4019 - accuracy: 0.8352\n",
            "29/29 [==============================] - 0s 1ms/step - loss: 0.4029 - accuracy: 0.8308\n",
            "29/29 [==============================] - 0s 1ms/step - loss: 0.4041 - accuracy: 0.8297\n",
            "29/29 [==============================] - 0s 1ms/step - loss: 0.4023 - accuracy: 0.8373\n",
            "29/29 [==============================] - 0s 1ms/step - loss: 0.4117 - accuracy: 0.8231\n",
            "29/29 [==============================] - 0s 1ms/step - loss: 0.4039 - accuracy: 0.8319\n",
            "29/29 [==============================] - 0s 1ms/step - loss: 0.4254 - accuracy: 0.8188\n",
            "29/29 [==============================] - 0s 1ms/step - loss: 0.4092 - accuracy: 0.8297\n",
            "29/29 [==============================] - 0s 1ms/step - loss: 0.4029 - accuracy: 0.8330\n",
            "29/29 [==============================] - 0s 1ms/step - loss: 0.4072 - accuracy: 0.8330\n",
            "29/29 [==============================] - 0s 1ms/step - loss: 0.4033 - accuracy: 0.8341\n",
            "29/29 [==============================] - 0s 1ms/step - loss: 0.4101 - accuracy: 0.8395\n",
            "29/29 [==============================] - 0s 1ms/step - loss: 0.4015 - accuracy: 0.8362\n",
            "29/29 [==============================] - 0s 1ms/step - loss: 0.4014 - accuracy: 0.8341\n"
          ],
          "name": "stdout"
        }
      ]
    },
    {
      "cell_type": "markdown",
      "metadata": {
        "id": "YwV832U7NDYa",
        "colab_type": "text"
      },
      "source": [
        "Below you can see the top 10 features:"
      ]
    },
    {
      "cell_type": "code",
      "metadata": {
        "id": "nM2V6Jp3NDYb",
        "colab_type": "code",
        "colab": {
          "base_uri": "https://localhost:8080/",
          "height": 359
        },
        "outputId": "d8256ccf-946f-444a-9748-6a499be56d5f"
      },
      "source": [
        "feature_importance_ann(perm, feature_names, top_values=10, neg_values=False)"
      ],
      "execution_count": 93,
      "outputs": [
        {
          "output_type": "execute_result",
          "data": {
            "text/html": [
              "<div>\n",
              "<style scoped>\n",
              "    .dataframe tbody tr th:only-of-type {\n",
              "        vertical-align: middle;\n",
              "    }\n",
              "\n",
              "    .dataframe tbody tr th {\n",
              "        vertical-align: top;\n",
              "    }\n",
              "\n",
              "    .dataframe thead th {\n",
              "        text-align: right;\n",
              "    }\n",
              "</style>\n",
              "<table border=\"1\" class=\"dataframe\">\n",
              "  <thead>\n",
              "    <tr style=\"text-align: right;\">\n",
              "      <th></th>\n",
              "      <th>score reduction in % points</th>\n",
              "    </tr>\n",
              "  </thead>\n",
              "  <tbody>\n",
              "    <tr>\n",
              "      <th>Title_Mr</th>\n",
              "      <td>3.12</td>\n",
              "    </tr>\n",
              "    <tr>\n",
              "      <th>sex_female</th>\n",
              "      <td>2.47</td>\n",
              "    </tr>\n",
              "    <tr>\n",
              "      <th>sex_male</th>\n",
              "      <td>2.25</td>\n",
              "    </tr>\n",
              "    <tr>\n",
              "      <th>ticket_class_3.0</th>\n",
              "      <td>1.68</td>\n",
              "    </tr>\n",
              "    <tr>\n",
              "      <th>FamilySurvival_1.0</th>\n",
              "      <td>1.51</td>\n",
              "    </tr>\n",
              "    <tr>\n",
              "      <th>Title_Master</th>\n",
              "      <td>1.18</td>\n",
              "    </tr>\n",
              "    <tr>\n",
              "      <th>FamilySurvival_0.0</th>\n",
              "      <td>1.16</td>\n",
              "    </tr>\n",
              "    <tr>\n",
              "      <th>Title_Mrs</th>\n",
              "      <td>0.79</td>\n",
              "    </tr>\n",
              "    <tr>\n",
              "      <th>ticket_class_1.0</th>\n",
              "      <td>0.74</td>\n",
              "    </tr>\n",
              "    <tr>\n",
              "      <th>AgeCat_1</th>\n",
              "      <td>0.61</td>\n",
              "    </tr>\n",
              "  </tbody>\n",
              "</table>\n",
              "</div>"
            ],
            "text/plain": [
              "                    score reduction in % points\n",
              "Title_Mr                                   3.12\n",
              "sex_female                                 2.47\n",
              "sex_male                                   2.25\n",
              "ticket_class_3.0                           1.68\n",
              "FamilySurvival_1.0                         1.51\n",
              "Title_Master                               1.18\n",
              "FamilySurvival_0.0                         1.16\n",
              "Title_Mrs                                  0.79\n",
              "ticket_class_1.0                           0.74\n",
              "AgeCat_1                                   0.61"
            ]
          },
          "metadata": {
            "tags": []
          },
          "execution_count": 93
        }
      ]
    },
    {
      "cell_type": "code",
      "metadata": {
        "scrolled": false,
        "id": "FcssMKAmNDYg",
        "colab_type": "code",
        "colab": {
          "base_uri": "https://localhost:8080/",
          "height": 142
        },
        "outputId": "956dd50d-7982-442c-a710-fca619332067"
      },
      "source": [
        "feature_importance_ann(perm, feature_names, top_values=20, neg_values=True)"
      ],
      "execution_count": 94,
      "outputs": [
        {
          "output_type": "execute_result",
          "data": {
            "text/html": [
              "<div>\n",
              "<style scoped>\n",
              "    .dataframe tbody tr th:only-of-type {\n",
              "        vertical-align: middle;\n",
              "    }\n",
              "\n",
              "    .dataframe tbody tr th {\n",
              "        vertical-align: top;\n",
              "    }\n",
              "\n",
              "    .dataframe thead th {\n",
              "        text-align: right;\n",
              "    }\n",
              "</style>\n",
              "<table border=\"1\" class=\"dataframe\">\n",
              "  <thead>\n",
              "    <tr style=\"text-align: right;\">\n",
              "      <th></th>\n",
              "      <th>score reduction in % points</th>\n",
              "    </tr>\n",
              "  </thead>\n",
              "  <tbody>\n",
              "    <tr>\n",
              "      <th>FareCat_5</th>\n",
              "      <td>-0.17</td>\n",
              "    </tr>\n",
              "    <tr>\n",
              "      <th>FareCat_6</th>\n",
              "      <td>-0.04</td>\n",
              "    </tr>\n",
              "    <tr>\n",
              "      <th>AgeCat_5</th>\n",
              "      <td>-0.02</td>\n",
              "    </tr>\n",
              "  </tbody>\n",
              "</table>\n",
              "</div>"
            ],
            "text/plain": [
              "           score reduction in % points\n",
              "FareCat_5                        -0.17\n",
              "FareCat_6                        -0.04\n",
              "AgeCat_5                         -0.02"
            ]
          },
          "metadata": {
            "tags": []
          },
          "execution_count": 94
        }
      ]
    },
    {
      "cell_type": "markdown",
      "metadata": {
        "id": "Bze5wc3LNDYs",
        "colab_type": "text"
      },
      "source": [
        "Here, obviously the feature *Title_Mr* which was created during data preparation by the oneHotEncoder (chapter 6.2/6.3) is the most important feature. Moreover, it seems that all new features we created are somehow relevant for a good classification, which points out the important role of a solid feature engeneering.\n",
        "\n",
        "If we turn the above table upside down, we se that there are som features which show a negative score:"
      ]
    },
    {
      "cell_type": "markdown",
      "metadata": {
        "id": "iufPnI07NDYu",
        "colab_type": "text"
      },
      "source": [
        "A negative value means that our model might work better if we do not consider the respective feature.\n",
        "\n",
        "Using SelectFromModel one can create a new training dataset containing only the most important features. The code below shows how to select the top 17 features. Optimizing the model on the best feature dataset might improve the general prediction score. I tested the top 17 features (hence, all features without negative values) and found that the validation score the score on the test data (kaggle) for incomparison to using the original 30 features.\n",
        "\n",
        "I do not show this analysis here in detail but feel free to try and to further optimize the feature selection. To use the best feature datasets X_train_bf/X_test_bf as definded below, uncomment the respective line for the definition of the GridSearchCV datasets X_train_gs/X_test_gs as indicated below in section 7.3."
      ]
    },
    {
      "cell_type": "code",
      "metadata": {
        "id": "UxkIn1vsNDYv",
        "colab_type": "code",
        "colab": {}
      },
      "source": [
        "# select k best features\n",
        "k = 17\n",
        "sel = SelectFromModel(perm, threshold=-np.inf, max_features=k, prefit=True)\n",
        "#get index of best features\n",
        "best_festures_index=np.where(sel.get_support()==True)\n",
        "\n",
        "# create training data with k selected features\n",
        "X_train_bf = data_post[:len(train['Survived']),best_festures_index[0]].copy()\n",
        "# create test data with k selected features\n",
        "X_test_bf = data_post[len(train['Survived']):,best_festures_index[0]].copy()"
      ],
      "execution_count": 95,
      "outputs": []
    },
    {
      "cell_type": "markdown",
      "metadata": {
        "id": "aeA1sjJGNDY6",
        "colab_type": "text"
      },
      "source": [
        "In general, it should be mentioned that the feature importance strongly depends on the architecture of the model and the hyperparameters, i.e. a different number of layers or neurons per layer, for instance, may change the absolute and relative importance of single features. \n",
        "For instance, I testes the final model with and without implementing the title youngMiss. Although Title_youngMiss shows a feature importance of only 0.02 % points, including youngMiss improved the validation score and prediction on the test dataset by 0.5 % points. Also the absolut importances of the other features changed quite significnatly. \n",
        "\n",
        "Since some features are quite dominat and clear, one could try to build a wide & deep model where some features have more/less hidden layers to improve te quality of the model. Nervertheless, one should keep in mind that most of the times, the simple models are the best and more general ones."
      ]
    },
    {
      "cell_type": "markdown",
      "metadata": {
        "id": "QsIayrTcNDY7",
        "colab_type": "text"
      },
      "source": [
        "### 7.2.2 Make predictions for the test dataset"
      ]
    },
    {
      "cell_type": "markdown",
      "metadata": {
        "id": "kOyL5aXsNDY8",
        "colab_type": "text"
      },
      "source": [
        "Now, knowing that our model is already quite good, we are ready to make the final predictions."
      ]
    },
    {
      "cell_type": "code",
      "metadata": {
        "scrolled": true,
        "id": "r9_Dl6KoNDY9",
        "colab_type": "code",
        "colab": {}
      },
      "source": [
        "# make predictions for X_test\n",
        "y_pred_dnn = dnn_clf.predict_classes(X_test)"
      ],
      "execution_count": 96,
      "outputs": []
    },
    {
      "cell_type": "code",
      "metadata": {
        "scrolled": false,
        "id": "HTbNlPLpNDZW",
        "colab_type": "code",
        "colab": {
          "base_uri": "https://localhost:8080/",
          "height": 204
        },
        "outputId": "96838d69-b67d-4105-ff0c-523ad0a668ee"
      },
      "source": [
        "#convert to DataFrame and check\n",
        "my_submission=pred_to_df(y_pred_dnn)\n",
        "my_submission.head()"
      ],
      "execution_count": 97,
      "outputs": [
        {
          "output_type": "execute_result",
          "data": {
            "text/html": [
              "<div>\n",
              "<style scoped>\n",
              "    .dataframe tbody tr th:only-of-type {\n",
              "        vertical-align: middle;\n",
              "    }\n",
              "\n",
              "    .dataframe tbody tr th {\n",
              "        vertical-align: top;\n",
              "    }\n",
              "\n",
              "    .dataframe thead th {\n",
              "        text-align: right;\n",
              "    }\n",
              "</style>\n",
              "<table border=\"1\" class=\"dataframe\">\n",
              "  <thead>\n",
              "    <tr style=\"text-align: right;\">\n",
              "      <th></th>\n",
              "      <th>traveller_ID</th>\n",
              "      <th>Survived</th>\n",
              "    </tr>\n",
              "  </thead>\n",
              "  <tbody>\n",
              "    <tr>\n",
              "      <th>0</th>\n",
              "      <td>1148</td>\n",
              "      <td>0</td>\n",
              "    </tr>\n",
              "    <tr>\n",
              "      <th>1</th>\n",
              "      <td>1049</td>\n",
              "      <td>0</td>\n",
              "    </tr>\n",
              "    <tr>\n",
              "      <th>2</th>\n",
              "      <td>982</td>\n",
              "      <td>0</td>\n",
              "    </tr>\n",
              "    <tr>\n",
              "      <th>3</th>\n",
              "      <td>808</td>\n",
              "      <td>0</td>\n",
              "    </tr>\n",
              "    <tr>\n",
              "      <th>4</th>\n",
              "      <td>1195</td>\n",
              "      <td>0</td>\n",
              "    </tr>\n",
              "  </tbody>\n",
              "</table>\n",
              "</div>"
            ],
            "text/plain": [
              "   traveller_ID  Survived\n",
              "0          1148         0\n",
              "1          1049         0\n",
              "2           982         0\n",
              "3           808         0\n",
              "4          1195         0"
            ]
          },
          "metadata": {
            "tags": []
          },
          "execution_count": 97
        }
      ]
    },
    {
      "cell_type": "code",
      "metadata": {
        "id": "CW-g3GUbNDZj",
        "colab_type": "code",
        "colab": {}
      },
      "source": [
        "# save to csv file \n",
        "# save_to_csv(my_submission,'submission')\n",
        "my_submission.to_csv('DSN_OnuigweVitus.csv', index=False)"
      ],
      "execution_count": 98,
      "outputs": []
    },
    {
      "cell_type": "markdown",
      "metadata": {
        "id": "hoMl9JwYNDZx",
        "colab_type": "text"
      },
      "source": [
        "### 7.3 Find optimum hyperparameters using GridSearch and cross-validation <a id=\"Model3\"></a>"
      ]
    },
    {
      "cell_type": "markdown",
      "metadata": {
        "id": "JhsCEyP6NDZy",
        "colab_type": "text"
      },
      "source": [
        "In the previous section, we have already seen how to build a pretty good ANN classifer. However, the hard part of getting a top classifier is to find the optimum set of hyperparameters. And this is what we are going to do now. \n",
        "\n",
        "For the optimization process I went through the following steps using GridSearchCV:\n",
        "\n",
        "1. Setting the activation function and the respective kernel initializer\n",
        "As the activation function for the hidden layers I chose the scaled exponential linear unit function *SELU* with the respective LeCun initialization. Using the [*SELU*](https://arxiv.org/abs/1706.02515) the network will self-normalize, where the output of each layer will preserve a mean of 0 and std of 1 during the training. This is in particular benefitial for deep networks which may face problems with vanishing/exploding gradients. For our rather shallow model this should not be a problem, nevertheless, the *SELU* performed at least 0.5% better than *ElU* or *ReLU* for different hyperparameters. \n",
        "\n",
        "2. Finding the best Optimizer\n",
        "I tried a number of different optimizers (see parameter grid below) and adtaptive moment estimation with the method, aka [*Nadam*](http://cs229.stanford.edu/proj2015/054_report.pdf), turned out to be the best one.\n",
        "\n",
        "2. Evaluationg the optimum learning\n",
        "The learing rate is the most likely the most important parameter. There are several techniqus to optimize the learing rate like ploting the learning curve for various learning rates or using elaborate methods like [*1cycle sheduling*](https://arxiv.org/abs/1803.09820). I tried several techniques, but for our rather simple model it was most practical to try different learning rates using GridSearchCV. I found a learning rate of 0.0005 (half the default value for Nadam) to deliver the best results.\n",
        "\n",
        "3. Optimizing the number of epochs\n",
        "Having found a good learning rate, one has to optimize the number of epochs per training run. I found 30 epochs to be a good number not to overfit the model. In general, to prevent overfitting one can use techniques like EarlyStopping or plot/compare the training vs the validation loss/score for a series of epochs (discussed below).\n",
        "I implemented EarlyStopping with a callback for GridSearchCV (see below), however, it was more practical to simply optimze the epochs and check that the training and the validation score do not diverge with increasing epochs. Especially, since with *patience* one introduces another hyperparameter which has to be optimized. Moreover, it should be noted that before using EarlyStopping whith cross-validation, [a few things](https://stackoverflow.com/questions/48127550/early-stopping-with-keras-and-sklearn-gridsearchcv-cross-validation) should to be considered.\n",
        "\n",
        "4. Finding the optimum batch size \n",
        "Again I used GridSearchCV and found 20 instances to be the best batch size. In general, what is the maximum batch size one should use is still under discussion. There are several controverse discussions in the community.\n",
        "\n",
        "5. Find the best model architecture:\n",
        "GridSearchCV found three combinations to be very similar in performance: #layers/#neurons: 3/10, 3/15, 2/10. \n",
        "The score of the three models lay within 0.3%. In the end I chose 2 hidden layers with 10 neurons each, since it performed best on the test data.\n",
        "\n",
        "One can optimze the hyperparameters by running GridSearch for all different parameters at once, which might take quite a while or find the best parameters by optimizing only one or a few parameters at a time and see how the model performs. Using the latter step-by-step method, it should be noted that one might have to go several times through the different steps in order to find the optimum parameters. \n",
        "\n",
        "So here is the GridSearchCV approach using a KerasClassifier:"
      ]
    },
    {
      "cell_type": "code",
      "metadata": {
        "id": "SZqfr1zFNDZz",
        "colab_type": "code",
        "colab": {}
      },
      "source": [
        "#If you want to optimize with the \"best features\" dataset X_train_bf, uncomment below.\n",
        "\n",
        "# training data: default is X_train as used before \n",
        "X_train_gs=X_train.copy()\n",
        "#X_train_gs=X_train_bf.copy() #best feature dataset\n",
        "\n",
        "# test data: default is X_train as used before\n",
        "X_test_gs=X_test.copy()\n",
        "#X_test_gs=X_test_bf.copy()  #best feature dataset"
      ],
      "execution_count": 99,
      "outputs": []
    },
    {
      "cell_type": "code",
      "metadata": {
        "id": "rlW52dlINDZ4",
        "colab_type": "code",
        "colab": {
          "base_uri": "https://localhost:8080/",
          "height": 51
        },
        "outputId": "c77911d9-107a-47a5-c0a4-d56585661696"
      },
      "source": [
        "# check shape of X_train - number of instances and features\n",
        "print('# instances: '+ str(X_train_gs.shape[0]))\n",
        "print('# features: '+ str(X_train_gs.shape[1]))"
      ],
      "execution_count": 100,
      "outputs": [
        {
          "output_type": "stream",
          "text": [
            "# instances: 916\n",
            "# features: 30\n"
          ],
          "name": "stdout"
        }
      ]
    },
    {
      "cell_type": "code",
      "metadata": {
        "scrolled": false,
        "id": "NXWqAjLJNDZ_",
        "colab_type": "code",
        "colab": {}
      },
      "source": [
        "keras.backend.clear_session()\n",
        "np.random.seed(42)\n",
        "tf.random.set_seed(42)\n",
        "\n",
        "# build classifier\n",
        "dnn_clf_gs = KerasClassifier(build_fn = create_model, verbose = 0)\n",
        "\n",
        "# define parameter grid: \n",
        "# uncomment the parameters you want to optimize\n",
        "param_grid = {\n",
        "    #\"optimizer\": ['Adam', 'Nadam', 'Adagrad', 'Adamax'],\n",
        "    #\"lr\":[0.005,0.001,0.0005]\n",
        "    #\"epochs\": [15, 30, 45, 60],\n",
        "    #\"batch_size\": [20,30,40],\n",
        "    #\"number_hidden\": [1, 2, 3],\n",
        "    #\"neurons_per_hidden\": [5, 10, 15],\n",
        "    'input_shape': X_train_gs.shape[1:]  # keep this line\n",
        "}\n",
        "\n",
        "# build GridSearchCV model with ANN classifier\n",
        "grid_search_dnn = GridSearchCV(dnn_clf_gs, param_grid, cv=5, n_jobs=-1, verbose=0, return_train_score=True)\n",
        "\n",
        "# fit GridSearchCV model\n",
        "training_gs = grid_search_dnn.fit(X_train_gs, y_train,\n",
        "                                 epochs = 30, \n",
        "                                 batch_size = 30,\n",
        "                                 validation_split=0.2, shuffle=True,\n",
        "                                 #callbacks=[keras.callbacks.EarlyStopping(patience=8)]\n",
        "                                )\n",
        "                                    "
      ],
      "execution_count": 101,
      "outputs": []
    },
    {
      "cell_type": "code",
      "metadata": {
        "id": "9aQfAOWpNDaD",
        "colab_type": "code",
        "colab": {
          "base_uri": "https://localhost:8080/",
          "height": 51
        },
        "outputId": "58291bfd-1d7d-48e8-aa7c-2d5006dd3a03"
      },
      "source": [
        "# mean scores for training and validation model after cross-validation\n",
        "print('Mean training score:   ' + str((grid_search_dnn.cv_results_['mean_train_score'][grid_search_dnn.best_index_]*100).round(2)) +'% (' + str((grid_search_dnn.cv_results_['std_train_score'][grid_search_dnn.best_index_]*100).round(2)) + '%)')\n",
        "print('Mean validation score: ' + str((grid_search_dnn.cv_results_['mean_test_score'][grid_search_dnn.best_index_]*100).round(2)) +'% (' + str((grid_search_dnn.cv_results_['std_test_score'][grid_search_dnn.best_index_]*100).round(2)) + '%)')"
      ],
      "execution_count": 102,
      "outputs": [
        {
          "output_type": "stream",
          "text": [
            "Mean training score:   82.51% (1.27%)\n",
            "Mean validation score: 81.33% (4.06%)\n"
          ],
          "name": "stdout"
        }
      ]
    },
    {
      "cell_type": "markdown",
      "metadata": {
        "id": "KWyuUbAgNDaO",
        "colab_type": "text"
      },
      "source": [
        "The validation score evulated by cross-validation is quite close to the 83.3% score obtained for the test dataset. \n",
        "Also the training and validation score are rather similar which suggests that there is no/little overfitting. Hence, the model seems to be optimzed quite well.\n",
        "\n",
        "To see when overfitting sets in one can plot the training versus validation score/loss for several epochs (aka learning curve) as shown below. Note that in order to plot this curve you need to have validation data (stratified at best). However, since the Titanic data set is rather small you should train your final model using all the data (no validation split). So only use this during the optimization phase.  "
      ]
    },
    {
      "cell_type": "code",
      "metadata": {
        "id": "IWALzymdNDaP",
        "colab_type": "code",
        "colab": {
          "base_uri": "https://localhost:8080/",
          "height": 295
        },
        "outputId": "7cb225a7-c79d-4cd7-8ea4-d31aa5d5e309"
      },
      "source": [
        "# summarize history for accuracy\n",
        "plt.plot(grid_search_dnn.best_estimator_.model.history.history['accuracy'], color='red')\n",
        "plt.plot(grid_search_dnn.best_estimator_.model.history.history['val_accuracy'], color='green')\n",
        "plt.plot(grid_search_dnn.best_estimator_.model.history.history['loss'], color='red')\n",
        "plt.plot(grid_search_dnn.best_estimator_.model.history.history['val_loss'], color='green')\n",
        "plt.title('model accuracy')\n",
        "plt.ylabel('accuracy')\n",
        "plt.xlabel('epochs')\n",
        "plt.legend(['train accuracy/loss', 'validation accuracy/loss',], loc='best')\n",
        "plt.show()"
      ],
      "execution_count": 103,
      "outputs": [
        {
          "output_type": "display_data",
          "data": {
            "image/png": "[encoded data removed]",
            "text/plain": [
              "<Figure size 432x288 with 1 Axes>"
            ]
          },
          "metadata": {
            "tags": [],
            "needs_background": "light"
          }
        }
      ]
    },
    {
      "cell_type": "markdown",
      "metadata": {
        "id": "TZFpIkgENDaU",
        "colab_type": "text"
      },
      "source": [
        "The graph shows that the model converges well (might be still some room for improvement) and that there is no overfitting (would e.g. be indicated by divergence of training and validation loss after validation loss had a minimum). An explanation why the validation score/loss is higher/lower than the on of the training is explained [here](https://keras.io/getting-started/faq/#why-is-the-training-loss-much-higher-than-the-testing-loss).\n",
        "\n",
        "Now let's check which were the top parameter sets:"
      ]
    },
    {
      "cell_type": "code",
      "metadata": {
        "scrolled": true,
        "id": "4lGY4qfdNDaU",
        "colab_type": "code",
        "colab": {
          "base_uri": "https://localhost:8080/",
          "height": 80
        },
        "outputId": "3ec5878c-7044-4dbc-8b03-6dcacbed7593"
      },
      "source": [
        "# set of optimized hyperparameters -> best model\n",
        "pd.DataFrame(grid_search_dnn.best_params_.items(), columns=['hyperparameter','value'])"
      ],
      "execution_count": 104,
      "outputs": [
        {
          "output_type": "execute_result",
          "data": {
            "text/html": [
              "<div>\n",
              "<style scoped>\n",
              "    .dataframe tbody tr th:only-of-type {\n",
              "        vertical-align: middle;\n",
              "    }\n",
              "\n",
              "    .dataframe tbody tr th {\n",
              "        vertical-align: top;\n",
              "    }\n",
              "\n",
              "    .dataframe thead th {\n",
              "        text-align: right;\n",
              "    }\n",
              "</style>\n",
              "<table border=\"1\" class=\"dataframe\">\n",
              "  <thead>\n",
              "    <tr style=\"text-align: right;\">\n",
              "      <th></th>\n",
              "      <th>hyperparameter</th>\n",
              "      <th>value</th>\n",
              "    </tr>\n",
              "  </thead>\n",
              "  <tbody>\n",
              "    <tr>\n",
              "      <th>0</th>\n",
              "      <td>input_shape</td>\n",
              "      <td>30</td>\n",
              "    </tr>\n",
              "  </tbody>\n",
              "</table>\n",
              "</div>"
            ],
            "text/plain": [
              "  hyperparameter  value\n",
              "0    input_shape     30"
            ]
          },
          "metadata": {
            "tags": []
          },
          "execution_count": 104
        }
      ]
    },
    {
      "cell_type": "code",
      "metadata": {
        "scrolled": true,
        "id": "5AQi63ruNDaZ",
        "colab_type": "code",
        "colab": {
          "base_uri": "https://localhost:8080/",
          "height": 80
        },
        "outputId": "3c9a3294-49d5-44dc-fe57-c95a5851fa34"
      },
      "source": [
        "# top 10 hyperparameter sets\n",
        "hyperparameter_analysis(grid_search_dnn, 10)"
      ],
      "execution_count": 105,
      "outputs": [
        {
          "output_type": "execute_result",
          "data": {
            "text/html": [
              "<div>\n",
              "<style scoped>\n",
              "    .dataframe tbody tr th:only-of-type {\n",
              "        vertical-align: middle;\n",
              "    }\n",
              "\n",
              "    .dataframe tbody tr th {\n",
              "        vertical-align: top;\n",
              "    }\n",
              "\n",
              "    .dataframe thead th {\n",
              "        text-align: right;\n",
              "    }\n",
              "</style>\n",
              "<table border=\"1\" class=\"dataframe\">\n",
              "  <thead>\n",
              "    <tr style=\"text-align: right;\">\n",
              "      <th></th>\n",
              "      <th>input_shape</th>\n",
              "      <th>train score in %</th>\n",
              "      <th>test score in %</th>\n",
              "      <th>test std in %</th>\n",
              "    </tr>\n",
              "  </thead>\n",
              "  <tbody>\n",
              "    <tr>\n",
              "      <th>1</th>\n",
              "      <td>30.0</td>\n",
              "      <td>82.505</td>\n",
              "      <td>81.333</td>\n",
              "      <td>4.061</td>\n",
              "    </tr>\n",
              "  </tbody>\n",
              "</table>\n",
              "</div>"
            ],
            "text/plain": [
              "   input_shape  train score in %  test score in %  test std in %\n",
              "1         30.0            82.505           81.333          4.061"
            ]
          },
          "metadata": {
            "tags": []
          },
          "execution_count": 105
        }
      ]
    },
    {
      "cell_type": "code",
      "metadata": {
        "scrolled": true,
        "id": "T47LMzbKNDag",
        "colab_type": "code",
        "colab": {}
      },
      "source": [
        "# make predictions for X_test\n",
        "y_pred_dnn_opti = grid_search_dnn.best_estimator_.predict(X_test_gs)"
      ],
      "execution_count": 106,
      "outputs": []
    },
    {
      "cell_type": "code",
      "metadata": {
        "scrolled": false,
        "id": "zu1xqrYrNDam",
        "colab_type": "code",
        "colab": {
          "base_uri": "https://localhost:8080/",
          "height": 204
        },
        "outputId": "fe7d48e8-8f5b-487e-a658-9a9e1c7e3cdb"
      },
      "source": [
        "# convert to DataFrame and check\n",
        "survived_dnn_opti=pred_to_df(y_pred_dnn_opti)\n",
        "survived_dnn_opti.head()"
      ],
      "execution_count": 107,
      "outputs": [
        {
          "output_type": "execute_result",
          "data": {
            "text/html": [
              "<div>\n",
              "<style scoped>\n",
              "    .dataframe tbody tr th:only-of-type {\n",
              "        vertical-align: middle;\n",
              "    }\n",
              "\n",
              "    .dataframe tbody tr th {\n",
              "        vertical-align: top;\n",
              "    }\n",
              "\n",
              "    .dataframe thead th {\n",
              "        text-align: right;\n",
              "    }\n",
              "</style>\n",
              "<table border=\"1\" class=\"dataframe\">\n",
              "  <thead>\n",
              "    <tr style=\"text-align: right;\">\n",
              "      <th></th>\n",
              "      <th>traveller_ID</th>\n",
              "      <th>Survived</th>\n",
              "    </tr>\n",
              "  </thead>\n",
              "  <tbody>\n",
              "    <tr>\n",
              "      <th>0</th>\n",
              "      <td>1148</td>\n",
              "      <td>0</td>\n",
              "    </tr>\n",
              "    <tr>\n",
              "      <th>1</th>\n",
              "      <td>1049</td>\n",
              "      <td>0</td>\n",
              "    </tr>\n",
              "    <tr>\n",
              "      <th>2</th>\n",
              "      <td>982</td>\n",
              "      <td>0</td>\n",
              "    </tr>\n",
              "    <tr>\n",
              "      <th>3</th>\n",
              "      <td>808</td>\n",
              "      <td>0</td>\n",
              "    </tr>\n",
              "    <tr>\n",
              "      <th>4</th>\n",
              "      <td>1195</td>\n",
              "      <td>0</td>\n",
              "    </tr>\n",
              "  </tbody>\n",
              "</table>\n",
              "</div>"
            ],
            "text/plain": [
              "   traveller_ID  Survived\n",
              "0          1148         0\n",
              "1          1049         0\n",
              "2           982         0\n",
              "3           808         0\n",
              "4          1195         0"
            ]
          },
          "metadata": {
            "tags": []
          },
          "execution_count": 107
        }
      ]
    },
    {
      "cell_type": "code",
      "metadata": {
        "id": "fKm5M75bNDaq",
        "colab_type": "code",
        "colab": {}
      },
      "source": [
        "# save prediction obtained by GridSearch\n",
        "#save_to_csv(survived_dnn_opti,'survived_dnn_opti')\n",
        "survived_dnn_opti.to_csv('DSN_OnuigweVitus1.csv', index=False)"
      ],
      "execution_count": 108,
      "outputs": []
    },
    {
      "cell_type": "markdown",
      "metadata": {
        "id": "U_qqtC3yNDa4",
        "colab_type": "text"
      },
      "source": [
        "[back to Table of Contents](#TOC)\n",
        "## 8. Conclusions <a id=\"Conclusions\"></a>"
      ]
    },
    {
      "cell_type": "markdown",
      "metadata": {
        "id": "qCeyR66nNDa5",
        "colab_type": "text"
      },
      "source": [
        "With this ANN classifier you should obtain 83.3% on the test dataset (kaggle). With the current set of features, the ANN classifier performs much better than strong ensemble methods like *Random Forests* and *Gradient Boosting* which only achieved about 80.8% on the test data. An analysis of both classifiers can be found in appedix A and B of this notebook.\n",
        "\n",
        "I experimented with lot of different approaches for feature analysis, feature engineering, data preparation and for the final model (hence, the large number of submissions) and tried to summarized the most important aspects in this notebook.\n",
        "\n",
        "We learned that feature engineering and the implementation of new features based on a carefull analysis of the existing features is indispensable for building a powerfull classifier. Especially since ANNs seem to be quite sensitive for variations in the feature set.\n",
        "\n",
        "Moreover, we saw that GridSearchCV can be very usefull tool to optimize the hyperparameters. It should be noted that for a rather small dataset, as it is the case for the *Titanic Desaster*, it is not advisable to create a separate validation data set from the training data (tried it, model does not generalize well anymore), so using cross-validation is essential.\n",
        "\n",
        "In general, with a good optimization, ANNs seem to perform very well on the titanic datasets. \n",
        "\n",
        "I hope you enjoyed this notebook and, of course, comments and feedback are highly appreciated. <p style=\"color:red\"><b>If you liked this notebook, please leave an upvote!!\n",
        "\n",
        "<br>\n",
        "<br>\n",
        "<br>\n",
        "\n",
        "Here are a few other good reads on basics of ML and ANNs\n",
        "\n",
        "* [Machine Learning Tutorial for Beginners](https://www.kaggle.com/kanncaa1/machine-learning-tutorial-for-beginners) by [kanncaa1](https://www.kaggle.com/kanncaa1)\n",
        "* [Deep Learning Tutorial for Beginners](https://www.kaggle.com/kanncaa1/deep-learning-tutorial-for-beginners) by [kanncaa1](https://www.kaggle.com/kanncaa1)\n",
        "\n",
        "ANNs applied to the Titanic data set\n",
        "* [Titanic EDA + Model Pipeline + Keras NN](https://www.kaggle.com/kabure/titanic-eda-model-pipeline-keras-nn#6.-Modelling-:-) by [kabure](https://www.kaggle.com/kabure) \n",
        "* [Complete Titanic tutorial with ML, NN & Ensembling](https://www.kaggle.com/nhlr21/complete-titanic-tutorial-with-ml-nn-ensembling) by [nhlr21](https://www.kaggle.com/nhlr21) \n",
        "* [Titanic - Neural Networks (KERAS) - 81.8%](https://www.kaggle.com/vincentlugat/titanic-neural-networks-keras-81-8) by [vincentlugat](https://www.kaggle.com/vincentlugat)\n",
        "    \n",
        "and ANNs applied a actual real world problem ([M5 Competition](https://www.kaggle.com/c/m5-forecasting-accuracy))\n",
        "* [Neural networks for the prediction of product sales](https://www.kaggle.com/dantefilu/nn-on-store-level-with-3-fold-cv-store-wrmsse)\n",
        "\n",
        "<br>\n",
        "<br>\n",
        "<br>"
      ]
    },
    {
      "cell_type": "markdown",
      "metadata": {
        "id": "TQPC29i_NDa6",
        "colab_type": "text"
      },
      "source": [
        "# Appendix \n",
        "\n",
        "In order to see how other methods perform on the perpared data set, we introduce two strong ensemble methods, Random Forests and Gradient Boosting. Below you will see that despite a optimization with GridSearchCV, none of the the two methodes achieved higher sores than 80.8% on the test data set. Hence, with 83.3% test score, the rather simple ANN we discussed above performes much better.\n",
        "\n",
        "A carefull analysis would be needed to find out why the ANN scores better on the test data. One reason might be that for the ANN the feature \"Title_Master\" seems to be very important - a feature which is not irrelevant for both, Random Forests and Gradient Boosting."
      ]
    },
    {
      "cell_type": "markdown",
      "metadata": {
        "id": "oPjyi1kANDa7",
        "colab_type": "text"
      },
      "source": [
        "## A: Random Forests <a id=\"RF\"></a>"
      ]
    },
    {
      "cell_type": "markdown",
      "metadata": {
        "id": "5efWCiqYNDa-",
        "colab_type": "text"
      },
      "source": [
        "### RF: Modelling"
      ]
    },
    {
      "cell_type": "code",
      "metadata": {
        "scrolled": false,
        "id": "0SF-x-znNDa_",
        "colab_type": "code",
        "colab": {
          "base_uri": "https://localhost:8080/",
          "height": 394
        },
        "outputId": "a7d6a07c-54b8-42d5-ae4d-bc4544439b8e"
      },
      "source": [
        "# Find optimum hyperparameters with RandomSearch\n",
        "\n",
        "param_distribs = {\n",
        "        'n_estimators': randint(low=50, high=150),\n",
        "        'max_features': randint(low=5, high=15),\n",
        "        'min_samples_split': randint(low=10, high=30),\n",
        "    }\n",
        "\n",
        "forest_clf = RandomForestClassifier(random_state=42)\n",
        "rnd_search_rf = RandomizedSearchCV(forest_clf, param_distributions=param_distribs, n_jobs=-1,\n",
        "                                n_iter=50, cv=5, scoring=\"accuracy\", random_state=42, return_train_score=True)\n",
        "rnd_search_rf.fit(X_train, y_train)"
      ],
      "execution_count": 109,
      "outputs": [
        {
          "output_type": "execute_result",
          "data": {
            "text/plain": [
              "RandomizedSearchCV(cv=5, error_score=nan,\n",
              "                   estimator=RandomForestClassifier(bootstrap=True,\n",
              "                                                    ccp_alpha=0.0,\n",
              "                                                    class_weight=None,\n",
              "                                                    criterion='gini',\n",
              "                                                    max_depth=None,\n",
              "                                                    max_features='auto',\n",
              "                                                    max_leaf_nodes=None,\n",
              "                                                    max_samples=None,\n",
              "                                                    min_impurity_decrease=0.0,\n",
              "                                                    min_impurity_split=None,\n",
              "                                                    min_samples_leaf=1,\n",
              "                                                    min_samples_split=2,\n",
              "                                                    min_weight_fraction_leaf=0.0,\n",
              "                                                    n_estimators=100,\n",
              "                                                    n_jobs...\n",
              "                   param_distributions={'max_features': <scipy.stats._distn_infrastructure.rv_frozen object at 0x7f111b5dc0f0>,\n",
              "                                        'min_samples_split': <scipy.stats._distn_infrastructure.rv_frozen object at 0x7f111b5dc550>,\n",
              "                                        'n_estimators': <scipy.stats._distn_infrastructure.rv_frozen object at 0x7f111b5dcfd0>},\n",
              "                   pre_dispatch='2*n_jobs', random_state=42, refit=True,\n",
              "                   return_train_score=True, scoring='accuracy', verbose=0)"
            ]
          },
          "metadata": {
            "tags": []
          },
          "execution_count": 109
        }
      ]
    },
    {
      "cell_type": "code",
      "metadata": {
        "id": "hn7Qho0WNDbP",
        "colab_type": "code",
        "colab": {
          "base_uri": "https://localhost:8080/",
          "height": 34
        },
        "outputId": "42fdc8f8-30be-4bdf-d388-cb61973fc679"
      },
      "source": [
        "# score of best model after cross-validation\n",
        "print('Best score: ' + str((rnd_search_rf.best_score_*100).round(2)) + '%')"
      ],
      "execution_count": 110,
      "outputs": [
        {
          "output_type": "stream",
          "text": [
            "Best score: 83.63%\n"
          ],
          "name": "stdout"
        }
      ]
    },
    {
      "cell_type": "code",
      "metadata": {
        "id": "m-bJoGgVNDbU",
        "colab_type": "code",
        "colab": {
          "base_uri": "https://localhost:8080/",
          "height": 51
        },
        "outputId": "cea912d6-2a1f-44f0-ce91-88df1b2613f5"
      },
      "source": [
        "# mean scores for training and validation model after cross-validation\n",
        "print('Mean training score:   ' + str((rnd_search_rf.cv_results_['mean_train_score'][rnd_search_rf.best_index_]*100).round(2)) +'% (' + str((rnd_search_rf.cv_results_['std_train_score'][0]*100).round(2)) + '%)')\n",
        "print('Mean validation score: ' + str((rnd_search_rf.cv_results_['mean_test_score'][rnd_search_rf.best_index_]*100).round(2)) +'% (' + str((rnd_search_rf.cv_results_['std_test_score'][0]*100).round(2)) + '%)')"
      ],
      "execution_count": 111,
      "outputs": [
        {
          "output_type": "stream",
          "text": [
            "Mean training score:   85.56% (0.57%)\n",
            "Mean validation score: 83.63% (3.76%)\n"
          ],
          "name": "stdout"
        }
      ]
    },
    {
      "cell_type": "code",
      "metadata": {
        "id": "BNPTEj1CNDbh",
        "colab_type": "code",
        "colab": {
          "base_uri": "https://localhost:8080/",
          "height": 142
        },
        "outputId": "ff863093-6081-460d-ae02-c62449d53d92"
      },
      "source": [
        "# set of optimized hyperparameters -> best model\n",
        "pd.DataFrame(rnd_search_rf.best_params_.items(), columns=['hyperparameter','value'])"
      ],
      "execution_count": 112,
      "outputs": [
        {
          "output_type": "execute_result",
          "data": {
            "text/html": [
              "<div>\n",
              "<style scoped>\n",
              "    .dataframe tbody tr th:only-of-type {\n",
              "        vertical-align: middle;\n",
              "    }\n",
              "\n",
              "    .dataframe tbody tr th {\n",
              "        vertical-align: top;\n",
              "    }\n",
              "\n",
              "    .dataframe thead th {\n",
              "        text-align: right;\n",
              "    }\n",
              "</style>\n",
              "<table border=\"1\" class=\"dataframe\">\n",
              "  <thead>\n",
              "    <tr style=\"text-align: right;\">\n",
              "      <th></th>\n",
              "      <th>hyperparameter</th>\n",
              "      <th>value</th>\n",
              "    </tr>\n",
              "  </thead>\n",
              "  <tbody>\n",
              "    <tr>\n",
              "      <th>0</th>\n",
              "      <td>max_features</td>\n",
              "      <td>12</td>\n",
              "    </tr>\n",
              "    <tr>\n",
              "      <th>1</th>\n",
              "      <td>min_samples_split</td>\n",
              "      <td>16</td>\n",
              "    </tr>\n",
              "    <tr>\n",
              "      <th>2</th>\n",
              "      <td>n_estimators</td>\n",
              "      <td>132</td>\n",
              "    </tr>\n",
              "  </tbody>\n",
              "</table>\n",
              "</div>"
            ],
            "text/plain": [
              "      hyperparameter  value\n",
              "0       max_features     12\n",
              "1  min_samples_split     16\n",
              "2       n_estimators    132"
            ]
          },
          "metadata": {
            "tags": []
          },
          "execution_count": 112
        }
      ]
    },
    {
      "cell_type": "code",
      "metadata": {
        "scrolled": true,
        "id": "V_-mEqXTNDb1",
        "colab_type": "code",
        "colab": {
          "base_uri": "https://localhost:8080/",
          "height": 204
        },
        "outputId": "629f15c0-0426-4246-cc85-c0f1e1b7c639"
      },
      "source": [
        "# top 5 hyperparameter sets\n",
        "hyperparameter_analysis(rnd_search_rf)"
      ],
      "execution_count": 113,
      "outputs": [
        {
          "output_type": "execute_result",
          "data": {
            "text/html": [
              "<div>\n",
              "<style scoped>\n",
              "    .dataframe tbody tr th:only-of-type {\n",
              "        vertical-align: middle;\n",
              "    }\n",
              "\n",
              "    .dataframe tbody tr th {\n",
              "        vertical-align: top;\n",
              "    }\n",
              "\n",
              "    .dataframe thead th {\n",
              "        text-align: right;\n",
              "    }\n",
              "</style>\n",
              "<table border=\"1\" class=\"dataframe\">\n",
              "  <thead>\n",
              "    <tr style=\"text-align: right;\">\n",
              "      <th></th>\n",
              "      <th>max_features</th>\n",
              "      <th>min_samples_split</th>\n",
              "      <th>n_estimators</th>\n",
              "      <th>train score in %</th>\n",
              "      <th>test score in %</th>\n",
              "      <th>test std in %</th>\n",
              "    </tr>\n",
              "  </thead>\n",
              "  <tbody>\n",
              "    <tr>\n",
              "      <th>1</th>\n",
              "      <td>12.0</td>\n",
              "      <td>16.0</td>\n",
              "      <td>132.0</td>\n",
              "      <td>85.562</td>\n",
              "      <td>83.626</td>\n",
              "      <td>3.236</td>\n",
              "    </tr>\n",
              "    <tr>\n",
              "      <th>1</th>\n",
              "      <td>12.0</td>\n",
              "      <td>20.0</td>\n",
              "      <td>130.0</td>\n",
              "      <td>85.317</td>\n",
              "      <td>83.626</td>\n",
              "      <td>3.236</td>\n",
              "    </tr>\n",
              "    <tr>\n",
              "      <th>3</th>\n",
              "      <td>8.0</td>\n",
              "      <td>20.0</td>\n",
              "      <td>141.0</td>\n",
              "      <td>85.289</td>\n",
              "      <td>83.517</td>\n",
              "      <td>3.468</td>\n",
              "    </tr>\n",
              "    <tr>\n",
              "      <th>4</th>\n",
              "      <td>11.0</td>\n",
              "      <td>21.0</td>\n",
              "      <td>57.0</td>\n",
              "      <td>85.289</td>\n",
              "      <td>83.299</td>\n",
              "      <td>3.538</td>\n",
              "    </tr>\n",
              "    <tr>\n",
              "      <th>5</th>\n",
              "      <td>11.0</td>\n",
              "      <td>18.0</td>\n",
              "      <td>121.0</td>\n",
              "      <td>85.399</td>\n",
              "      <td>83.298</td>\n",
              "      <td>3.494</td>\n",
              "    </tr>\n",
              "  </tbody>\n",
              "</table>\n",
              "</div>"
            ],
            "text/plain": [
              "   max_features  min_samples_split  ...  test score in %  test std in %\n",
              "1          12.0               16.0  ...           83.626          3.236\n",
              "1          12.0               20.0  ...           83.626          3.236\n",
              "3           8.0               20.0  ...           83.517          3.468\n",
              "4          11.0               21.0  ...           83.299          3.538\n",
              "5          11.0               18.0  ...           83.298          3.494\n",
              "\n",
              "[5 rows x 6 columns]"
            ]
          },
          "metadata": {
            "tags": []
          },
          "execution_count": 113
        }
      ]
    },
    {
      "cell_type": "code",
      "metadata": {
        "scrolled": true,
        "id": "ZfrX6NJFNDb-",
        "colab_type": "code",
        "colab": {
          "base_uri": "https://localhost:8080/",
          "height": 359
        },
        "outputId": "fd820563-a479-479f-99f1-6c65a02fd108"
      },
      "source": [
        "feature_importance(rnd_search_rf.best_estimator_, feature_names, 10)"
      ],
      "execution_count": 114,
      "outputs": [
        {
          "output_type": "execute_result",
          "data": {
            "text/html": [
              "<div>\n",
              "<style scoped>\n",
              "    .dataframe tbody tr th:only-of-type {\n",
              "        vertical-align: middle;\n",
              "    }\n",
              "\n",
              "    .dataframe tbody tr th {\n",
              "        vertical-align: top;\n",
              "    }\n",
              "\n",
              "    .dataframe thead th {\n",
              "        text-align: right;\n",
              "    }\n",
              "</style>\n",
              "<table border=\"1\" class=\"dataframe\">\n",
              "  <thead>\n",
              "    <tr style=\"text-align: right;\">\n",
              "      <th></th>\n",
              "      <th>feature importance in %</th>\n",
              "    </tr>\n",
              "  </thead>\n",
              "  <tbody>\n",
              "    <tr>\n",
              "      <th>sex_female</th>\n",
              "      <td>17.58</td>\n",
              "    </tr>\n",
              "    <tr>\n",
              "      <th>sex_male</th>\n",
              "      <td>16.21</td>\n",
              "    </tr>\n",
              "    <tr>\n",
              "      <th>Title_Mr</th>\n",
              "      <td>13.80</td>\n",
              "    </tr>\n",
              "    <tr>\n",
              "      <th>ticket_class_3.0</th>\n",
              "      <td>9.48</td>\n",
              "    </tr>\n",
              "    <tr>\n",
              "      <th>FamilySurvival_0.0</th>\n",
              "      <td>5.06</td>\n",
              "    </tr>\n",
              "    <tr>\n",
              "      <th>ticket_class_1.0</th>\n",
              "      <td>4.82</td>\n",
              "    </tr>\n",
              "    <tr>\n",
              "      <th>FamilySurvival_1.0</th>\n",
              "      <td>4.53</td>\n",
              "    </tr>\n",
              "    <tr>\n",
              "      <th>FamilySize_Small</th>\n",
              "      <td>3.02</td>\n",
              "    </tr>\n",
              "    <tr>\n",
              "      <th>FamilySize_Big</th>\n",
              "      <td>2.39</td>\n",
              "    </tr>\n",
              "    <tr>\n",
              "      <th>FareCat_1</th>\n",
              "      <td>2.03</td>\n",
              "    </tr>\n",
              "  </tbody>\n",
              "</table>\n",
              "</div>"
            ],
            "text/plain": [
              "                    feature importance in %\n",
              "sex_female                            17.58\n",
              "sex_male                              16.21\n",
              "Title_Mr                              13.80\n",
              "ticket_class_3.0                       9.48\n",
              "FamilySurvival_0.0                     5.06\n",
              "ticket_class_1.0                       4.82\n",
              "FamilySurvival_1.0                     4.53\n",
              "FamilySize_Small                       3.02\n",
              "FamilySize_Big                         2.39\n",
              "FareCat_1                              2.03"
            ]
          },
          "metadata": {
            "tags": []
          },
          "execution_count": 114
        }
      ]
    },
    {
      "cell_type": "code",
      "metadata": {
        "scrolled": true,
        "id": "zeltxUUBNDcM",
        "colab_type": "code",
        "colab": {
          "base_uri": "https://localhost:8080/",
          "height": 153
        },
        "outputId": "20a1ddf2-83ea-456c-da91-862f5fc02dfd"
      },
      "source": [
        "# set best estimator as final model\n",
        "final_rf_clf = rnd_search_rf.best_estimator_\n",
        "final_rf_clf"
      ],
      "execution_count": 115,
      "outputs": [
        {
          "output_type": "execute_result",
          "data": {
            "text/plain": [
              "RandomForestClassifier(bootstrap=True, ccp_alpha=0.0, class_weight=None,\n",
              "                       criterion='gini', max_depth=None, max_features=12,\n",
              "                       max_leaf_nodes=None, max_samples=None,\n",
              "                       min_impurity_decrease=0.0, min_impurity_split=None,\n",
              "                       min_samples_leaf=1, min_samples_split=16,\n",
              "                       min_weight_fraction_leaf=0.0, n_estimators=132,\n",
              "                       n_jobs=None, oob_score=False, random_state=42, verbose=0,\n",
              "                       warm_start=False)"
            ]
          },
          "metadata": {
            "tags": []
          },
          "execution_count": 115
        }
      ]
    },
    {
      "cell_type": "markdown",
      "metadata": {
        "id": "ia5BoeEUNDcT",
        "colab_type": "text"
      },
      "source": [
        "### RF: Predict training data for further evaluation"
      ]
    },
    {
      "cell_type": "code",
      "metadata": {
        "id": "qoiGmf_DNDcc",
        "colab_type": "code",
        "colab": {}
      },
      "source": [
        "y_train_pred_rf = final_rf_clf.predict(X_train)"
      ],
      "execution_count": 116,
      "outputs": []
    },
    {
      "cell_type": "code",
      "metadata": {
        "scrolled": true,
        "id": "Ff7KGiEXNDcs",
        "colab_type": "code",
        "colab": {
          "base_uri": "https://localhost:8080/",
          "height": 297
        },
        "outputId": "6536e613-4a88-47cc-e150-f245bde747f0"
      },
      "source": [
        "# Compute confusion matrix\n",
        "cnf_matrix = confusion_matrix(y_train, y_train_pred_rf)\n",
        "\n",
        "#plot confusion matrix\n",
        "cf=plot_confusion_matrix(cnf_matrix, ['died','survived'])"
      ],
      "execution_count": 117,
      "outputs": [
        {
          "output_type": "display_data",
          "data": {
            "image/png": "[encoded data removed]",
            "text/plain": [
              "<Figure size 432x288 with 1 Axes>"
            ]
          },
          "metadata": {
            "tags": [],
            "needs_background": "light"
          }
        }
      ]
    },
    {
      "cell_type": "code",
      "metadata": {
        "scrolled": false,
        "id": "UMMFApTNNDc6",
        "colab_type": "code",
        "colab": {
          "base_uri": "https://localhost:8080/",
          "height": 85
        },
        "outputId": "183cd53b-4dc8-46a3-a269-58d5fde55bab"
      },
      "source": [
        "# show metrics\n",
        "metric_scores(y_train, y_train_pred_rf)"
      ],
      "execution_count": 118,
      "outputs": [
        {
          "output_type": "stream",
          "text": [
            "precision: 0.887\n",
            "recall: 0.686\n",
            "F1_score: 0.773\n"
          ],
          "name": "stdout"
        },
        {
          "output_type": "execute_result",
          "data": {
            "text/plain": [
              "(0.88671875, 0.6858006042296072, 0.7734241908006814)"
            ]
          },
          "metadata": {
            "tags": []
          },
          "execution_count": 118
        }
      ]
    },
    {
      "cell_type": "markdown",
      "metadata": {
        "id": "mtdOnkZfNDdM",
        "colab_type": "text"
      },
      "source": [
        "### RF: Prediction for test dataset\n"
      ]
    },
    {
      "cell_type": "code",
      "metadata": {
        "scrolled": false,
        "id": "Ub79-ctfNDdM",
        "colab_type": "code",
        "colab": {}
      },
      "source": [
        "y_pred_rf = final_rf_clf.predict(X_test)"
      ],
      "execution_count": 119,
      "outputs": []
    },
    {
      "cell_type": "code",
      "metadata": {
        "scrolled": false,
        "id": "HGBIXvLiNDdV",
        "colab_type": "code",
        "colab": {
          "base_uri": "https://localhost:8080/",
          "height": 204
        },
        "outputId": "2067c6e4-be37-43fb-81a7-e357a6cbdd3f"
      },
      "source": [
        "survived_rf=pred_to_df(y_pred_rf)\n",
        "survived_rf.head()"
      ],
      "execution_count": 120,
      "outputs": [
        {
          "output_type": "execute_result",
          "data": {
            "text/html": [
              "<div>\n",
              "<style scoped>\n",
              "    .dataframe tbody tr th:only-of-type {\n",
              "        vertical-align: middle;\n",
              "    }\n",
              "\n",
              "    .dataframe tbody tr th {\n",
              "        vertical-align: top;\n",
              "    }\n",
              "\n",
              "    .dataframe thead th {\n",
              "        text-align: right;\n",
              "    }\n",
              "</style>\n",
              "<table border=\"1\" class=\"dataframe\">\n",
              "  <thead>\n",
              "    <tr style=\"text-align: right;\">\n",
              "      <th></th>\n",
              "      <th>traveller_ID</th>\n",
              "      <th>Survived</th>\n",
              "    </tr>\n",
              "  </thead>\n",
              "  <tbody>\n",
              "    <tr>\n",
              "      <th>0</th>\n",
              "      <td>1148</td>\n",
              "      <td>0</td>\n",
              "    </tr>\n",
              "    <tr>\n",
              "      <th>1</th>\n",
              "      <td>1049</td>\n",
              "      <td>0</td>\n",
              "    </tr>\n",
              "    <tr>\n",
              "      <th>2</th>\n",
              "      <td>982</td>\n",
              "      <td>0</td>\n",
              "    </tr>\n",
              "    <tr>\n",
              "      <th>3</th>\n",
              "      <td>808</td>\n",
              "      <td>0</td>\n",
              "    </tr>\n",
              "    <tr>\n",
              "      <th>4</th>\n",
              "      <td>1195</td>\n",
              "      <td>0</td>\n",
              "    </tr>\n",
              "  </tbody>\n",
              "</table>\n",
              "</div>"
            ],
            "text/plain": [
              "   traveller_ID  Survived\n",
              "0          1148         0\n",
              "1          1049         0\n",
              "2           982         0\n",
              "3           808         0\n",
              "4          1195         0"
            ]
          },
          "metadata": {
            "tags": []
          },
          "execution_count": 120
        }
      ]
    },
    {
      "cell_type": "code",
      "metadata": {
        "id": "QRS9xGFfNDdZ",
        "colab_type": "code",
        "colab": {}
      },
      "source": [
        "#save_to_csv(survived_rf,'survived_rf')\n",
        "survived_rf.to_csv('DSN_OnuigweVitus2.csv', index=False)"
      ],
      "execution_count": 121,
      "outputs": []
    },
    {
      "cell_type": "markdown",
      "metadata": {
        "id": "SZBUhWQJNDdl",
        "colab_type": "text"
      },
      "source": [
        "## B: Gradient Boosting Classifier <a id=\"GB\"></a>"
      ]
    },
    {
      "cell_type": "markdown",
      "metadata": {
        "id": "garflhudNDdm",
        "colab_type": "text"
      },
      "source": [
        "### GB: Modelling"
      ]
    },
    {
      "cell_type": "code",
      "metadata": {
        "scrolled": false,
        "id": "Of2Hk-NSNDdr",
        "colab_type": "code",
        "colab": {
          "base_uri": "https://localhost:8080/",
          "height": 394
        },
        "outputId": "f88f8cf5-7f4f-4c72-feed-babe4bc88c34"
      },
      "source": [
        "param_distribs = {\n",
        "        #'learning_rate': randint(low=0.1, high=0.1),\n",
        "        'max_depth': randint(low=1, high=5),\n",
        "        'n_estimators': randint(low=5, high=120),\n",
        "        'max_features': randint(low=5, high=15),\n",
        "    }\n",
        "\n",
        "gb_clf = GradientBoostingClassifier()\n",
        "rnd_search_gb = RandomizedSearchCV(gb_clf, param_distributions=param_distribs,\n",
        "                                n_iter=40, cv=5, scoring=\"accuracy\", random_state=42, return_train_score=True)\n",
        "rnd_search_gb.fit(X_train, y_train)"
      ],
      "execution_count": 122,
      "outputs": [
        {
          "output_type": "execute_result",
          "data": {
            "text/plain": [
              "RandomizedSearchCV(cv=5, error_score=nan,\n",
              "                   estimator=GradientBoostingClassifier(ccp_alpha=0.0,\n",
              "                                                        criterion='friedman_mse',\n",
              "                                                        init=None,\n",
              "                                                        learning_rate=0.1,\n",
              "                                                        loss='deviance',\n",
              "                                                        max_depth=3,\n",
              "                                                        max_features=None,\n",
              "                                                        max_leaf_nodes=None,\n",
              "                                                        min_impurity_decrease=0.0,\n",
              "                                                        min_impurity_split=None,\n",
              "                                                        min_samples_leaf=1,\n",
              "                                                        min_samples_split=2,\n",
              "                                                        min_weight_fraction_leaf=0.0,\n",
              "                                                        n_estimators=100,\n",
              "                                                        n_ite...\n",
              "                   param_distributions={'max_depth': <scipy.stats._distn_infrastructure.rv_frozen object at 0x7f111b673710>,\n",
              "                                        'max_features': <scipy.stats._distn_infrastructure.rv_frozen object at 0x7f111b6b0400>,\n",
              "                                        'n_estimators': <scipy.stats._distn_infrastructure.rv_frozen object at 0x7f111b65c128>},\n",
              "                   pre_dispatch='2*n_jobs', random_state=42, refit=True,\n",
              "                   return_train_score=True, scoring='accuracy', verbose=0)"
            ]
          },
          "metadata": {
            "tags": []
          },
          "execution_count": 122
        }
      ]
    },
    {
      "cell_type": "code",
      "metadata": {
        "scrolled": false,
        "id": "h7VAkTQfNDdw",
        "colab_type": "code",
        "colab": {
          "base_uri": "https://localhost:8080/",
          "height": 51
        },
        "outputId": "8cc37a03-edbe-4b68-f26d-6c9b6f136d28"
      },
      "source": [
        "# mean scores for training and validation model after cross-validation\n",
        "print('Mean training score:   ' + str((rnd_search_gb.cv_results_['mean_train_score'][rnd_search_gb.best_index_]*100).round(2)) +'% (' + str((rnd_search_gb.cv_results_['std_train_score'][0]*100).round(2)) + '%)')\n",
        "print('Mean validation score: ' + str((rnd_search_gb.cv_results_['mean_test_score'][rnd_search_gb.best_index_]*100).round(2)) +'% (' + str((rnd_search_gb.cv_results_['std_test_score'][0]*100).round(2)) + '%)')"
      ],
      "execution_count": 123,
      "outputs": [
        {
          "output_type": "stream",
          "text": [
            "Mean training score:   86.68% (0.79%)\n",
            "Mean validation score: 82.75% (2.86%)\n"
          ],
          "name": "stdout"
        }
      ]
    },
    {
      "cell_type": "code",
      "metadata": {
        "id": "qNAT4QTgNDd8",
        "colab_type": "code",
        "colab": {
          "base_uri": "https://localhost:8080/",
          "height": 153
        },
        "outputId": "79ae6162-6ace-4623-f86e-7b7ec0abec0f"
      },
      "source": [
        "rnd_search_gb.cv_results_['mean_train_score']"
      ],
      "execution_count": 124,
      "outputs": [
        {
          "output_type": "execute_result",
          "data": {
            "text/plain": [
              "array([0.85535079, 0.85098182, 0.83023953, 0.8599915 , 0.83488098,\n",
              "       0.79721968, 0.82832882, 0.85371257, 0.85125541, 0.82095811,\n",
              "       0.85616935, 0.8730906 , 0.8490726 , 0.83078523, 0.84061272,\n",
              "       0.79066491, 0.86599423, 0.82013918, 0.79284921, 0.86053609,\n",
              "       0.82150381, 0.84443152, 0.8021269 , 0.84088408, 0.83760949,\n",
              "       0.8283277 , 0.86681316, 0.82205213, 0.85425752, 0.85453187,\n",
              "       0.86927105, 0.83214837, 0.81112987, 0.81058715, 0.85234756,\n",
              "       0.85535042, 0.83078523, 0.85098219, 0.85453149, 0.83187664])"
            ]
          },
          "metadata": {
            "tags": []
          },
          "execution_count": 124
        }
      ]
    },
    {
      "cell_type": "code",
      "metadata": {
        "scrolled": true,
        "id": "Q0p9swl_NDeC",
        "colab_type": "code",
        "colab": {
          "base_uri": "https://localhost:8080/",
          "height": 142
        },
        "outputId": "7f91a62d-ab78-4ee0-f537-026b305d62b1"
      },
      "source": [
        "# set of optimized hyperparameters -> best model\n",
        "pd.DataFrame(rnd_search_gb.best_params_.items(), columns=['hyperparameter','value'])"
      ],
      "execution_count": 125,
      "outputs": [
        {
          "output_type": "execute_result",
          "data": {
            "text/html": [
              "<div>\n",
              "<style scoped>\n",
              "    .dataframe tbody tr th:only-of-type {\n",
              "        vertical-align: middle;\n",
              "    }\n",
              "\n",
              "    .dataframe tbody tr th {\n",
              "        vertical-align: top;\n",
              "    }\n",
              "\n",
              "    .dataframe thead th {\n",
              "        text-align: right;\n",
              "    }\n",
              "</style>\n",
              "<table border=\"1\" class=\"dataframe\">\n",
              "  <thead>\n",
              "    <tr style=\"text-align: right;\">\n",
              "      <th></th>\n",
              "      <th>hyperparameter</th>\n",
              "      <th>value</th>\n",
              "    </tr>\n",
              "  </thead>\n",
              "  <tbody>\n",
              "    <tr>\n",
              "      <th>0</th>\n",
              "      <td>max_depth</td>\n",
              "      <td>4</td>\n",
              "    </tr>\n",
              "    <tr>\n",
              "      <th>1</th>\n",
              "      <td>max_features</td>\n",
              "      <td>6</td>\n",
              "    </tr>\n",
              "    <tr>\n",
              "      <th>2</th>\n",
              "      <td>n_estimators</td>\n",
              "      <td>78</td>\n",
              "    </tr>\n",
              "  </tbody>\n",
              "</table>\n",
              "</div>"
            ],
            "text/plain": [
              "  hyperparameter  value\n",
              "0      max_depth      4\n",
              "1   max_features      6\n",
              "2   n_estimators     78"
            ]
          },
          "metadata": {
            "tags": []
          },
          "execution_count": 125
        }
      ]
    },
    {
      "cell_type": "code",
      "metadata": {
        "scrolled": true,
        "id": "rMlomwTSNDeN",
        "colab_type": "code",
        "colab": {
          "base_uri": "https://localhost:8080/",
          "height": 204
        },
        "outputId": "d1664533-3ca6-4fc6-8f79-4328d028da85"
      },
      "source": [
        "# top 5 hyperparameter sets\n",
        "hyperparameter_analysis(rnd_search_gb, 5)"
      ],
      "execution_count": 126,
      "outputs": [
        {
          "output_type": "execute_result",
          "data": {
            "text/html": [
              "<div>\n",
              "<style scoped>\n",
              "    .dataframe tbody tr th:only-of-type {\n",
              "        vertical-align: middle;\n",
              "    }\n",
              "\n",
              "    .dataframe tbody tr th {\n",
              "        vertical-align: top;\n",
              "    }\n",
              "\n",
              "    .dataframe thead th {\n",
              "        text-align: right;\n",
              "    }\n",
              "</style>\n",
              "<table border=\"1\" class=\"dataframe\">\n",
              "  <thead>\n",
              "    <tr style=\"text-align: right;\">\n",
              "      <th></th>\n",
              "      <th>max_depth</th>\n",
              "      <th>max_features</th>\n",
              "      <th>n_estimators</th>\n",
              "      <th>train score in %</th>\n",
              "      <th>test score in %</th>\n",
              "      <th>test std in %</th>\n",
              "    </tr>\n",
              "  </thead>\n",
              "  <tbody>\n",
              "    <tr>\n",
              "      <th>1</th>\n",
              "      <td>4.0</td>\n",
              "      <td>6.0</td>\n",
              "      <td>78.0</td>\n",
              "      <td>86.681</td>\n",
              "      <td>82.753</td>\n",
              "      <td>3.012</td>\n",
              "    </tr>\n",
              "    <tr>\n",
              "      <th>2</th>\n",
              "      <td>4.0</td>\n",
              "      <td>7.0</td>\n",
              "      <td>112.0</td>\n",
              "      <td>87.309</td>\n",
              "      <td>82.644</td>\n",
              "      <td>2.799</td>\n",
              "    </tr>\n",
              "    <tr>\n",
              "      <th>3</th>\n",
              "      <td>3.0</td>\n",
              "      <td>12.0</td>\n",
              "      <td>65.0</td>\n",
              "      <td>85.098</td>\n",
              "      <td>82.423</td>\n",
              "      <td>2.597</td>\n",
              "    </tr>\n",
              "    <tr>\n",
              "      <th>4</th>\n",
              "      <td>4.0</td>\n",
              "      <td>9.0</td>\n",
              "      <td>84.0</td>\n",
              "      <td>86.927</td>\n",
              "      <td>82.316</td>\n",
              "      <td>2.630</td>\n",
              "    </tr>\n",
              "    <tr>\n",
              "      <th>5</th>\n",
              "      <td>3.0</td>\n",
              "      <td>13.0</td>\n",
              "      <td>66.0</td>\n",
              "      <td>85.453</td>\n",
              "      <td>82.315</td>\n",
              "      <td>2.814</td>\n",
              "    </tr>\n",
              "  </tbody>\n",
              "</table>\n",
              "</div>"
            ],
            "text/plain": [
              "   max_depth  max_features  ...  test score in %  test std in %\n",
              "1        4.0           6.0  ...           82.753          3.012\n",
              "2        4.0           7.0  ...           82.644          2.799\n",
              "3        3.0          12.0  ...           82.423          2.597\n",
              "4        4.0           9.0  ...           82.316          2.630\n",
              "5        3.0          13.0  ...           82.315          2.814\n",
              "\n",
              "[5 rows x 6 columns]"
            ]
          },
          "metadata": {
            "tags": []
          },
          "execution_count": 126
        }
      ]
    },
    {
      "cell_type": "code",
      "metadata": {
        "scrolled": false,
        "id": "Pud-dILyNDeX",
        "colab_type": "code",
        "colab": {
          "base_uri": "https://localhost:8080/",
          "height": 359
        },
        "outputId": "8914f81e-a3d0-40e9-e9e9-6594aebedc88"
      },
      "source": [
        "# top 10 important features\n",
        "feature_importance(rnd_search_gb.best_estimator_, feature_names, 10)"
      ],
      "execution_count": 127,
      "outputs": [
        {
          "output_type": "execute_result",
          "data": {
            "text/html": [
              "<div>\n",
              "<style scoped>\n",
              "    .dataframe tbody tr th:only-of-type {\n",
              "        vertical-align: middle;\n",
              "    }\n",
              "\n",
              "    .dataframe tbody tr th {\n",
              "        vertical-align: top;\n",
              "    }\n",
              "\n",
              "    .dataframe thead th {\n",
              "        text-align: right;\n",
              "    }\n",
              "</style>\n",
              "<table border=\"1\" class=\"dataframe\">\n",
              "  <thead>\n",
              "    <tr style=\"text-align: right;\">\n",
              "      <th></th>\n",
              "      <th>feature importance in %</th>\n",
              "    </tr>\n",
              "  </thead>\n",
              "  <tbody>\n",
              "    <tr>\n",
              "      <th>Title_Mr</th>\n",
              "      <td>23.62</td>\n",
              "    </tr>\n",
              "    <tr>\n",
              "      <th>sex_male</th>\n",
              "      <td>10.18</td>\n",
              "    </tr>\n",
              "    <tr>\n",
              "      <th>sex_female</th>\n",
              "      <td>7.67</td>\n",
              "    </tr>\n",
              "    <tr>\n",
              "      <th>ticket_class_1.0</th>\n",
              "      <td>7.50</td>\n",
              "    </tr>\n",
              "    <tr>\n",
              "      <th>FamilySurvival_0.0</th>\n",
              "      <td>5.93</td>\n",
              "    </tr>\n",
              "    <tr>\n",
              "      <th>ticket_class_3.0</th>\n",
              "      <td>5.41</td>\n",
              "    </tr>\n",
              "    <tr>\n",
              "      <th>FamilySize_Small</th>\n",
              "      <td>4.98</td>\n",
              "    </tr>\n",
              "    <tr>\n",
              "      <th>Title_Miss</th>\n",
              "      <td>4.20</td>\n",
              "    </tr>\n",
              "    <tr>\n",
              "      <th>FamilySurvival_1.0</th>\n",
              "      <td>3.77</td>\n",
              "    </tr>\n",
              "    <tr>\n",
              "      <th>FareCat_7</th>\n",
              "      <td>3.58</td>\n",
              "    </tr>\n",
              "  </tbody>\n",
              "</table>\n",
              "</div>"
            ],
            "text/plain": [
              "                    feature importance in %\n",
              "Title_Mr                              23.62\n",
              "sex_male                              10.18\n",
              "sex_female                             7.67\n",
              "ticket_class_1.0                       7.50\n",
              "FamilySurvival_0.0                     5.93\n",
              "ticket_class_3.0                       5.41\n",
              "FamilySize_Small                       4.98\n",
              "Title_Miss                             4.20\n",
              "FamilySurvival_1.0                     3.77\n",
              "FareCat_7                              3.58"
            ]
          },
          "metadata": {
            "tags": []
          },
          "execution_count": 127
        }
      ]
    },
    {
      "cell_type": "code",
      "metadata": {
        "id": "hecyP1DhNDei",
        "colab_type": "code",
        "colab": {
          "base_uri": "https://localhost:8080/",
          "height": 187
        },
        "outputId": "41e31e64-07e4-4381-b062-234b11c90c53"
      },
      "source": [
        "# set best estimator as final model\n",
        "final_gb_clf = rnd_search_gb.best_estimator_\n",
        "final_gb_clf"
      ],
      "execution_count": 128,
      "outputs": [
        {
          "output_type": "execute_result",
          "data": {
            "text/plain": [
              "GradientBoostingClassifier(ccp_alpha=0.0, criterion='friedman_mse', init=None,\n",
              "                           learning_rate=0.1, loss='deviance', max_depth=4,\n",
              "                           max_features=6, max_leaf_nodes=None,\n",
              "                           min_impurity_decrease=0.0, min_impurity_split=None,\n",
              "                           min_samples_leaf=1, min_samples_split=2,\n",
              "                           min_weight_fraction_leaf=0.0, n_estimators=78,\n",
              "                           n_iter_no_change=None, presort='deprecated',\n",
              "                           random_state=None, subsample=1.0, tol=0.0001,\n",
              "                           validation_fraction=0.1, verbose=0,\n",
              "                           warm_start=False)"
            ]
          },
          "metadata": {
            "tags": []
          },
          "execution_count": 128
        }
      ]
    },
    {
      "cell_type": "markdown",
      "metadata": {
        "id": "7lOAEjAcNDep",
        "colab_type": "text"
      },
      "source": [
        "### GB: Predict training data for further evaluation"
      ]
    },
    {
      "cell_type": "code",
      "metadata": {
        "id": "gYqaq4roNDeq",
        "colab_type": "code",
        "colab": {}
      },
      "source": [
        "y_train_pred_gb = final_gb_clf.predict(X_train)"
      ],
      "execution_count": 129,
      "outputs": []
    },
    {
      "cell_type": "code",
      "metadata": {
        "id": "NAqJVEz_NDew",
        "colab_type": "code",
        "colab": {
          "base_uri": "https://localhost:8080/",
          "height": 297
        },
        "outputId": "cd68fa8d-3e3f-43ae-e16d-f37ddc44f041"
      },
      "source": [
        "# Compute confusion matrix\n",
        "cnf_matrix = confusion_matrix(y_train, y_train_pred_gb)\n",
        "\n",
        "#plot confusion matrix\n",
        "plot_confusion_matrix(cnf_matrix, ['died','survived'])"
      ],
      "execution_count": 130,
      "outputs": [
        {
          "output_type": "display_data",
          "data": {
            "image/png": "[encoded data removed]",
            "text/plain": [
              "<Figure size 432x288 with 1 Axes>"
            ]
          },
          "metadata": {
            "tags": [],
            "needs_background": "light"
          }
        }
      ]
    },
    {
      "cell_type": "code",
      "metadata": {
        "scrolled": true,
        "id": "1zddqTKbNDe5",
        "colab_type": "code",
        "colab": {
          "base_uri": "https://localhost:8080/",
          "height": 85
        },
        "outputId": "7348eb3a-4e78-4af2-892e-07721f5c5b1b"
      },
      "source": [
        "# show metrics\n",
        "metric_scores(y_train, y_train_pred_gb)"
      ],
      "execution_count": 131,
      "outputs": [
        {
          "output_type": "stream",
          "text": [
            "precision: 0.896\n",
            "recall: 0.704\n",
            "F1_score: 0.788\n"
          ],
          "name": "stdout"
        },
        {
          "output_type": "execute_result",
          "data": {
            "text/plain": [
              "(0.8961538461538462, 0.7039274924471299, 0.7884940778341795)"
            ]
          },
          "metadata": {
            "tags": []
          },
          "execution_count": 131
        }
      ]
    },
    {
      "cell_type": "markdown",
      "metadata": {
        "id": "6tGqvlkgNDe_",
        "colab_type": "text"
      },
      "source": [
        "### GB: Prediction for test dataset\n"
      ]
    },
    {
      "cell_type": "code",
      "metadata": {
        "scrolled": false,
        "id": "Ae7A6_caNDfA",
        "colab_type": "code",
        "colab": {}
      },
      "source": [
        "y_pred_gb = final_gb_clf.predict(X_test)"
      ],
      "execution_count": 132,
      "outputs": []
    },
    {
      "cell_type": "code",
      "metadata": {
        "scrolled": false,
        "id": "oZAjKk51NDfE",
        "colab_type": "code",
        "colab": {
          "base_uri": "https://localhost:8080/",
          "height": 204
        },
        "outputId": "db6c3c14-217f-4ebc-b2e6-0b6fe7f98633"
      },
      "source": [
        "survived_gb=pred_to_df(y_pred_gb)\n",
        "survived_gb.head()"
      ],
      "execution_count": 133,
      "outputs": [
        {
          "output_type": "execute_result",
          "data": {
            "text/html": [
              "<div>\n",
              "<style scoped>\n",
              "    .dataframe tbody tr th:only-of-type {\n",
              "        vertical-align: middle;\n",
              "    }\n",
              "\n",
              "    .dataframe tbody tr th {\n",
              "        vertical-align: top;\n",
              "    }\n",
              "\n",
              "    .dataframe thead th {\n",
              "        text-align: right;\n",
              "    }\n",
              "</style>\n",
              "<table border=\"1\" class=\"dataframe\">\n",
              "  <thead>\n",
              "    <tr style=\"text-align: right;\">\n",
              "      <th></th>\n",
              "      <th>traveller_ID</th>\n",
              "      <th>Survived</th>\n",
              "    </tr>\n",
              "  </thead>\n",
              "  <tbody>\n",
              "    <tr>\n",
              "      <th>0</th>\n",
              "      <td>1148</td>\n",
              "      <td>0</td>\n",
              "    </tr>\n",
              "    <tr>\n",
              "      <th>1</th>\n",
              "      <td>1049</td>\n",
              "      <td>0</td>\n",
              "    </tr>\n",
              "    <tr>\n",
              "      <th>2</th>\n",
              "      <td>982</td>\n",
              "      <td>0</td>\n",
              "    </tr>\n",
              "    <tr>\n",
              "      <th>3</th>\n",
              "      <td>808</td>\n",
              "      <td>0</td>\n",
              "    </tr>\n",
              "    <tr>\n",
              "      <th>4</th>\n",
              "      <td>1195</td>\n",
              "      <td>0</td>\n",
              "    </tr>\n",
              "  </tbody>\n",
              "</table>\n",
              "</div>"
            ],
            "text/plain": [
              "   traveller_ID  Survived\n",
              "0          1148         0\n",
              "1          1049         0\n",
              "2           982         0\n",
              "3           808         0\n",
              "4          1195         0"
            ]
          },
          "metadata": {
            "tags": []
          },
          "execution_count": 133
        }
      ]
    },
    {
      "cell_type": "code",
      "metadata": {
        "id": "27BWKIKUNDfQ",
        "colab_type": "code",
        "colab": {}
      },
      "source": [
        "#save_to_csv(survived_gb,'survived_gb')\n",
        "survived_gb.to_csv('DSN_OnuigweVitus3.csv', index=False)"
      ],
      "execution_count": 134,
      "outputs": []
    },
    {
      "cell_type": "markdown",
      "metadata": {
        "id": "Iqz0lYOVNDfV",
        "colab_type": "text"
      },
      "source": [
        "## End \n",
        "An Insight from Data Science Nigeria and Dante from kaggle"
      ]
    }
  ]
}